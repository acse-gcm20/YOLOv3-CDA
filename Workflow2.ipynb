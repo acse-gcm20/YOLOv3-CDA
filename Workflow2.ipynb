{
  "nbformat": 4,
  "nbformat_minor": 0,
  "metadata": {
    "accelerator": "GPU",
    "colab": {
      "name": "pytorchyolo.ipynb",
      "provenance": [],
      "collapsed_sections": [],
      "mount_file_id": "1-a4WvjOl65vuhfQds4nuM0WXNay3s_q3",
      "authorship_tag": "ABX9TyNjN6tYDyE4kj3hbOJIsPCL",
      "include_colab_link": true
    },
    "kernelspec": {
      "display_name": "Python 3",
      "name": "python3"
    },
    "language_info": {
      "name": "python"
    }
  },
  "cells": [
    {
      "cell_type": "markdown",
      "metadata": {
        "id": "view-in-github",
        "colab_type": "text"
      },
      "source": [
        "<a href=\"https://colab.research.google.com/github/acse-gcm20/YOLOv3-CDA/blob/master/Workflow2.ipynb\" target=\"_parent\"><img src=\"https://colab.research.google.com/assets/colab-badge.svg\" alt=\"Open In Colab\"/></a>"
      ]
    },
    {
      "cell_type": "markdown",
      "metadata": {
        "id": "dBcFRGmAhOLz"
      },
      "source": [
        "# YOLOv3 Crater Detection Algorithm Workflow\n",
        "---\n",
        "### Giles Matthews"
      ]
    },
    {
      "cell_type": "markdown",
      "metadata": {
        "id": "zf-XdP7WhcgS"
      },
      "source": [
        "## Setup"
      ]
    },
    {
      "cell_type": "code",
      "metadata": {
        "colab": {
          "base_uri": "https://localhost:8080/",
          "height": 1000
        },
        "id": "zwNl1DT7IPbx",
        "outputId": "ab9829cb-f64c-402b-aa31-28e0ba5c9e9c"
      },
      "source": [
        "print(\"---  Cloning repository  ---\\n\")\n",
        "! git clone https://github.com/acse-gcm20/YOLOv3-CDA\n",
        "print(\"\\n---  Installing dependencies  ---\\n\")\n",
        "! pip install -r /content/YOLOv3-CDA/requirements.txt\n",
        "print(\"\\nNow restart the Runtime before proceeding\")"
      ],
      "execution_count": 1,
      "outputs": [
        {
          "output_type": "stream",
          "text": [
            "---  Cloning repository  ---\n",
            "\n",
            "Cloning into 'YOLOv3-CDA'...\n",
            "remote: Enumerating objects: 9270, done.\u001b[K\n",
            "remote: Counting objects: 100% (307/307), done.\u001b[K\n",
            "remote: Compressing objects: 100% (247/247), done.\u001b[K\n",
            "remote: Total 9270 (delta 126), reused 239 (delta 59), pack-reused 8963\u001b[K\n",
            "Receiving objects: 100% (9270/9270), 394.78 MiB | 17.34 MiB/s, done.\n",
            "Resolving deltas: 100% (1261/1261), done.\n",
            "Checking out files: 100% (7297/7297), done.\n",
            "\n",
            "---  Installing dependencies  ---\n",
            "\n",
            "Requirement already satisfied: numpy==1.19.5 in /usr/local/lib/python3.7/dist-packages (from -r /content/YOLOv3-CDA/requirements.txt (line 1)) (1.19.5)\n",
            "Requirement already satisfied: torch in /usr/local/lib/python3.7/dist-packages (from -r /content/YOLOv3-CDA/requirements.txt (line 2)) (1.9.0+cu102)\n",
            "Requirement already satisfied: torchvision in /usr/local/lib/python3.7/dist-packages (from -r /content/YOLOv3-CDA/requirements.txt (line 3)) (0.10.0+cu102)\n",
            "Collecting matplotlib==3.3.3\n",
            "\u001b[?25l  Downloading https://files.pythonhosted.org/packages/30/f2/10c822cb0ca5ebec58bd1892187bc3e3db64a867ac26531c6204663fc218/matplotlib-3.3.3-cp37-cp37m-manylinux1_x86_64.whl (11.6MB)\n",
            "\u001b[K     |████████████████████████████████| 11.6MB 7.7MB/s \n",
            "\u001b[?25hCollecting tensorboard==2.4.0\n",
            "\u001b[?25l  Downloading https://files.pythonhosted.org/packages/02/83/179c8f76e5716030cc3ee9433721161cfcc1d854e9ba20c9205180bb100a/tensorboard-2.4.0-py3-none-any.whl (10.6MB)\n",
            "\u001b[K     |████████████████████████████████| 10.6MB 32.7MB/s \n",
            "\u001b[?25hCollecting terminaltables==3.1.0\n",
            "  Downloading https://files.pythonhosted.org/packages/9b/c4/4a21174f32f8a7e1104798c445dacdc1d4df86f2f26722767034e4de4bff/terminaltables-3.1.0.tar.gz\n",
            "Collecting Pillow==8.1.0\n",
            "\u001b[?25l  Downloading https://files.pythonhosted.org/packages/eb/8e/d2f7a67cf8da9b83c1e3ee38dbf49448f3c8acb2cb38f76e4301f4a70223/Pillow-8.1.0-cp37-cp37m-manylinux1_x86_64.whl (2.2MB)\n",
            "\u001b[K     |████████████████████████████████| 2.2MB 26.8MB/s \n",
            "\u001b[?25hCollecting tqdm==4.55.1\n",
            "\u001b[?25l  Downloading https://files.pythonhosted.org/packages/ac/a2/1fc6ceff232a4755fa85e2bd3aaca1145c3103b298000129381309995072/tqdm-4.55.1-py2.py3-none-any.whl (68kB)\n",
            "\u001b[K     |████████████████████████████████| 71kB 7.9MB/s \n",
            "\u001b[?25hCollecting imgaug==0.4.0\n",
            "\u001b[?25l  Downloading https://files.pythonhosted.org/packages/66/b1/af3142c4a85cba6da9f4ebb5ff4e21e2616309552caca5e8acefe9840622/imgaug-0.4.0-py2.py3-none-any.whl (948kB)\n",
            "\u001b[K     |████████████████████████████████| 952kB 36.6MB/s \n",
            "\u001b[?25hRequirement already satisfied: torchsummary==1.5.1 in /usr/local/lib/python3.7/dist-packages (from -r /content/YOLOv3-CDA/requirements.txt (line 10)) (1.5.1)\n",
            "Requirement already satisfied: typing-extensions in /usr/local/lib/python3.7/dist-packages (from torch->-r /content/YOLOv3-CDA/requirements.txt (line 2)) (3.7.4.3)\n",
            "Requirement already satisfied: pyparsing!=2.0.4,!=2.1.2,!=2.1.6,>=2.0.3 in /usr/local/lib/python3.7/dist-packages (from matplotlib==3.3.3->-r /content/YOLOv3-CDA/requirements.txt (line 4)) (2.4.7)\n",
            "Requirement already satisfied: cycler>=0.10 in /usr/local/lib/python3.7/dist-packages (from matplotlib==3.3.3->-r /content/YOLOv3-CDA/requirements.txt (line 4)) (0.10.0)\n",
            "Requirement already satisfied: kiwisolver>=1.0.1 in /usr/local/lib/python3.7/dist-packages (from matplotlib==3.3.3->-r /content/YOLOv3-CDA/requirements.txt (line 4)) (1.3.1)\n",
            "Requirement already satisfied: python-dateutil>=2.1 in /usr/local/lib/python3.7/dist-packages (from matplotlib==3.3.3->-r /content/YOLOv3-CDA/requirements.txt (line 4)) (2.8.1)\n",
            "Requirement already satisfied: six>=1.10.0 in /usr/local/lib/python3.7/dist-packages (from tensorboard==2.4.0->-r /content/YOLOv3-CDA/requirements.txt (line 5)) (1.15.0)\n",
            "Requirement already satisfied: tensorboard-plugin-wit>=1.6.0 in /usr/local/lib/python3.7/dist-packages (from tensorboard==2.4.0->-r /content/YOLOv3-CDA/requirements.txt (line 5)) (1.8.0)\n",
            "Requirement already satisfied: google-auth-oauthlib<0.5,>=0.4.1 in /usr/local/lib/python3.7/dist-packages (from tensorboard==2.4.0->-r /content/YOLOv3-CDA/requirements.txt (line 5)) (0.4.4)\n",
            "Requirement already satisfied: markdown>=2.6.8 in /usr/local/lib/python3.7/dist-packages (from tensorboard==2.4.0->-r /content/YOLOv3-CDA/requirements.txt (line 5)) (3.3.4)\n",
            "Requirement already satisfied: google-auth<2,>=1.6.3 in /usr/local/lib/python3.7/dist-packages (from tensorboard==2.4.0->-r /content/YOLOv3-CDA/requirements.txt (line 5)) (1.32.1)\n",
            "Requirement already satisfied: requests<3,>=2.21.0 in /usr/local/lib/python3.7/dist-packages (from tensorboard==2.4.0->-r /content/YOLOv3-CDA/requirements.txt (line 5)) (2.23.0)\n",
            "Requirement already satisfied: wheel>=0.26; python_version >= \"3\" in /usr/local/lib/python3.7/dist-packages (from tensorboard==2.4.0->-r /content/YOLOv3-CDA/requirements.txt (line 5)) (0.36.2)\n",
            "Requirement already satisfied: werkzeug>=0.11.15 in /usr/local/lib/python3.7/dist-packages (from tensorboard==2.4.0->-r /content/YOLOv3-CDA/requirements.txt (line 5)) (1.0.1)\n",
            "Requirement already satisfied: protobuf>=3.6.0 in /usr/local/lib/python3.7/dist-packages (from tensorboard==2.4.0->-r /content/YOLOv3-CDA/requirements.txt (line 5)) (3.17.3)\n",
            "Requirement already satisfied: grpcio>=1.24.3 in /usr/local/lib/python3.7/dist-packages (from tensorboard==2.4.0->-r /content/YOLOv3-CDA/requirements.txt (line 5)) (1.34.1)\n",
            "Requirement already satisfied: setuptools>=41.0.0 in /usr/local/lib/python3.7/dist-packages (from tensorboard==2.4.0->-r /content/YOLOv3-CDA/requirements.txt (line 5)) (57.0.0)\n",
            "Requirement already satisfied: absl-py>=0.4 in /usr/local/lib/python3.7/dist-packages (from tensorboard==2.4.0->-r /content/YOLOv3-CDA/requirements.txt (line 5)) (0.12.0)\n",
            "Requirement already satisfied: scipy in /usr/local/lib/python3.7/dist-packages (from imgaug==0.4.0->-r /content/YOLOv3-CDA/requirements.txt (line 9)) (1.4.1)\n",
            "Requirement already satisfied: scikit-image>=0.14.2 in /usr/local/lib/python3.7/dist-packages (from imgaug==0.4.0->-r /content/YOLOv3-CDA/requirements.txt (line 9)) (0.16.2)\n",
            "Requirement already satisfied: opencv-python in /usr/local/lib/python3.7/dist-packages (from imgaug==0.4.0->-r /content/YOLOv3-CDA/requirements.txt (line 9)) (4.1.2.30)\n",
            "Requirement already satisfied: imageio in /usr/local/lib/python3.7/dist-packages (from imgaug==0.4.0->-r /content/YOLOv3-CDA/requirements.txt (line 9)) (2.4.1)\n",
            "Requirement already satisfied: Shapely in /usr/local/lib/python3.7/dist-packages (from imgaug==0.4.0->-r /content/YOLOv3-CDA/requirements.txt (line 9)) (1.7.1)\n",
            "Requirement already satisfied: requests-oauthlib>=0.7.0 in /usr/local/lib/python3.7/dist-packages (from google-auth-oauthlib<0.5,>=0.4.1->tensorboard==2.4.0->-r /content/YOLOv3-CDA/requirements.txt (line 5)) (1.3.0)\n",
            "Requirement already satisfied: importlib-metadata; python_version < \"3.8\" in /usr/local/lib/python3.7/dist-packages (from markdown>=2.6.8->tensorboard==2.4.0->-r /content/YOLOv3-CDA/requirements.txt (line 5)) (4.6.0)\n",
            "Requirement already satisfied: cachetools<5.0,>=2.0.0 in /usr/local/lib/python3.7/dist-packages (from google-auth<2,>=1.6.3->tensorboard==2.4.0->-r /content/YOLOv3-CDA/requirements.txt (line 5)) (4.2.2)\n",
            "Requirement already satisfied: rsa<5,>=3.1.4; python_version >= \"3.6\" in /usr/local/lib/python3.7/dist-packages (from google-auth<2,>=1.6.3->tensorboard==2.4.0->-r /content/YOLOv3-CDA/requirements.txt (line 5)) (4.7.2)\n",
            "Requirement already satisfied: pyasn1-modules>=0.2.1 in /usr/local/lib/python3.7/dist-packages (from google-auth<2,>=1.6.3->tensorboard==2.4.0->-r /content/YOLOv3-CDA/requirements.txt (line 5)) (0.2.8)\n",
            "Requirement already satisfied: certifi>=2017.4.17 in /usr/local/lib/python3.7/dist-packages (from requests<3,>=2.21.0->tensorboard==2.4.0->-r /content/YOLOv3-CDA/requirements.txt (line 5)) (2021.5.30)\n",
            "Requirement already satisfied: idna<3,>=2.5 in /usr/local/lib/python3.7/dist-packages (from requests<3,>=2.21.0->tensorboard==2.4.0->-r /content/YOLOv3-CDA/requirements.txt (line 5)) (2.10)\n",
            "Requirement already satisfied: chardet<4,>=3.0.2 in /usr/local/lib/python3.7/dist-packages (from requests<3,>=2.21.0->tensorboard==2.4.0->-r /content/YOLOv3-CDA/requirements.txt (line 5)) (3.0.4)\n",
            "Requirement already satisfied: urllib3!=1.25.0,!=1.25.1,<1.26,>=1.21.1 in /usr/local/lib/python3.7/dist-packages (from requests<3,>=2.21.0->tensorboard==2.4.0->-r /content/YOLOv3-CDA/requirements.txt (line 5)) (1.24.3)\n",
            "Requirement already satisfied: networkx>=2.0 in /usr/local/lib/python3.7/dist-packages (from scikit-image>=0.14.2->imgaug==0.4.0->-r /content/YOLOv3-CDA/requirements.txt (line 9)) (2.5.1)\n",
            "Requirement already satisfied: PyWavelets>=0.4.0 in /usr/local/lib/python3.7/dist-packages (from scikit-image>=0.14.2->imgaug==0.4.0->-r /content/YOLOv3-CDA/requirements.txt (line 9)) (1.1.1)\n",
            "Requirement already satisfied: oauthlib>=3.0.0 in /usr/local/lib/python3.7/dist-packages (from requests-oauthlib>=0.7.0->google-auth-oauthlib<0.5,>=0.4.1->tensorboard==2.4.0->-r /content/YOLOv3-CDA/requirements.txt (line 5)) (3.1.1)\n",
            "Requirement already satisfied: zipp>=0.5 in /usr/local/lib/python3.7/dist-packages (from importlib-metadata; python_version < \"3.8\"->markdown>=2.6.8->tensorboard==2.4.0->-r /content/YOLOv3-CDA/requirements.txt (line 5)) (3.4.1)\n",
            "Requirement already satisfied: pyasn1>=0.1.3 in /usr/local/lib/python3.7/dist-packages (from rsa<5,>=3.1.4; python_version >= \"3.6\"->google-auth<2,>=1.6.3->tensorboard==2.4.0->-r /content/YOLOv3-CDA/requirements.txt (line 5)) (0.4.8)\n",
            "Requirement already satisfied: decorator<5,>=4.3 in /usr/local/lib/python3.7/dist-packages (from networkx>=2.0->scikit-image>=0.14.2->imgaug==0.4.0->-r /content/YOLOv3-CDA/requirements.txt (line 9)) (4.4.2)\n",
            "Building wheels for collected packages: terminaltables\n",
            "  Building wheel for terminaltables (setup.py) ... \u001b[?25l\u001b[?25hdone\n",
            "  Created wheel for terminaltables: filename=terminaltables-3.1.0-cp37-none-any.whl size=15356 sha256=5bdd7f31ae52d974d90232a013489e58b2583726d4081c8e89241d9901c01d74\n",
            "  Stored in directory: /root/.cache/pip/wheels/30/6b/50/6c75775b681fb36cdfac7f19799888ef9d8813aff9e379663e\n",
            "Successfully built terminaltables\n",
            "\u001b[31mERROR: tensorflow 2.5.0 has requirement tensorboard~=2.5, but you'll have tensorboard 2.4.0 which is incompatible.\u001b[0m\n",
            "\u001b[31mERROR: albumentations 0.1.12 has requirement imgaug<0.2.7,>=0.2.5, but you'll have imgaug 0.4.0 which is incompatible.\u001b[0m\n",
            "Installing collected packages: Pillow, matplotlib, tensorboard, terminaltables, tqdm, imgaug\n",
            "  Found existing installation: Pillow 7.1.2\n",
            "    Uninstalling Pillow-7.1.2:\n",
            "      Successfully uninstalled Pillow-7.1.2\n",
            "  Found existing installation: matplotlib 3.2.2\n",
            "    Uninstalling matplotlib-3.2.2:\n",
            "      Successfully uninstalled matplotlib-3.2.2\n",
            "  Found existing installation: tensorboard 2.5.0\n",
            "    Uninstalling tensorboard-2.5.0:\n",
            "      Successfully uninstalled tensorboard-2.5.0\n",
            "  Found existing installation: tqdm 4.41.1\n",
            "    Uninstalling tqdm-4.41.1:\n",
            "      Successfully uninstalled tqdm-4.41.1\n",
            "  Found existing installation: imgaug 0.2.9\n",
            "    Uninstalling imgaug-0.2.9:\n",
            "      Successfully uninstalled imgaug-0.2.9\n",
            "Successfully installed Pillow-8.1.0 imgaug-0.4.0 matplotlib-3.3.3 tensorboard-2.4.0 terminaltables-3.1.0 tqdm-4.55.1\n"
          ],
          "name": "stdout"
        },
        {
          "output_type": "display_data",
          "data": {
            "application/vnd.colab-display-data+json": {
              "pip_warning": {
                "packages": [
                  "PIL",
                  "matplotlib",
                  "mpl_toolkits"
                ]
              }
            }
          },
          "metadata": {
            "tags": []
          }
        },
        {
          "output_type": "stream",
          "text": [
            "\n",
            "Now restart the Runtime before proceeding\n"
          ],
          "name": "stdout"
        }
      ]
    },
    {
      "cell_type": "code",
      "metadata": {
        "colab": {
          "base_uri": "https://localhost:8080/"
        },
        "id": "Rx1gbeTAFZ-_",
        "outputId": "ff53d88a-2281-49ec-de3c-ed932c455e42"
      },
      "source": [
        "%cd /content/YOLOv3-CDA\n",
        "\n",
        "import os\n",
        "import torch\n",
        "import matplotlib.pyplot as plt\n",
        "import numpy as np\n",
        "from google.colab import files\n",
        "from sklearn.metrics import auc\n",
        "\n",
        "from pytorchyolo.train import run\n",
        "from pytorchyolo.test import evaluate_model_file\n",
        "from pytorchyolo.detect import detect_directory\n",
        "\n",
        "# Utility function to write lists to a text file\n",
        "def list_to_file(list_array, filename):\n",
        "    dims = len(np.shape(list_array))\n",
        "    \n",
        "    if dims == 1:\n",
        "        rows = len(list_array)\n",
        "        cols = 1\n",
        "    else:\n",
        "        rows = len(list_array[0])\n",
        "        cols = len(list_array)\n",
        "\n",
        "    with open(filename, 'w') as f:\n",
        "        for row in range(rows):\n",
        "            vals = [list_array[col][row] for col in range(cols)]\n",
        "            f.write((\"{} \"*cols+'\\n').format(*vals))\n",
        "\n",
        "# Statistics utility functions\n",
        "def plot_stats(stats_file):\n",
        "    training_losses = []\n",
        "    validation_losses = []\n",
        "    precision_vals = []\n",
        "    recall_vals = []\n",
        "\n",
        "    with open(stats_file) as f:\n",
        "        for line in f:\n",
        "            tl, vl, precision, recall = line.rstrip(\"\\n\").split()\n",
        "            training_losses.append(float(tl))\n",
        "            validation_losses.append(float(vl))\n",
        "            precision_vals.append(float(precision))\n",
        "            recall_vals.append(float(recall))\n",
        "\n",
        "    epochs = len(training_losses)\n",
        "\n",
        "    fig, axs = plt.subplots(2, 2, figsize=(16, 16))\n",
        "\n",
        "    axs[0,0].plot(range(1, epochs+1), training_losses, label=\"Training Loss\")\n",
        "    axs[0,0].plot(range(1, epochs+1), validation_losses, label=\"Validation Loss\")\n",
        "    axs[0,0].set_xlim(1, epochs)\n",
        "    axs[0,0].set_xlabel(\"Epoch\")\n",
        "    axs[0,0].set_ylabel(\"Loss\")\n",
        "    axs[0,0].legend()\n",
        "    axs[0,0].grid(True)\n",
        "\n",
        "    axs[0,1].scatter(recall_vals, precision_vals)\n",
        "    axs[0,1].set_xlim(-0.1, 1.1)\n",
        "    axs[0,1].set_ylim(-0.1, 1.1)\n",
        "    axs[0,1].set_xlabel(\"Recall\")\n",
        "    axs[0,1].set_ylabel(\"Precision\")\n",
        "    axs[0,1].grid(True)\n",
        "\n",
        "    axs[1,0].scatter(range(1, epochs+1), recall_vals)\n",
        "    axs[1,0].set_xlim(1, epochs)\n",
        "    axs[1,0].set_ylim(-0.1, 1.1)\n",
        "    axs[1,0].set_xlabel(\"Epoch\")\n",
        "    axs[1,0].set_ylabel(\"Recall\")\n",
        "    axs[1,0].grid(True)\n",
        "\n",
        "    axs[1,1].scatter(range(1, epochs+1), precision_vals)\n",
        "    axs[1,1].set_xlim(1, epochs)\n",
        "    axs[1,1].set_ylim(-0.1, 1.1)\n",
        "    axs[1,1].set_xlabel(\"Epoch\")\n",
        "    axs[1,1].set_ylabel(\"Precision\")\n",
        "    axs[1,1].grid(True)\n",
        "\n",
        "# Class to calculate, save and plot Precision-Recall curves\n",
        "class PRcurve:\n",
        "    def __init__(self, weights_path, start=0.05, stop=0.5, n=10):\n",
        "        self.confs = np.linspace(start, stop, num=n)\n",
        "        self.precisions = []\n",
        "        self.recalls = []\n",
        "\n",
        "        for i, conf in enumerate(self.confs):\n",
        "            print(\"\\n%i/%i: Confidence Threshold = %.3f\" % (i+1, n, conf))\n",
        "            metrics = evaluate_model_file('yolov3.cfg', weights_path, 'data/valid.txt', ['crater'], batch_size=32, n_cpu=2, conf_thres=conf, verbose=False)\n",
        "            self.precisions.append(float(metrics[0]))\n",
        "            self.recalls.append(float(metrics[1]))\n",
        "            print(\"Precision = %.3f, Recall = %.3f\" % (metrics[0], metrics[1]))\n",
        "\n",
        "        list_to_file([self.precisions, self.recalls], \"PRstats.txt\")\n",
        "        self.auc_score = auc(self.recalls, self.precisions)\n",
        "\n",
        "    def save_stats(self, filename):\n",
        "        list_to_file([self.precisions, self.recalls], filename)\n",
        "\n",
        "    def plot(self):\n",
        "        fig, ax = plt.subplots(1, 1, figsize=(8, 8))\n",
        "\n",
        "        ax.plot(self.recalls, self.precisions)\n",
        "        ax.set_title(\"Validation Set Precision-Recall Curve, AUC = %.2f\" % self.auc_score)\n",
        "        ax.set_xlim(-0.05, 1.05)\n",
        "        ax.set_ylim(-0.05, 1.05)\n",
        "        ax.set_xlabel(\"Recall\")\n",
        "        ax.set_ylabel(\"Precision\")\n",
        "        ax.grid(True)"
      ],
      "execution_count": 1,
      "outputs": [
        {
          "output_type": "stream",
          "text": [
            "/content/YOLOv3-CDA\n"
          ],
          "name": "stdout"
        }
      ]
    },
    {
      "cell_type": "code",
      "metadata": {
        "colab": {
          "base_uri": "https://localhost:8080/"
        },
        "id": "IWgeFZtcBeFq",
        "outputId": "b85acce2-93fe-4920-c5ba-b3499d61d71c"
      },
      "source": [
        "# Download weights pretrained on COCO\n",
        "! wget -c \"https://pjreddie.com/media/files/yolov3.weights\" --header \"Referer: pjreddie.com\""
      ],
      "execution_count": 3,
      "outputs": [
        {
          "output_type": "stream",
          "text": [
            "--2021-07-13 14:53:50--  https://pjreddie.com/media/files/yolov3.weights\n",
            "Resolving pjreddie.com (pjreddie.com)... 128.208.4.108\n",
            "Connecting to pjreddie.com (pjreddie.com)|128.208.4.108|:443... connected.\n",
            "HTTP request sent, awaiting response... 200 OK\n",
            "Length: 248007048 (237M) [application/octet-stream]\n",
            "Saving to: ‘yolov3.weights’\n",
            "\n",
            "yolov3.weights      100%[===================>] 236.52M  91.8MB/s    in 2.6s    \n",
            "\n",
            "2021-07-13 14:53:53 (91.8 MB/s) - ‘yolov3.weights’ saved [248007048/248007048]\n",
            "\n"
          ],
          "name": "stdout"
        }
      ]
    },
    {
      "cell_type": "markdown",
      "metadata": {
        "id": "W4XYvysVgB1j"
      },
      "source": [
        "## Data Organisation"
      ]
    },
    {
      "cell_type": "code",
      "metadata": {
        "colab": {
          "base_uri": "https://localhost:8080/"
        },
        "id": "4OAV_lJCCAvu",
        "outputId": "a9d6b694-2401-4b00-ccbf-107b4c7a645d"
      },
      "source": [
        "# Organise THEMIS data intro training, validation and test sets\n",
        "imageFolder = \"/content/YOLOv3-CDA/data/images/\"\n",
        "labelFolder = \"/content/YOLOv3-CDA/data/labels/\"\n",
        "\n",
        "pathsFile = \"/content/YOLOv3-CDA/data/all.txt\"\n",
        "trainFile = \"/content/YOLOv3-CDA/data/train.txt\"\n",
        "valFile = \"/content/YOLOv3-CDA/data/valid.txt\"\n",
        "testFile = \"/content/YOLOv3-CDA/data/test.txt\"\n",
        "\n",
        "# Walk through image folder and write paths to all.txt, also count number of files\n",
        "with open(pathsFile, \"w\") as all:\n",
        "    n = 0\n",
        "    for root, dirs, files in os.walk(imageFolder):\n",
        "        for file in files:\n",
        "            all.write(imageFolder+file+\"\\n\")\n",
        "            n += 1\n",
        "\n",
        "# 90% of data into training set\n",
        "trainSize = int(n * 0.9)\n",
        "# 10% of training set into validation set\n",
        "valSize = int(trainSize * 0.1)\n",
        "trainSize -= valSize\n",
        "# 10% of data into test set\n",
        "testSize = n - (trainSize + valSize)\n",
        "\n",
        "# Ensure dataset sizes are correct\n",
        "try:\n",
        "    assert n == trainSize + valSize + testSize\n",
        "    print(\"Total:\", n, \"\\nTraining Size:\", trainSize, \"\\nValidation Size:\", valSize, \"\\nTest Size:\", testSize)\n",
        "except:\n",
        "    print(\"Invalid Split\")\n",
        "\n",
        "# Get random indices lists according to dataset sizes\n",
        "train_idx, val_idx, test_idx = torch.utils.data.random_split(range(n), [trainSize, valSize, testSize], generator=torch.Generator().manual_seed(42))"
      ],
      "execution_count": 2,
      "outputs": [
        {
          "output_type": "stream",
          "text": [
            "Total: 3556 \n",
            "Training Size: 2880 \n",
            "Validation Size: 320 \n",
            "Test Size: 356\n"
          ],
          "name": "stdout"
        }
      ]
    },
    {
      "cell_type": "code",
      "metadata": {
        "colab": {
          "base_uri": "https://localhost:8080/"
        },
        "id": "jpcSqFexDZBx",
        "outputId": "7990745f-ff74-4fd7-c368-a4bbde6726e5"
      },
      "source": [
        "# Organise image path files\n",
        "\n",
        "# Get list of all image paths\n",
        "with open(pathsFile, \"r\") as paths:\n",
        "    pathsList = paths.readlines()\n",
        "\n",
        "# Store train/val/test paths as lists\n",
        "trainList = [pathsList[i].rstrip('\\n') for i in train_idx]\n",
        "valList = [pathsList[i].rstrip('\\n') for i in val_idx]\n",
        "testList = [pathsList[i].rstrip('\\n') for i in test_idx]\n",
        "\n",
        "# Write path lists to files\n",
        "list_to_file([trainList], trainFile)\n",
        "list_to_file([valList], valFile)\n",
        "list_to_file([testList], testFile)\n",
        "\n",
        "print(\"Training paths:\\t\\t\", trainFile, \"\\nValidation paths:\\t\", valFile, \"\\nTest paths:\\t\\t\", testFile)"
      ],
      "execution_count": 4,
      "outputs": [
        {
          "output_type": "stream",
          "text": [
            "Training paths:\t\t /content/YOLOv3-CDA/data/train.txt \n",
            "Validation paths:\t /content/YOLOv3-CDA/data/valid.txt \n",
            "Test paths:\t\t /content/YOLOv3-CDA/data/test.txt\n"
          ],
          "name": "stdout"
        }
      ]
    },
    {
      "cell_type": "code",
      "metadata": {
        "colab": {
          "base_uri": "https://localhost:8080/"
        },
        "id": "oWoCNzgA0WhG",
        "outputId": "e9446189-82eb-47a0-ab76-de73ddd13040"
      },
      "source": [
        "# Pull any edits\n",
        "! git pull https://github.com/acse-gcm20/YOLOv3-CDA\n",
        "print(\"\\nNow restart the Runtime and re-import modules before proceeding\")"
      ],
      "execution_count": 4,
      "outputs": [
        {
          "output_type": "stream",
          "text": [
            "remote: Enumerating objects: 16, done.\u001b[K\n",
            "remote: Counting objects:   6% (1/16)\u001b[K\rremote: Counting objects:  12% (2/16)\u001b[K\rremote: Counting objects:  18% (3/16)\u001b[K\rremote: Counting objects:  25% (4/16)\u001b[K\rremote: Counting objects:  31% (5/16)\u001b[K\rremote: Counting objects:  37% (6/16)\u001b[K\rremote: Counting objects:  43% (7/16)\u001b[K\rremote: Counting objects:  50% (8/16)\u001b[K\rremote: Counting objects:  56% (9/16)\u001b[K\rremote: Counting objects:  62% (10/16)\u001b[K\rremote: Counting objects:  68% (11/16)\u001b[K\rremote: Counting objects:  75% (12/16)\u001b[K\rremote: Counting objects:  81% (13/16)\u001b[K\rremote: Counting objects:  87% (14/16)\u001b[K\rremote: Counting objects:  93% (15/16)\u001b[K\rremote: Counting objects: 100% (16/16)\u001b[K\rremote: Counting objects: 100% (16/16), done.\u001b[K\n",
            "remote: Compressing objects:  25% (1/4)\u001b[K\rremote: Compressing objects:  50% (2/4)\u001b[K\rremote: Compressing objects:  75% (3/4)\u001b[K\rremote: Compressing objects: 100% (4/4)\u001b[K\rremote: Compressing objects: 100% (4/4), done.\u001b[K\n",
            "remote: Total 10 (delta 6), reused 10 (delta 6), pack-reused 0\u001b[K\n",
            "Unpacking objects:  10% (1/10)   \rUnpacking objects:  20% (2/10)   \rUnpacking objects:  30% (3/10)   \rUnpacking objects:  40% (4/10)   \rUnpacking objects:  50% (5/10)   \rUnpacking objects:  60% (6/10)   \rUnpacking objects:  70% (7/10)   \rUnpacking objects:  80% (8/10)   \rUnpacking objects:  90% (9/10)   \rUnpacking objects: 100% (10/10)   \rUnpacking objects: 100% (10/10), done.\n",
            "From https://github.com/acse-gcm20/YOLOv3-CDA\n",
            " * branch            HEAD       -> FETCH_HEAD\n",
            "Updating 3f84109..4737b3f\n",
            "Fast-forward\n",
            " HiRISE_processing.py                  |  61 \u001b[32m++++++++++++++++\u001b[m\u001b[31m------------------\u001b[m\n",
            " data/HiRISE/{ => tiles}/tile_0_0.jpg  | Bin\n",
            " data/HiRISE/{ => tiles}/tile_0_1.jpg  | Bin\n",
            " data/HiRISE/{ => tiles}/tile_0_2.jpg  | Bin\n",
            " data/HiRISE/{ => tiles}/tile_0_3.jpg  | Bin\n",
            " data/HiRISE/{ => tiles}/tile_0_4.jpg  | Bin\n",
            " data/HiRISE/{ => tiles}/tile_10_0.jpg | Bin\n",
            " data/HiRISE/{ => tiles}/tile_10_1.jpg | Bin\n",
            " data/HiRISE/{ => tiles}/tile_10_2.jpg | Bin\n",
            " data/HiRISE/{ => tiles}/tile_10_3.jpg | Bin\n",
            " data/HiRISE/{ => tiles}/tile_10_4.jpg | Bin\n",
            " data/HiRISE/{ => tiles}/tile_11_0.jpg | Bin\n",
            " data/HiRISE/{ => tiles}/tile_11_1.jpg | Bin\n",
            " data/HiRISE/{ => tiles}/tile_11_2.jpg | Bin\n",
            " data/HiRISE/{ => tiles}/tile_11_3.jpg | Bin\n",
            " data/HiRISE/{ => tiles}/tile_11_4.jpg | Bin\n",
            " data/HiRISE/{ => tiles}/tile_12_0.jpg | Bin\n",
            " data/HiRISE/{ => tiles}/tile_12_1.jpg | Bin\n",
            " data/HiRISE/{ => tiles}/tile_12_2.jpg | Bin\n",
            " data/HiRISE/{ => tiles}/tile_12_3.jpg | Bin\n",
            " data/HiRISE/{ => tiles}/tile_12_4.jpg | Bin\n",
            " data/HiRISE/{ => tiles}/tile_13_0.jpg | Bin\n",
            " data/HiRISE/{ => tiles}/tile_13_1.jpg | Bin\n",
            " data/HiRISE/{ => tiles}/tile_13_2.jpg | Bin\n",
            " data/HiRISE/{ => tiles}/tile_13_3.jpg | Bin\n",
            " data/HiRISE/{ => tiles}/tile_13_4.jpg | Bin\n",
            " data/HiRISE/{ => tiles}/tile_14_0.jpg | Bin\n",
            " data/HiRISE/{ => tiles}/tile_14_1.jpg | Bin\n",
            " data/HiRISE/{ => tiles}/tile_14_2.jpg | Bin\n",
            " data/HiRISE/{ => tiles}/tile_14_3.jpg | Bin\n",
            " data/HiRISE/{ => tiles}/tile_14_4.jpg | Bin\n",
            " data/HiRISE/{ => tiles}/tile_15_0.jpg | Bin\n",
            " data/HiRISE/{ => tiles}/tile_15_1.jpg | Bin\n",
            " data/HiRISE/{ => tiles}/tile_15_2.jpg | Bin\n",
            " data/HiRISE/{ => tiles}/tile_15_3.jpg | Bin\n",
            " data/HiRISE/{ => tiles}/tile_15_4.jpg | Bin\n",
            " data/HiRISE/{ => tiles}/tile_16_0.jpg | Bin\n",
            " data/HiRISE/{ => tiles}/tile_16_1.jpg | Bin\n",
            " data/HiRISE/{ => tiles}/tile_16_2.jpg | Bin\n",
            " data/HiRISE/{ => tiles}/tile_16_3.jpg | Bin\n",
            " data/HiRISE/{ => tiles}/tile_16_4.jpg | Bin\n",
            " data/HiRISE/{ => tiles}/tile_17_0.jpg | Bin\n",
            " data/HiRISE/{ => tiles}/tile_17_1.jpg | Bin\n",
            " data/HiRISE/{ => tiles}/tile_17_2.jpg | Bin\n",
            " data/HiRISE/{ => tiles}/tile_17_3.jpg | Bin\n",
            " data/HiRISE/{ => tiles}/tile_17_4.jpg | Bin\n",
            " data/HiRISE/{ => tiles}/tile_18_0.jpg | Bin\n",
            " data/HiRISE/{ => tiles}/tile_18_1.jpg | Bin\n",
            " data/HiRISE/{ => tiles}/tile_18_2.jpg | Bin\n",
            " data/HiRISE/{ => tiles}/tile_18_3.jpg | Bin\n",
            " data/HiRISE/{ => tiles}/tile_18_4.jpg | Bin\n",
            " data/HiRISE/{ => tiles}/tile_19_0.jpg | Bin\n",
            " data/HiRISE/{ => tiles}/tile_19_1.jpg | Bin\n",
            " data/HiRISE/{ => tiles}/tile_19_2.jpg | Bin\n",
            " data/HiRISE/{ => tiles}/tile_19_3.jpg | Bin\n",
            " data/HiRISE/{ => tiles}/tile_19_4.jpg | Bin\n",
            " data/HiRISE/{ => tiles}/tile_1_0.jpg  | Bin\n",
            " data/HiRISE/{ => tiles}/tile_1_1.jpg  | Bin\n",
            " data/HiRISE/{ => tiles}/tile_1_2.jpg  | Bin\n",
            " data/HiRISE/{ => tiles}/tile_1_3.jpg  | Bin\n",
            " data/HiRISE/{ => tiles}/tile_1_4.jpg  | Bin\n",
            " data/HiRISE/{ => tiles}/tile_20_0.jpg | Bin\n",
            " data/HiRISE/{ => tiles}/tile_20_1.jpg | Bin\n",
            " data/HiRISE/{ => tiles}/tile_20_2.jpg | Bin\n",
            " data/HiRISE/{ => tiles}/tile_20_3.jpg | Bin\n",
            " data/HiRISE/{ => tiles}/tile_20_4.jpg | Bin\n",
            " data/HiRISE/{ => tiles}/tile_21_0.jpg | Bin\n",
            " data/HiRISE/{ => tiles}/tile_21_1.jpg | Bin\n",
            " data/HiRISE/{ => tiles}/tile_21_2.jpg | Bin\n",
            " data/HiRISE/{ => tiles}/tile_21_3.jpg | Bin\n",
            " data/HiRISE/{ => tiles}/tile_21_4.jpg | Bin\n",
            " data/HiRISE/{ => tiles}/tile_22_0.jpg | Bin\n",
            " data/HiRISE/{ => tiles}/tile_22_1.jpg | Bin\n",
            " data/HiRISE/{ => tiles}/tile_22_2.jpg | Bin\n",
            " data/HiRISE/{ => tiles}/tile_22_3.jpg | Bin\n",
            " data/HiRISE/{ => tiles}/tile_22_4.jpg | Bin\n",
            " data/HiRISE/{ => tiles}/tile_23_0.jpg | Bin\n",
            " data/HiRISE/{ => tiles}/tile_23_1.jpg | Bin\n",
            " data/HiRISE/{ => tiles}/tile_23_2.jpg | Bin\n",
            " data/HiRISE/{ => tiles}/tile_23_3.jpg | Bin\n",
            " data/HiRISE/{ => tiles}/tile_23_4.jpg | Bin\n",
            " data/HiRISE/{ => tiles}/tile_2_0.jpg  | Bin\n",
            " data/HiRISE/{ => tiles}/tile_2_1.jpg  | Bin\n",
            " data/HiRISE/{ => tiles}/tile_2_2.jpg  | Bin\n",
            " data/HiRISE/{ => tiles}/tile_2_3.jpg  | Bin\n",
            " data/HiRISE/{ => tiles}/tile_2_4.jpg  | Bin\n",
            " data/HiRISE/{ => tiles}/tile_3_0.jpg  | Bin\n",
            " data/HiRISE/{ => tiles}/tile_3_1.jpg  | Bin\n",
            " data/HiRISE/{ => tiles}/tile_3_2.jpg  | Bin\n",
            " data/HiRISE/{ => tiles}/tile_3_3.jpg  | Bin\n",
            " data/HiRISE/{ => tiles}/tile_3_4.jpg  | Bin\n",
            " data/HiRISE/{ => tiles}/tile_4_0.jpg  | Bin\n",
            " data/HiRISE/{ => tiles}/tile_4_1.jpg  | Bin\n",
            " data/HiRISE/{ => tiles}/tile_4_2.jpg  | Bin\n",
            " data/HiRISE/{ => tiles}/tile_4_3.jpg  | Bin\n",
            " data/HiRISE/{ => tiles}/tile_4_4.jpg  | Bin\n",
            " data/HiRISE/{ => tiles}/tile_5_0.jpg  | Bin\n",
            " data/HiRISE/{ => tiles}/tile_5_1.jpg  | Bin\n",
            " data/HiRISE/{ => tiles}/tile_5_2.jpg  | Bin\n",
            " data/HiRISE/{ => tiles}/tile_5_3.jpg  | Bin\n",
            " data/HiRISE/{ => tiles}/tile_5_4.jpg  | Bin\n",
            " data/HiRISE/{ => tiles}/tile_6_0.jpg  | Bin\n",
            " data/HiRISE/{ => tiles}/tile_6_1.jpg  | Bin\n",
            " data/HiRISE/{ => tiles}/tile_6_2.jpg  | Bin\n",
            " data/HiRISE/{ => tiles}/tile_6_3.jpg  | Bin\n",
            " data/HiRISE/{ => tiles}/tile_6_4.jpg  | Bin\n",
            " data/HiRISE/{ => tiles}/tile_7_0.jpg  | Bin\n",
            " data/HiRISE/{ => tiles}/tile_7_1.jpg  | Bin\n",
            " data/HiRISE/{ => tiles}/tile_7_2.jpg  | Bin\n",
            " data/HiRISE/{ => tiles}/tile_7_3.jpg  | Bin\n",
            " data/HiRISE/{ => tiles}/tile_7_4.jpg  | Bin\n",
            " data/HiRISE/{ => tiles}/tile_8_0.jpg  | Bin\n",
            " data/HiRISE/{ => tiles}/tile_8_1.jpg  | Bin\n",
            " data/HiRISE/{ => tiles}/tile_8_2.jpg  | Bin\n",
            " data/HiRISE/{ => tiles}/tile_8_3.jpg  | Bin\n",
            " data/HiRISE/{ => tiles}/tile_8_4.jpg  | Bin\n",
            " data/HiRISE/{ => tiles}/tile_9_0.jpg  | Bin\n",
            " data/HiRISE/{ => tiles}/tile_9_1.jpg  | Bin\n",
            " data/HiRISE/{ => tiles}/tile_9_2.jpg  | Bin\n",
            " data/HiRISE/{ => tiles}/tile_9_3.jpg  | Bin\n",
            " data/HiRISE/{ => tiles}/tile_9_4.jpg  | Bin\n",
            " pytorchyolo/train.py                  |  24 \u001b[32m+++++\u001b[m\u001b[31m--------\u001b[m\n",
            " 122 files changed, 38 insertions(+), 47 deletions(-)\n",
            " rename data/HiRISE/{ => tiles}/tile_0_0.jpg (100%)\n",
            " rename data/HiRISE/{ => tiles}/tile_0_1.jpg (100%)\n",
            " rename data/HiRISE/{ => tiles}/tile_0_2.jpg (100%)\n",
            " rename data/HiRISE/{ => tiles}/tile_0_3.jpg (100%)\n",
            " rename data/HiRISE/{ => tiles}/tile_0_4.jpg (100%)\n",
            " rename data/HiRISE/{ => tiles}/tile_10_0.jpg (100%)\n",
            " rename data/HiRISE/{ => tiles}/tile_10_1.jpg (100%)\n",
            " rename data/HiRISE/{ => tiles}/tile_10_2.jpg (100%)\n",
            " rename data/HiRISE/{ => tiles}/tile_10_3.jpg (100%)\n",
            " rename data/HiRISE/{ => tiles}/tile_10_4.jpg (100%)\n",
            " rename data/HiRISE/{ => tiles}/tile_11_0.jpg (100%)\n",
            " rename data/HiRISE/{ => tiles}/tile_11_1.jpg (100%)\n",
            " rename data/HiRISE/{ => tiles}/tile_11_2.jpg (100%)\n",
            " rename data/HiRISE/{ => tiles}/tile_11_3.jpg (100%)\n",
            " rename data/HiRISE/{ => tiles}/tile_11_4.jpg (100%)\n",
            " rename data/HiRISE/{ => tiles}/tile_12_0.jpg (100%)\n",
            " rename data/HiRISE/{ => tiles}/tile_12_1.jpg (100%)\n",
            " rename data/HiRISE/{ => tiles}/tile_12_2.jpg (100%)\n",
            " rename data/HiRISE/{ => tiles}/tile_12_3.jpg (100%)\n",
            " rename data/HiRISE/{ => tiles}/tile_12_4.jpg (100%)\n",
            " rename data/HiRISE/{ => tiles}/tile_13_0.jpg (100%)\n",
            " rename data/HiRISE/{ => tiles}/tile_13_1.jpg (100%)\n",
            " rename data/HiRISE/{ => tiles}/tile_13_2.jpg (100%)\n",
            " rename data/HiRISE/{ => tiles}/tile_13_3.jpg (100%)\n",
            " rename data/HiRISE/{ => tiles}/tile_13_4.jpg (100%)\n",
            " rename data/HiRISE/{ => tiles}/tile_14_0.jpg (100%)\n",
            " rename data/HiRISE/{ => tiles}/tile_14_1.jpg (100%)\n",
            " rename data/HiRISE/{ => tiles}/tile_14_2.jpg (100%)\n",
            " rename data/HiRISE/{ => tiles}/tile_14_3.jpg (100%)\n",
            " rename data/HiRISE/{ => tiles}/tile_14_4.jpg (100%)\n",
            " rename data/HiRISE/{ => tiles}/tile_15_0.jpg (100%)\n",
            " rename data/HiRISE/{ => tiles}/tile_15_1.jpg (100%)\n",
            " rename data/HiRISE/{ => tiles}/tile_15_2.jpg (100%)\n",
            " rename data/HiRISE/{ => tiles}/tile_15_3.jpg (100%)\n",
            " rename data/HiRISE/{ => tiles}/tile_15_4.jpg (100%)\n",
            " rename data/HiRISE/{ => tiles}/tile_16_0.jpg (100%)\n",
            " rename data/HiRISE/{ => tiles}/tile_16_1.jpg (100%)\n",
            " rename data/HiRISE/{ => tiles}/tile_16_2.jpg (100%)\n",
            " rename data/HiRISE/{ => tiles}/tile_16_3.jpg (100%)\n",
            " rename data/HiRISE/{ => tiles}/tile_16_4.jpg (100%)\n",
            " rename data/HiRISE/{ => tiles}/tile_17_0.jpg (100%)\n",
            " rename data/HiRISE/{ => tiles}/tile_17_1.jpg (100%)\n",
            " rename data/HiRISE/{ => tiles}/tile_17_2.jpg (100%)\n",
            " rename data/HiRISE/{ => tiles}/tile_17_3.jpg (100%)\n",
            " rename data/HiRISE/{ => tiles}/tile_17_4.jpg (100%)\n",
            " rename data/HiRISE/{ => tiles}/tile_18_0.jpg (100%)\n",
            " rename data/HiRISE/{ => tiles}/tile_18_1.jpg (100%)\n",
            " rename data/HiRISE/{ => tiles}/tile_18_2.jpg (100%)\n",
            " rename data/HiRISE/{ => tiles}/tile_18_3.jpg (100%)\n",
            " rename data/HiRISE/{ => tiles}/tile_18_4.jpg (100%)\n",
            " rename data/HiRISE/{ => tiles}/tile_19_0.jpg (100%)\n",
            " rename data/HiRISE/{ => tiles}/tile_19_1.jpg (100%)\n",
            " rename data/HiRISE/{ => tiles}/tile_19_2.jpg (100%)\n",
            " rename data/HiRISE/{ => tiles}/tile_19_3.jpg (100%)\n",
            " rename data/HiRISE/{ => tiles}/tile_19_4.jpg (100%)\n",
            " rename data/HiRISE/{ => tiles}/tile_1_0.jpg (100%)\n",
            " rename data/HiRISE/{ => tiles}/tile_1_1.jpg (100%)\n",
            " rename data/HiRISE/{ => tiles}/tile_1_2.jpg (100%)\n",
            " rename data/HiRISE/{ => tiles}/tile_1_3.jpg (100%)\n",
            " rename data/HiRISE/{ => tiles}/tile_1_4.jpg (100%)\n",
            " rename data/HiRISE/{ => tiles}/tile_20_0.jpg (100%)\n",
            " rename data/HiRISE/{ => tiles}/tile_20_1.jpg (100%)\n",
            " rename data/HiRISE/{ => tiles}/tile_20_2.jpg (100%)\n",
            " rename data/HiRISE/{ => tiles}/tile_20_3.jpg (100%)\n",
            " rename data/HiRISE/{ => tiles}/tile_20_4.jpg (100%)\n",
            " rename data/HiRISE/{ => tiles}/tile_21_0.jpg (100%)\n",
            " rename data/HiRISE/{ => tiles}/tile_21_1.jpg (100%)\n",
            " rename data/HiRISE/{ => tiles}/tile_21_2.jpg (100%)\n",
            " rename data/HiRISE/{ => tiles}/tile_21_3.jpg (100%)\n",
            " rename data/HiRISE/{ => tiles}/tile_21_4.jpg (100%)\n",
            " rename data/HiRISE/{ => tiles}/tile_22_0.jpg (100%)\n",
            " rename data/HiRISE/{ => tiles}/tile_22_1.jpg (100%)\n",
            " rename data/HiRISE/{ => tiles}/tile_22_2.jpg (100%)\n",
            " rename data/HiRISE/{ => tiles}/tile_22_3.jpg (100%)\n",
            " rename data/HiRISE/{ => tiles}/tile_22_4.jpg (100%)\n",
            " rename data/HiRISE/{ => tiles}/tile_23_0.jpg (100%)\n",
            " rename data/HiRISE/{ => tiles}/tile_23_1.jpg (100%)\n",
            " rename data/HiRISE/{ => tiles}/tile_23_2.jpg (100%)\n",
            " rename data/HiRISE/{ => tiles}/tile_23_3.jpg (100%)\n",
            " rename data/HiRISE/{ => tiles}/tile_23_4.jpg (100%)\n",
            " rename data/HiRISE/{ => tiles}/tile_2_0.jpg (100%)\n",
            " rename data/HiRISE/{ => tiles}/tile_2_1.jpg (100%)\n",
            " rename data/HiRISE/{ => tiles}/tile_2_2.jpg (100%)\n",
            " rename data/HiRISE/{ => tiles}/tile_2_3.jpg (100%)\n",
            " rename data/HiRISE/{ => tiles}/tile_2_4.jpg (100%)\n",
            " rename data/HiRISE/{ => tiles}/tile_3_0.jpg (100%)\n",
            " rename data/HiRISE/{ => tiles}/tile_3_1.jpg (100%)\n",
            " rename data/HiRISE/{ => tiles}/tile_3_2.jpg (100%)\n",
            " rename data/HiRISE/{ => tiles}/tile_3_3.jpg (100%)\n",
            " rename data/HiRISE/{ => tiles}/tile_3_4.jpg (100%)\n",
            " rename data/HiRISE/{ => tiles}/tile_4_0.jpg (100%)\n",
            " rename data/HiRISE/{ => tiles}/tile_4_1.jpg (100%)\n",
            " rename data/HiRISE/{ => tiles}/tile_4_2.jpg (100%)\n",
            " rename data/HiRISE/{ => tiles}/tile_4_3.jpg (100%)\n",
            " rename data/HiRISE/{ => tiles}/tile_4_4.jpg (100%)\n",
            " rename data/HiRISE/{ => tiles}/tile_5_0.jpg (100%)\n",
            " rename data/HiRISE/{ => tiles}/tile_5_1.jpg (100%)\n",
            " rename data/HiRISE/{ => tiles}/tile_5_2.jpg (100%)\n",
            " rename data/HiRISE/{ => tiles}/tile_5_3.jpg (100%)\n",
            " rename data/HiRISE/{ => tiles}/tile_5_4.jpg (100%)\n",
            " rename data/HiRISE/{ => tiles}/tile_6_0.jpg (100%)\n",
            " rename data/HiRISE/{ => tiles}/tile_6_1.jpg (100%)\n",
            " rename data/HiRISE/{ => tiles}/tile_6_2.jpg (100%)\n",
            " rename data/HiRISE/{ => tiles}/tile_6_3.jpg (100%)\n",
            " rename data/HiRISE/{ => tiles}/tile_6_4.jpg (100%)\n",
            " rename data/HiRISE/{ => tiles}/tile_7_0.jpg (100%)\n",
            " rename data/HiRISE/{ => tiles}/tile_7_1.jpg (100%)\n",
            " rename data/HiRISE/{ => tiles}/tile_7_2.jpg (100%)\n",
            " rename data/HiRISE/{ => tiles}/tile_7_3.jpg (100%)\n",
            " rename data/HiRISE/{ => tiles}/tile_7_4.jpg (100%)\n",
            " rename data/HiRISE/{ => tiles}/tile_8_0.jpg (100%)\n",
            " rename data/HiRISE/{ => tiles}/tile_8_1.jpg (100%)\n",
            " rename data/HiRISE/{ => tiles}/tile_8_2.jpg (100%)\n",
            " rename data/HiRISE/{ => tiles}/tile_8_3.jpg (100%)\n",
            " rename data/HiRISE/{ => tiles}/tile_8_4.jpg (100%)\n",
            " rename data/HiRISE/{ => tiles}/tile_9_0.jpg (100%)\n",
            " rename data/HiRISE/{ => tiles}/tile_9_1.jpg (100%)\n",
            " rename data/HiRISE/{ => tiles}/tile_9_2.jpg (100%)\n",
            " rename data/HiRISE/{ => tiles}/tile_9_3.jpg (100%)\n",
            " rename data/HiRISE/{ => tiles}/tile_9_4.jpg (100%)\n",
            "\n",
            "Now restart the Runtime and re-import modules before proceeding\n"
          ],
          "name": "stdout"
        }
      ]
    },
    {
      "cell_type": "markdown",
      "metadata": {
        "id": "pwtywXm1flVe"
      },
      "source": [
        "## Training"
      ]
    },
    {
      "cell_type": "code",
      "metadata": {
        "colab": {
          "base_uri": "https://localhost:8080/"
        },
        "id": "wGPOU08wh0sz",
        "outputId": "cea43a6a-e1f7-4dde-9b14-387d1bfbd157"
      },
      "source": [
        "# Run training sequence\n",
        "run(epochs=50, pretrained_weights='/content/drive/MyDrive/CDA/ckpt_50_pt.pth', append_file='/content/drive/MyDrive/CDA/stats_100_pt.txt')"
      ],
      "execution_count": 2,
      "outputs": [
        {
          "output_type": "stream",
          "text": [
            "Training\n",
            "\n",
            "Epochs: 50, Seed: 42\n"
          ],
          "name": "stdout"
        },
        {
          "output_type": "stream",
          "text": [
            "\rTraining Epoch 0:   0%|          | 0/180 [00:00<?, ?it/s]"
          ],
          "name": "stderr"
        },
        {
          "output_type": "stream",
          "text": [
            "\n",
            "Epoch: 0\n",
            "---- Training Model ----\n"
          ],
          "name": "stdout"
        },
        {
          "output_type": "stream",
          "text": [
            "Training Epoch 0: 100%|██████████| 180/180 [02:08<00:00,  1.40it/s]"
          ],
          "name": "stderr"
        },
        {
          "output_type": "stream",
          "text": [
            "\n",
            "---- Validating Model ----\n"
          ],
          "name": "stdout"
        },
        {
          "output_type": "stream",
          "text": [
            "\n",
            "Validating: 100%|██████████| 20/20 [00:04<00:00,  4.07it/s]\n",
            "Computing AP: 100%|██████████| 1/1 [00:00<00:00, 463.97it/s]\n"
          ],
          "name": "stderr"
        },
        {
          "output_type": "stream",
          "text": [
            "---- mAP 0.69859 ----\n",
            "Precision: 0.8048359240069085, Recall: 0.7467948717948718\n",
            "---- Saving checkpoint to: 'checkpoints/yolov3_ckpt_0.pth' ----\n"
          ],
          "name": "stdout"
        },
        {
          "output_type": "stream",
          "text": [
            "\rTraining Epoch 1:   0%|          | 0/180 [00:00<?, ?it/s]"
          ],
          "name": "stderr"
        },
        {
          "output_type": "stream",
          "text": [
            "\n",
            "---Evaluation---\n",
            "Training Loss 0.7562574148178101\n",
            "Validation loss: 0.5947914719581604\n",
            "\n",
            "Epoch: 1\n",
            "---- Training Model ----\n"
          ],
          "name": "stdout"
        },
        {
          "output_type": "stream",
          "text": [
            "Training Epoch 1: 100%|██████████| 180/180 [02:24<00:00,  1.25it/s]"
          ],
          "name": "stderr"
        },
        {
          "output_type": "stream",
          "text": [
            "\n",
            "---- Validating Model ----\n"
          ],
          "name": "stdout"
        },
        {
          "output_type": "stream",
          "text": [
            "\n",
            "Validating: 100%|██████████| 20/20 [00:04<00:00,  4.07it/s]\n",
            "Computing AP: 100%|██████████| 1/1 [00:00<00:00, 195.84it/s]\n"
          ],
          "name": "stderr"
        },
        {
          "output_type": "stream",
          "text": [
            "---- mAP 0.69921 ----\n",
            "Precision: 0.8391224862888482, Recall: 0.7355769230769231\n",
            "---- Saving checkpoint to: 'checkpoints/yolov3_ckpt_1.pth' ----\n"
          ],
          "name": "stdout"
        },
        {
          "output_type": "stream",
          "text": [
            "\rTraining Epoch 2:   0%|          | 0/180 [00:00<?, ?it/s]"
          ],
          "name": "stderr"
        },
        {
          "output_type": "stream",
          "text": [
            "\n",
            "---Evaluation---\n",
            "Training Loss 0.6103630661964417\n",
            "Validation loss: 0.5746393203735352\n",
            "\n",
            "Epoch: 2\n",
            "---- Training Model ----\n"
          ],
          "name": "stdout"
        },
        {
          "output_type": "stream",
          "text": [
            "Training Epoch 2: 100%|██████████| 180/180 [02:18<00:00,  1.30it/s]"
          ],
          "name": "stderr"
        },
        {
          "output_type": "stream",
          "text": [
            "\n",
            "---- Validating Model ----\n"
          ],
          "name": "stdout"
        },
        {
          "output_type": "stream",
          "text": [
            "\n",
            "Validating: 100%|██████████| 20/20 [00:04<00:00,  4.04it/s]\n",
            "Computing AP: 100%|██████████| 1/1 [00:00<00:00, 235.46it/s]\n"
          ],
          "name": "stderr"
        },
        {
          "output_type": "stream",
          "text": [
            "---- mAP 0.69974 ----\n",
            "Precision: 0.8582089552238806, Recall: 0.7371794871794872\n",
            "---- Saving checkpoint to: 'checkpoints/yolov3_ckpt_2.pth' ----\n"
          ],
          "name": "stdout"
        },
        {
          "output_type": "stream",
          "text": [
            "\rTraining Epoch 3:   0%|          | 0/180 [00:00<?, ?it/s]"
          ],
          "name": "stderr"
        },
        {
          "output_type": "stream",
          "text": [
            "\n",
            "---Evaluation---\n",
            "Training Loss 0.5578837394714355\n",
            "Validation loss: 0.5599732398986816\n",
            "\n",
            "Epoch: 3\n",
            "---- Training Model ----\n"
          ],
          "name": "stdout"
        },
        {
          "output_type": "stream",
          "text": [
            "Training Epoch 3: 100%|██████████| 180/180 [02:11<00:00,  1.37it/s]"
          ],
          "name": "stderr"
        },
        {
          "output_type": "stream",
          "text": [
            "\n",
            "---- Validating Model ----\n"
          ],
          "name": "stdout"
        },
        {
          "output_type": "stream",
          "text": [
            "\n",
            "Validating: 100%|██████████| 20/20 [00:04<00:00,  4.07it/s]\n",
            "Computing AP: 100%|██████████| 1/1 [00:00<00:00, 290.36it/s]\n"
          ],
          "name": "stderr"
        },
        {
          "output_type": "stream",
          "text": [
            "---- mAP 0.68328 ----\n",
            "Precision: 0.839851024208566, Recall: 0.7227564102564102\n",
            "---- Saving checkpoint to: 'checkpoints/yolov3_ckpt_3.pth' ----\n"
          ],
          "name": "stdout"
        },
        {
          "output_type": "stream",
          "text": [
            "\rTraining Epoch 4:   0%|          | 0/180 [00:00<?, ?it/s]"
          ],
          "name": "stderr"
        },
        {
          "output_type": "stream",
          "text": [
            "\n",
            "---Evaluation---\n",
            "Training Loss 0.6162765622138977\n",
            "Validation loss: 0.5497854948043823\n",
            "\n",
            "Epoch: 4\n",
            "---- Training Model ----\n"
          ],
          "name": "stdout"
        },
        {
          "output_type": "stream",
          "text": [
            "Training Epoch 4: 100%|██████████| 180/180 [02:11<00:00,  1.37it/s]"
          ],
          "name": "stderr"
        },
        {
          "output_type": "stream",
          "text": [
            "\n",
            "---- Validating Model ----\n"
          ],
          "name": "stdout"
        },
        {
          "output_type": "stream",
          "text": [
            "\n",
            "Validating: 100%|██████████| 20/20 [00:04<00:00,  4.04it/s]\n",
            "Computing AP: 100%|██████████| 1/1 [00:00<00:00, 290.22it/s]\n"
          ],
          "name": "stderr"
        },
        {
          "output_type": "stream",
          "text": [
            "---- mAP 0.67909 ----\n",
            "Precision: 0.8560460652591171, Recall: 0.7147435897435898\n",
            "---- Saving checkpoint to: 'checkpoints/yolov3_ckpt_4.pth' ----\n"
          ],
          "name": "stdout"
        },
        {
          "output_type": "stream",
          "text": [
            "\rTraining Epoch 5:   0%|          | 0/180 [00:00<?, ?it/s]"
          ],
          "name": "stderr"
        },
        {
          "output_type": "stream",
          "text": [
            "\n",
            "---Evaluation---\n",
            "Training Loss 0.7121108770370483\n",
            "Validation loss: 0.5518506765365601\n",
            "\n",
            "Epoch: 5\n",
            "---- Training Model ----\n"
          ],
          "name": "stdout"
        },
        {
          "output_type": "stream",
          "text": [
            "Training Epoch 5: 100%|██████████| 180/180 [02:10<00:00,  1.38it/s]"
          ],
          "name": "stderr"
        },
        {
          "output_type": "stream",
          "text": [
            "\n",
            "---- Validating Model ----\n"
          ],
          "name": "stdout"
        },
        {
          "output_type": "stream",
          "text": [
            "\n",
            "Validating: 100%|██████████| 20/20 [00:04<00:00,  4.03it/s]\n",
            "Computing AP: 100%|██████████| 1/1 [00:00<00:00, 301.73it/s]\n"
          ],
          "name": "stderr"
        },
        {
          "output_type": "stream",
          "text": [
            "---- mAP 0.68844 ----\n",
            "Precision: 0.8428835489833642, Recall: 0.7307692307692307\n",
            "---- Saving checkpoint to: 'checkpoints/yolov3_ckpt_5.pth' ----\n"
          ],
          "name": "stdout"
        },
        {
          "output_type": "stream",
          "text": [
            "\rTraining Epoch 6:   0%|          | 0/180 [00:00<?, ?it/s]"
          ],
          "name": "stderr"
        },
        {
          "output_type": "stream",
          "text": [
            "\n",
            "---Evaluation---\n",
            "Training Loss 0.6599151492118835\n",
            "Validation loss: 0.5369300246238708\n",
            "\n",
            "Epoch: 6\n",
            "---- Training Model ----\n"
          ],
          "name": "stdout"
        },
        {
          "output_type": "stream",
          "text": [
            "Training Epoch 6: 100%|██████████| 180/180 [02:19<00:00,  1.29it/s]"
          ],
          "name": "stderr"
        },
        {
          "output_type": "stream",
          "text": [
            "\n",
            "---- Validating Model ----\n"
          ],
          "name": "stdout"
        },
        {
          "output_type": "stream",
          "text": [
            "\n",
            "Validating: 100%|██████████| 20/20 [00:04<00:00,  4.07it/s]\n",
            "Computing AP: 100%|██████████| 1/1 [00:00<00:00, 288.94it/s]\n"
          ],
          "name": "stderr"
        },
        {
          "output_type": "stream",
          "text": [
            "---- mAP 0.69207 ----\n",
            "Precision: 0.851024208566108, Recall: 0.7323717948717948\n",
            "---- Saving checkpoint to: 'checkpoints/yolov3_ckpt_6.pth' ----\n"
          ],
          "name": "stdout"
        },
        {
          "output_type": "stream",
          "text": [
            "\rTraining Epoch 7:   0%|          | 0/180 [00:00<?, ?it/s]"
          ],
          "name": "stderr"
        },
        {
          "output_type": "stream",
          "text": [
            "\n",
            "---Evaluation---\n",
            "Training Loss 0.6559774279594421\n",
            "Validation loss: 0.5348955988883972\n",
            "\n",
            "Epoch: 7\n",
            "---- Training Model ----\n"
          ],
          "name": "stdout"
        },
        {
          "output_type": "stream",
          "text": [
            "Training Epoch 7: 100%|██████████| 180/180 [02:02<00:00,  1.47it/s]"
          ],
          "name": "stderr"
        },
        {
          "output_type": "stream",
          "text": [
            "\n",
            "---- Validating Model ----\n"
          ],
          "name": "stdout"
        },
        {
          "output_type": "stream",
          "text": [
            "\n",
            "Validating: 100%|██████████| 20/20 [00:04<00:00,  4.01it/s]\n",
            "Computing AP: 100%|██████████| 1/1 [00:00<00:00, 327.27it/s]\n"
          ],
          "name": "stderr"
        },
        {
          "output_type": "stream",
          "text": [
            "---- mAP 0.67438 ----\n",
            "Precision: 0.833641404805915, Recall: 0.7227564102564102\n",
            "---- Saving checkpoint to: 'checkpoints/yolov3_ckpt_7.pth' ----\n"
          ],
          "name": "stdout"
        },
        {
          "output_type": "stream",
          "text": [
            "\rTraining Epoch 8:   0%|          | 0/180 [00:00<?, ?it/s]"
          ],
          "name": "stderr"
        },
        {
          "output_type": "stream",
          "text": [
            "\n",
            "---Evaluation---\n",
            "Training Loss 0.7240415811538696\n",
            "Validation loss: 0.5293936133384705\n",
            "\n",
            "Epoch: 8\n",
            "---- Training Model ----\n"
          ],
          "name": "stdout"
        },
        {
          "output_type": "stream",
          "text": [
            "Training Epoch 8: 100%|██████████| 180/180 [02:19<00:00,  1.29it/s]"
          ],
          "name": "stderr"
        },
        {
          "output_type": "stream",
          "text": [
            "\n",
            "---- Validating Model ----\n"
          ],
          "name": "stdout"
        },
        {
          "output_type": "stream",
          "text": [
            "\n",
            "Validating: 100%|██████████| 20/20 [00:04<00:00,  4.05it/s]\n",
            "Computing AP: 100%|██████████| 1/1 [00:00<00:00, 195.78it/s]\n"
          ],
          "name": "stderr"
        },
        {
          "output_type": "stream",
          "text": [
            "---- mAP 0.69132 ----\n",
            "Precision: 0.8297491039426523, Recall: 0.7419871794871795\n",
            "---- Saving checkpoint to: 'checkpoints/yolov3_ckpt_8.pth' ----\n"
          ],
          "name": "stdout"
        },
        {
          "output_type": "stream",
          "text": [
            "\rTraining Epoch 9:   0%|          | 0/180 [00:00<?, ?it/s]"
          ],
          "name": "stderr"
        },
        {
          "output_type": "stream",
          "text": [
            "\n",
            "---Evaluation---\n",
            "Training Loss 0.6670112013816833\n",
            "Validation loss: 0.5326671600341797\n",
            "\n",
            "Epoch: 9\n",
            "---- Training Model ----\n"
          ],
          "name": "stdout"
        },
        {
          "output_type": "stream",
          "text": [
            "Training Epoch 9: 100%|██████████| 180/180 [02:12<00:00,  1.36it/s]"
          ],
          "name": "stderr"
        },
        {
          "output_type": "stream",
          "text": [
            "\n",
            "---- Validating Model ----\n"
          ],
          "name": "stdout"
        },
        {
          "output_type": "stream",
          "text": [
            "\n",
            "Validating: 100%|██████████| 20/20 [00:04<00:00,  4.09it/s]\n",
            "Computing AP: 100%|██████████| 1/1 [00:00<00:00, 316.84it/s]\n"
          ],
          "name": "stderr"
        },
        {
          "output_type": "stream",
          "text": [
            "---- mAP 0.68933 ----\n",
            "Precision: 0.8303249097472925, Recall: 0.7371794871794872\n",
            "---- Saving checkpoint to: 'checkpoints/yolov3_ckpt_9.pth' ----\n"
          ],
          "name": "stdout"
        },
        {
          "output_type": "stream",
          "text": [
            "\rTraining Epoch 10:   0%|          | 0/180 [00:00<?, ?it/s]"
          ],
          "name": "stderr"
        },
        {
          "output_type": "stream",
          "text": [
            "\n",
            "---Evaluation---\n",
            "Training Loss 0.7132903337478638\n",
            "Validation loss: 0.5332809090614319\n",
            "\n",
            "Epoch: 10\n",
            "---- Training Model ----\n"
          ],
          "name": "stdout"
        },
        {
          "output_type": "stream",
          "text": [
            "Training Epoch 10: 100%|██████████| 180/180 [02:11<00:00,  1.37it/s]"
          ],
          "name": "stderr"
        },
        {
          "output_type": "stream",
          "text": [
            "\n",
            "---- Validating Model ----\n"
          ],
          "name": "stdout"
        },
        {
          "output_type": "stream",
          "text": [
            "\n",
            "Validating: 100%|██████████| 20/20 [00:04<00:00,  4.16it/s]\n",
            "Computing AP: 100%|██████████| 1/1 [00:00<00:00, 248.54it/s]\n"
          ],
          "name": "stderr"
        },
        {
          "output_type": "stream",
          "text": [
            "---- mAP 0.70651 ----\n",
            "Precision: 0.8219895287958116, Recall: 0.7548076923076923\n",
            "---- Saving checkpoint to: 'checkpoints/yolov3_ckpt_10.pth' ----\n"
          ],
          "name": "stdout"
        },
        {
          "output_type": "stream",
          "text": [
            "\rTraining Epoch 11:   0%|          | 0/180 [00:00<?, ?it/s]"
          ],
          "name": "stderr"
        },
        {
          "output_type": "stream",
          "text": [
            "\n",
            "---Evaluation---\n",
            "Training Loss 0.5980639457702637\n",
            "Validation loss: 0.5262900590896606\n",
            "\n",
            "Epoch: 11\n",
            "---- Training Model ----\n"
          ],
          "name": "stdout"
        },
        {
          "output_type": "stream",
          "text": [
            "Training Epoch 11: 100%|██████████| 180/180 [02:12<00:00,  1.36it/s]"
          ],
          "name": "stderr"
        },
        {
          "output_type": "stream",
          "text": [
            "\n",
            "---- Validating Model ----\n"
          ],
          "name": "stdout"
        },
        {
          "output_type": "stream",
          "text": [
            "\n",
            "Validating: 100%|██████████| 20/20 [00:04<00:00,  4.10it/s]\n",
            "Computing AP: 100%|██████████| 1/1 [00:00<00:00, 213.64it/s]\n"
          ],
          "name": "stderr"
        },
        {
          "output_type": "stream",
          "text": [
            "---- mAP 0.70382 ----\n",
            "Precision: 0.8333333333333334, Recall: 0.7532051282051282\n",
            "---- Saving checkpoint to: 'checkpoints/yolov3_ckpt_11.pth' ----\n"
          ],
          "name": "stdout"
        },
        {
          "output_type": "stream",
          "text": [
            "\rTraining Epoch 12:   0%|          | 0/180 [00:00<?, ?it/s]"
          ],
          "name": "stderr"
        },
        {
          "output_type": "stream",
          "text": [
            "\n",
            "---Evaluation---\n",
            "Training Loss 0.5934769511222839\n",
            "Validation loss: 0.5306001901626587\n",
            "\n",
            "Epoch: 12\n",
            "---- Training Model ----\n"
          ],
          "name": "stdout"
        },
        {
          "output_type": "stream",
          "text": [
            "Training Epoch 12: 100%|██████████| 180/180 [02:11<00:00,  1.36it/s]"
          ],
          "name": "stderr"
        },
        {
          "output_type": "stream",
          "text": [
            "\n",
            "---- Validating Model ----\n"
          ],
          "name": "stdout"
        },
        {
          "output_type": "stream",
          "text": [
            "\n",
            "Validating: 100%|██████████| 20/20 [00:04<00:00,  4.14it/s]\n",
            "Computing AP: 100%|██████████| 1/1 [00:00<00:00, 267.41it/s]\n"
          ],
          "name": "stderr"
        },
        {
          "output_type": "stream",
          "text": [
            "---- mAP 0.69641 ----\n",
            "Precision: 0.8333333333333334, Recall: 0.7451923076923077\n",
            "---- Saving checkpoint to: 'checkpoints/yolov3_ckpt_12.pth' ----\n"
          ],
          "name": "stdout"
        },
        {
          "output_type": "stream",
          "text": [
            "\rTraining Epoch 13:   0%|          | 0/180 [00:00<?, ?it/s]"
          ],
          "name": "stderr"
        },
        {
          "output_type": "stream",
          "text": [
            "\n",
            "---Evaluation---\n",
            "Training Loss 0.5931529998779297\n",
            "Validation loss: 0.5305727124214172\n",
            "\n",
            "Epoch: 13\n",
            "---- Training Model ----\n"
          ],
          "name": "stdout"
        },
        {
          "output_type": "stream",
          "text": [
            "Training Epoch 13: 100%|██████████| 180/180 [02:02<00:00,  1.47it/s]"
          ],
          "name": "stderr"
        },
        {
          "output_type": "stream",
          "text": [
            "\n",
            "---- Validating Model ----\n"
          ],
          "name": "stdout"
        },
        {
          "output_type": "stream",
          "text": [
            "\n",
            "Validating: 100%|██████████| 20/20 [00:04<00:00,  4.10it/s]\n",
            "Computing AP: 100%|██████████| 1/1 [00:00<00:00, 187.45it/s]\n"
          ],
          "name": "stderr"
        },
        {
          "output_type": "stream",
          "text": [
            "---- mAP 0.72575 ----\n",
            "Precision: 0.821247892074199, Recall: 0.780448717948718\n",
            "---- Saving checkpoint to: 'checkpoints/yolov3_ckpt_13.pth' ----\n"
          ],
          "name": "stdout"
        },
        {
          "output_type": "stream",
          "text": [
            "\rTraining Epoch 14:   0%|          | 0/180 [00:00<?, ?it/s]"
          ],
          "name": "stderr"
        },
        {
          "output_type": "stream",
          "text": [
            "\n",
            "---Evaluation---\n",
            "Training Loss 0.5612757205963135\n",
            "Validation loss: 0.5294609069824219\n",
            "\n",
            "Epoch: 14\n",
            "---- Training Model ----\n"
          ],
          "name": "stdout"
        },
        {
          "output_type": "stream",
          "text": [
            "Training Epoch 14: 100%|██████████| 180/180 [02:18<00:00,  1.30it/s]"
          ],
          "name": "stderr"
        },
        {
          "output_type": "stream",
          "text": [
            "\n",
            "---- Validating Model ----\n"
          ],
          "name": "stdout"
        },
        {
          "output_type": "stream",
          "text": [
            "\n",
            "Validating: 100%|██████████| 20/20 [00:04<00:00,  4.15it/s]\n",
            "Computing AP: 100%|██████████| 1/1 [00:00<00:00, 255.88it/s]\n"
          ],
          "name": "stderr"
        },
        {
          "output_type": "stream",
          "text": [
            "---- mAP 0.71158 ----\n",
            "Precision: 0.8333333333333334, Recall: 0.7612179487179487\n",
            "---- Saving checkpoint to: 'checkpoints/yolov3_ckpt_14.pth' ----\n"
          ],
          "name": "stdout"
        },
        {
          "output_type": "stream",
          "text": [
            "\rTraining Epoch 15:   0%|          | 0/180 [00:00<?, ?it/s]"
          ],
          "name": "stderr"
        },
        {
          "output_type": "stream",
          "text": [
            "\n",
            "---Evaluation---\n",
            "Training Loss 0.781865119934082\n",
            "Validation loss: 0.53121018409729\n",
            "\n",
            "Epoch: 15\n",
            "---- Training Model ----\n"
          ],
          "name": "stdout"
        },
        {
          "output_type": "stream",
          "text": [
            "Training Epoch 15: 100%|██████████| 180/180 [02:14<00:00,  1.33it/s]"
          ],
          "name": "stderr"
        },
        {
          "output_type": "stream",
          "text": [
            "\n",
            "---- Validating Model ----\n"
          ],
          "name": "stdout"
        },
        {
          "output_type": "stream",
          "text": [
            "\n",
            "Validating: 100%|██████████| 20/20 [00:04<00:00,  4.07it/s]\n",
            "Computing AP: 100%|██████████| 1/1 [00:00<00:00, 507.36it/s]\n"
          ],
          "name": "stderr"
        },
        {
          "output_type": "stream",
          "text": [
            "---- mAP 0.68300 ----\n",
            "Precision: 0.833941605839416, Recall: 0.7323717948717948\n",
            "---- Saving checkpoint to: 'checkpoints/yolov3_ckpt_15.pth' ----\n"
          ],
          "name": "stdout"
        },
        {
          "output_type": "stream",
          "text": [
            "\rTraining Epoch 16:   0%|          | 0/180 [00:00<?, ?it/s]"
          ],
          "name": "stderr"
        },
        {
          "output_type": "stream",
          "text": [
            "\n",
            "---Evaluation---\n",
            "Training Loss 0.5435227155685425\n",
            "Validation loss: 0.536450982093811\n",
            "\n",
            "Epoch: 16\n",
            "---- Training Model ----\n"
          ],
          "name": "stdout"
        },
        {
          "output_type": "stream",
          "text": [
            "Training Epoch 16: 100%|██████████| 180/180 [02:03<00:00,  1.46it/s]"
          ],
          "name": "stderr"
        },
        {
          "output_type": "stream",
          "text": [
            "\n",
            "---- Validating Model ----\n"
          ],
          "name": "stdout"
        },
        {
          "output_type": "stream",
          "text": [
            "\n",
            "Validating: 100%|██████████| 20/20 [00:04<00:00,  4.09it/s]\n",
            "Computing AP: 100%|██████████| 1/1 [00:00<00:00, 299.36it/s]\n"
          ],
          "name": "stderr"
        },
        {
          "output_type": "stream",
          "text": [
            "---- mAP 0.71289 ----\n",
            "Precision: 0.8198970840480274, Recall: 0.7660256410256411\n",
            "---- Saving checkpoint to: 'checkpoints/yolov3_ckpt_16.pth' ----\n"
          ],
          "name": "stdout"
        },
        {
          "output_type": "stream",
          "text": [
            "\rTraining Epoch 17:   0%|          | 0/180 [00:00<?, ?it/s]"
          ],
          "name": "stderr"
        },
        {
          "output_type": "stream",
          "text": [
            "\n",
            "---Evaluation---\n",
            "Training Loss 0.6423391103744507\n",
            "Validation loss: 0.5234965682029724\n",
            "\n",
            "Epoch: 17\n",
            "---- Training Model ----\n"
          ],
          "name": "stdout"
        },
        {
          "output_type": "stream",
          "text": [
            "Training Epoch 17: 100%|██████████| 180/180 [02:16<00:00,  1.32it/s]"
          ],
          "name": "stderr"
        },
        {
          "output_type": "stream",
          "text": [
            "\n",
            "---- Validating Model ----\n"
          ],
          "name": "stdout"
        },
        {
          "output_type": "stream",
          "text": [
            "\n",
            "Validating: 100%|██████████| 20/20 [00:04<00:00,  4.10it/s]\n",
            "Computing AP: 100%|██████████| 1/1 [00:00<00:00, 235.13it/s]\n"
          ],
          "name": "stderr"
        },
        {
          "output_type": "stream",
          "text": [
            "---- mAP 0.70626 ----\n",
            "Precision: 0.831858407079646, Recall: 0.7532051282051282\n",
            "---- Saving checkpoint to: 'checkpoints/yolov3_ckpt_17.pth' ----\n"
          ],
          "name": "stdout"
        },
        {
          "output_type": "stream",
          "text": [
            "\rTraining Epoch 18:   0%|          | 0/180 [00:00<?, ?it/s]"
          ],
          "name": "stderr"
        },
        {
          "output_type": "stream",
          "text": [
            "\n",
            "---Evaluation---\n",
            "Training Loss 0.6761255860328674\n",
            "Validation loss: 0.525274395942688\n",
            "\n",
            "Epoch: 18\n",
            "---- Training Model ----\n"
          ],
          "name": "stdout"
        },
        {
          "output_type": "stream",
          "text": [
            "Training Epoch 18: 100%|██████████| 180/180 [02:14<00:00,  1.34it/s]"
          ],
          "name": "stderr"
        },
        {
          "output_type": "stream",
          "text": [
            "\n",
            "---- Validating Model ----\n"
          ],
          "name": "stdout"
        },
        {
          "output_type": "stream",
          "text": [
            "\n",
            "Validating: 100%|██████████| 20/20 [00:04<00:00,  4.07it/s]\n",
            "Computing AP: 100%|██████████| 1/1 [00:00<00:00, 249.07it/s]\n"
          ],
          "name": "stderr"
        },
        {
          "output_type": "stream",
          "text": [
            "---- mAP 0.70380 ----\n",
            "Precision: 0.8368794326241135, Recall: 0.7564102564102564\n",
            "---- Saving checkpoint to: 'checkpoints/yolov3_ckpt_18.pth' ----\n"
          ],
          "name": "stdout"
        },
        {
          "output_type": "stream",
          "text": [
            "\rTraining Epoch 19:   0%|          | 0/180 [00:00<?, ?it/s]"
          ],
          "name": "stderr"
        },
        {
          "output_type": "stream",
          "text": [
            "\n",
            "---Evaluation---\n",
            "Training Loss 0.7739818692207336\n",
            "Validation loss: 0.5250949859619141\n",
            "\n",
            "Epoch: 19\n",
            "---- Training Model ----\n"
          ],
          "name": "stdout"
        },
        {
          "output_type": "stream",
          "text": [
            "Training Epoch 19: 100%|██████████| 180/180 [02:06<00:00,  1.43it/s]"
          ],
          "name": "stderr"
        },
        {
          "output_type": "stream",
          "text": [
            "\n",
            "---- Validating Model ----\n"
          ],
          "name": "stdout"
        },
        {
          "output_type": "stream",
          "text": [
            "\n",
            "Validating: 100%|██████████| 20/20 [00:04<00:00,  4.04it/s]\n",
            "Computing AP: 100%|██████████| 1/1 [00:00<00:00, 200.14it/s]\n"
          ],
          "name": "stderr"
        },
        {
          "output_type": "stream",
          "text": [
            "---- mAP 0.71339 ----\n",
            "Precision: 0.8235294117647058, Recall: 0.7628205128205128\n",
            "---- Saving checkpoint to: 'checkpoints/yolov3_ckpt_19.pth' ----\n"
          ],
          "name": "stdout"
        },
        {
          "output_type": "stream",
          "text": [
            "\rTraining Epoch 20:   0%|          | 0/180 [00:00<?, ?it/s]"
          ],
          "name": "stderr"
        },
        {
          "output_type": "stream",
          "text": [
            "\n",
            "---Evaluation---\n",
            "Training Loss 0.5673450231552124\n",
            "Validation loss: 0.5321612358093262\n",
            "\n",
            "Epoch: 20\n",
            "---- Training Model ----\n"
          ],
          "name": "stdout"
        },
        {
          "output_type": "stream",
          "text": [
            "Training Epoch 20: 100%|██████████| 180/180 [02:06<00:00,  1.42it/s]"
          ],
          "name": "stderr"
        },
        {
          "output_type": "stream",
          "text": [
            "\n",
            "---- Validating Model ----\n"
          ],
          "name": "stdout"
        },
        {
          "output_type": "stream",
          "text": [
            "\n",
            "Validating: 100%|██████████| 20/20 [00:04<00:00,  4.04it/s]\n",
            "Computing AP: 100%|██████████| 1/1 [00:00<00:00, 260.53it/s]\n"
          ],
          "name": "stderr"
        },
        {
          "output_type": "stream",
          "text": [
            "---- mAP 0.69396 ----\n",
            "Precision: 0.823321554770318, Recall: 0.7467948717948718\n",
            "---- Saving checkpoint to: 'checkpoints/yolov3_ckpt_20.pth' ----\n"
          ],
          "name": "stdout"
        },
        {
          "output_type": "stream",
          "text": [
            "\rTraining Epoch 21:   0%|          | 0/180 [00:00<?, ?it/s]"
          ],
          "name": "stderr"
        },
        {
          "output_type": "stream",
          "text": [
            "\n",
            "---Evaluation---\n",
            "Training Loss 0.5941444635391235\n",
            "Validation loss: 0.5294262170791626\n",
            "\n",
            "Epoch: 21\n",
            "---- Training Model ----\n"
          ],
          "name": "stdout"
        },
        {
          "output_type": "stream",
          "text": [
            "Training Epoch 21: 100%|██████████| 180/180 [02:12<00:00,  1.36it/s]"
          ],
          "name": "stderr"
        },
        {
          "output_type": "stream",
          "text": [
            "\n",
            "---- Validating Model ----\n"
          ],
          "name": "stdout"
        },
        {
          "output_type": "stream",
          "text": [
            "\n",
            "Validating: 100%|██████████| 20/20 [00:04<00:00,  4.08it/s]\n",
            "Computing AP: 100%|██████████| 1/1 [00:00<00:00, 241.50it/s]\n"
          ],
          "name": "stderr"
        },
        {
          "output_type": "stream",
          "text": [
            "---- mAP 0.69016 ----\n",
            "Precision: 0.8235294117647058, Recall: 0.7403846153846154\n",
            "---- Saving checkpoint to: 'checkpoints/yolov3_ckpt_21.pth' ----\n"
          ],
          "name": "stdout"
        },
        {
          "output_type": "stream",
          "text": [
            "\rTraining Epoch 22:   0%|          | 0/180 [00:00<?, ?it/s]"
          ],
          "name": "stderr"
        },
        {
          "output_type": "stream",
          "text": [
            "\n",
            "---Evaluation---\n",
            "Training Loss 0.5945262312889099\n",
            "Validation loss: 0.5296624302864075\n",
            "\n",
            "Epoch: 22\n",
            "---- Training Model ----\n"
          ],
          "name": "stdout"
        },
        {
          "output_type": "stream",
          "text": [
            "Training Epoch 22: 100%|██████████| 180/180 [02:20<00:00,  1.28it/s]"
          ],
          "name": "stderr"
        },
        {
          "output_type": "stream",
          "text": [
            "\n",
            "---- Validating Model ----\n"
          ],
          "name": "stdout"
        },
        {
          "output_type": "stream",
          "text": [
            "\n",
            "Validating: 100%|██████████| 20/20 [00:04<00:00,  4.09it/s]\n",
            "Computing AP: 100%|██████████| 1/1 [00:00<00:00, 270.76it/s]\n"
          ],
          "name": "stderr"
        },
        {
          "output_type": "stream",
          "text": [
            "---- mAP 0.67748 ----\n",
            "Precision: 0.8481973434535104, Recall: 0.7163461538461539\n",
            "---- Saving checkpoint to: 'checkpoints/yolov3_ckpt_22.pth' ----\n"
          ],
          "name": "stdout"
        },
        {
          "output_type": "stream",
          "text": [
            "\rTraining Epoch 23:   0%|          | 0/180 [00:00<?, ?it/s]"
          ],
          "name": "stderr"
        },
        {
          "output_type": "stream",
          "text": [
            "\n",
            "---Evaluation---\n",
            "Training Loss 0.5937478542327881\n",
            "Validation loss: 0.5165762901306152\n",
            "\n",
            "Epoch: 23\n",
            "---- Training Model ----\n"
          ],
          "name": "stdout"
        },
        {
          "output_type": "stream",
          "text": [
            "Training Epoch 23: 100%|██████████| 180/180 [02:15<00:00,  1.33it/s]"
          ],
          "name": "stderr"
        },
        {
          "output_type": "stream",
          "text": [
            "\n",
            "---- Validating Model ----\n"
          ],
          "name": "stdout"
        },
        {
          "output_type": "stream",
          "text": [
            "\n",
            "Validating: 100%|██████████| 20/20 [00:04<00:00,  4.11it/s]\n",
            "Computing AP: 100%|██████████| 1/1 [00:00<00:00, 282.77it/s]\n"
          ],
          "name": "stderr"
        },
        {
          "output_type": "stream",
          "text": [
            "---- mAP 0.67827 ----\n",
            "Precision: 0.8254545454545454, Recall: 0.7275641025641025\n",
            "---- Saving checkpoint to: 'checkpoints/yolov3_ckpt_23.pth' ----\n"
          ],
          "name": "stdout"
        },
        {
          "output_type": "stream",
          "text": [
            "\rTraining Epoch 24:   0%|          | 0/180 [00:00<?, ?it/s]"
          ],
          "name": "stderr"
        },
        {
          "output_type": "stream",
          "text": [
            "\n",
            "---Evaluation---\n",
            "Training Loss 0.5481320023536682\n",
            "Validation loss: 0.525794267654419\n",
            "\n",
            "Epoch: 24\n",
            "---- Training Model ----\n"
          ],
          "name": "stdout"
        },
        {
          "output_type": "stream",
          "text": [
            "Training Epoch 24: 100%|██████████| 180/180 [02:16<00:00,  1.32it/s]"
          ],
          "name": "stderr"
        },
        {
          "output_type": "stream",
          "text": [
            "\n",
            "---- Validating Model ----\n"
          ],
          "name": "stdout"
        },
        {
          "output_type": "stream",
          "text": [
            "\n",
            "Validating: 100%|██████████| 20/20 [00:04<00:00,  4.04it/s]\n",
            "Computing AP: 100%|██████████| 1/1 [00:00<00:00, 251.70it/s]\n"
          ],
          "name": "stderr"
        },
        {
          "output_type": "stream",
          "text": [
            "---- mAP 0.68467 ----\n",
            "Precision: 0.8199643493761141, Recall: 0.7371794871794872\n",
            "---- Saving checkpoint to: 'checkpoints/yolov3_ckpt_24.pth' ----\n"
          ],
          "name": "stdout"
        },
        {
          "output_type": "stream",
          "text": [
            "\rTraining Epoch 25:   0%|          | 0/180 [00:00<?, ?it/s]"
          ],
          "name": "stderr"
        },
        {
          "output_type": "stream",
          "text": [
            "\n",
            "---Evaluation---\n",
            "Training Loss 0.5407367944717407\n",
            "Validation loss: 0.5173342227935791\n",
            "\n",
            "Epoch: 25\n",
            "---- Training Model ----\n"
          ],
          "name": "stdout"
        },
        {
          "output_type": "stream",
          "text": [
            "Training Epoch 25: 100%|██████████| 180/180 [02:14<00:00,  1.34it/s]"
          ],
          "name": "stderr"
        },
        {
          "output_type": "stream",
          "text": [
            "\n",
            "---- Validating Model ----\n"
          ],
          "name": "stdout"
        },
        {
          "output_type": "stream",
          "text": [
            "\n",
            "Validating: 100%|██████████| 20/20 [00:04<00:00,  4.05it/s]\n",
            "Computing AP: 100%|██████████| 1/1 [00:00<00:00, 195.57it/s]\n"
          ],
          "name": "stderr"
        },
        {
          "output_type": "stream",
          "text": [
            "---- mAP 0.69099 ----\n",
            "Precision: 0.8084358523725835, Recall: 0.7371794871794872\n",
            "---- Saving checkpoint to: 'checkpoints/yolov3_ckpt_25.pth' ----\n"
          ],
          "name": "stdout"
        },
        {
          "output_type": "stream",
          "text": [
            "\rTraining Epoch 26:   0%|          | 0/180 [00:00<?, ?it/s]"
          ],
          "name": "stderr"
        },
        {
          "output_type": "stream",
          "text": [
            "\n",
            "---Evaluation---\n",
            "Training Loss 0.5538815259933472\n",
            "Validation loss: 0.515978217124939\n",
            "\n",
            "Epoch: 26\n",
            "---- Training Model ----\n"
          ],
          "name": "stdout"
        },
        {
          "output_type": "stream",
          "text": [
            "Training Epoch 26: 100%|██████████| 180/180 [02:22<00:00,  1.26it/s]"
          ],
          "name": "stderr"
        },
        {
          "output_type": "stream",
          "text": [
            "\n",
            "---- Validating Model ----\n"
          ],
          "name": "stdout"
        },
        {
          "output_type": "stream",
          "text": [
            "\n",
            "Validating: 100%|██████████| 20/20 [00:04<00:00,  4.00it/s]\n",
            "Computing AP: 100%|██████████| 1/1 [00:00<00:00, 447.25it/s]\n"
          ],
          "name": "stderr"
        },
        {
          "output_type": "stream",
          "text": [
            "---- mAP 0.70480 ----\n",
            "Precision: 0.8369175627240143, Recall: 0.7483974358974359\n",
            "---- Saving checkpoint to: 'checkpoints/yolov3_ckpt_26.pth' ----\n"
          ],
          "name": "stdout"
        },
        {
          "output_type": "stream",
          "text": [
            "\rTraining Epoch 27:   0%|          | 0/180 [00:00<?, ?it/s]"
          ],
          "name": "stderr"
        },
        {
          "output_type": "stream",
          "text": [
            "\n",
            "---Evaluation---\n",
            "Training Loss 0.6944433450698853\n",
            "Validation loss: 0.5296039581298828\n",
            "\n",
            "Epoch: 27\n",
            "---- Training Model ----\n"
          ],
          "name": "stdout"
        },
        {
          "output_type": "stream",
          "text": [
            "Training Epoch 27: 100%|██████████| 180/180 [02:05<00:00,  1.44it/s]"
          ],
          "name": "stderr"
        },
        {
          "output_type": "stream",
          "text": [
            "\n",
            "---- Validating Model ----\n"
          ],
          "name": "stdout"
        },
        {
          "output_type": "stream",
          "text": [
            "\n",
            "Validating: 100%|██████████| 20/20 [00:04<00:00,  4.08it/s]\n",
            "Computing AP: 100%|██████████| 1/1 [00:00<00:00, 169.80it/s]\n"
          ],
          "name": "stderr"
        },
        {
          "output_type": "stream",
          "text": [
            "---- mAP 0.70053 ----\n",
            "Precision: 0.8218694885361552, Recall: 0.7467948717948718\n",
            "---- Saving checkpoint to: 'checkpoints/yolov3_ckpt_27.pth' ----\n"
          ],
          "name": "stdout"
        },
        {
          "output_type": "stream",
          "text": [
            "\rTraining Epoch 28:   0%|          | 0/180 [00:00<?, ?it/s]"
          ],
          "name": "stderr"
        },
        {
          "output_type": "stream",
          "text": [
            "\n",
            "---Evaluation---\n",
            "Training Loss 0.5759714245796204\n",
            "Validation loss: 0.5173429846763611\n",
            "\n",
            "Epoch: 28\n",
            "---- Training Model ----\n"
          ],
          "name": "stdout"
        },
        {
          "output_type": "stream",
          "text": [
            "Training Epoch 28: 100%|██████████| 180/180 [02:16<00:00,  1.32it/s]"
          ],
          "name": "stderr"
        },
        {
          "output_type": "stream",
          "text": [
            "\n",
            "---- Validating Model ----\n"
          ],
          "name": "stdout"
        },
        {
          "output_type": "stream",
          "text": [
            "\n",
            "Validating: 100%|██████████| 20/20 [00:04<00:00,  4.06it/s]\n",
            "Computing AP: 100%|██████████| 1/1 [00:00<00:00, 278.04it/s]\n"
          ],
          "name": "stderr"
        },
        {
          "output_type": "stream",
          "text": [
            "---- mAP 0.67297 ----\n",
            "Precision: 0.8315018315018315, Recall: 0.7275641025641025\n",
            "---- Saving checkpoint to: 'checkpoints/yolov3_ckpt_28.pth' ----\n"
          ],
          "name": "stdout"
        },
        {
          "output_type": "stream",
          "text": [
            "\rTraining Epoch 29:   0%|          | 0/180 [00:00<?, ?it/s]"
          ],
          "name": "stderr"
        },
        {
          "output_type": "stream",
          "text": [
            "\n",
            "---Evaluation---\n",
            "Training Loss 0.47547438740730286\n",
            "Validation loss: 0.5262859463691711\n",
            "\n",
            "Epoch: 29\n",
            "---- Training Model ----\n"
          ],
          "name": "stdout"
        },
        {
          "output_type": "stream",
          "text": [
            "Training Epoch 29: 100%|██████████| 180/180 [02:14<00:00,  1.34it/s]"
          ],
          "name": "stderr"
        },
        {
          "output_type": "stream",
          "text": [
            "\n",
            "---- Validating Model ----\n"
          ],
          "name": "stdout"
        },
        {
          "output_type": "stream",
          "text": [
            "\n",
            "Validating: 100%|██████████| 20/20 [00:04<00:00,  4.08it/s]\n",
            "Computing AP: 100%|██████████| 1/1 [00:00<00:00, 238.39it/s]\n"
          ],
          "name": "stderr"
        },
        {
          "output_type": "stream",
          "text": [
            "---- mAP 0.67950 ----\n",
            "Precision: 0.8302919708029197, Recall: 0.7291666666666666\n",
            "---- Saving checkpoint to: 'checkpoints/yolov3_ckpt_29.pth' ----\n"
          ],
          "name": "stdout"
        },
        {
          "output_type": "stream",
          "text": [
            "\rTraining Epoch 30:   0%|          | 0/180 [00:00<?, ?it/s]"
          ],
          "name": "stderr"
        },
        {
          "output_type": "stream",
          "text": [
            "\n",
            "---Evaluation---\n",
            "Training Loss 0.5832230448722839\n",
            "Validation loss: 0.5265528559684753\n",
            "\n",
            "Epoch: 30\n",
            "---- Training Model ----\n"
          ],
          "name": "stdout"
        },
        {
          "output_type": "stream",
          "text": [
            "Training Epoch 30: 100%|██████████| 180/180 [02:05<00:00,  1.44it/s]"
          ],
          "name": "stderr"
        },
        {
          "output_type": "stream",
          "text": [
            "\n",
            "---- Validating Model ----\n"
          ],
          "name": "stdout"
        },
        {
          "output_type": "stream",
          "text": [
            "\n",
            "Validating: 100%|██████████| 20/20 [00:04<00:00,  4.05it/s]\n",
            "Computing AP: 100%|██████████| 1/1 [00:00<00:00, 441.41it/s]\n"
          ],
          "name": "stderr"
        },
        {
          "output_type": "stream",
          "text": [
            "---- mAP 0.71895 ----\n",
            "Precision: 0.8084033613445378, Recall: 0.7708333333333334\n",
            "---- Saving checkpoint to: 'checkpoints/yolov3_ckpt_30.pth' ----\n"
          ],
          "name": "stdout"
        },
        {
          "output_type": "stream",
          "text": [
            "\rTraining Epoch 31:   0%|          | 0/180 [00:00<?, ?it/s]"
          ],
          "name": "stderr"
        },
        {
          "output_type": "stream",
          "text": [
            "\n",
            "---Evaluation---\n",
            "Training Loss 0.592479407787323\n",
            "Validation loss: 0.5208204984664917\n",
            "\n",
            "Epoch: 31\n",
            "---- Training Model ----\n"
          ],
          "name": "stdout"
        },
        {
          "output_type": "stream",
          "text": [
            "Training Epoch 31: 100%|██████████| 180/180 [02:21<00:00,  1.27it/s]"
          ],
          "name": "stderr"
        },
        {
          "output_type": "stream",
          "text": [
            "\n",
            "---- Validating Model ----\n"
          ],
          "name": "stdout"
        },
        {
          "output_type": "stream",
          "text": [
            "\n",
            "Validating: 100%|██████████| 20/20 [00:04<00:00,  4.07it/s]\n",
            "Computing AP: 100%|██████████| 1/1 [00:00<00:00, 303.50it/s]\n"
          ],
          "name": "stderr"
        },
        {
          "output_type": "stream",
          "text": [
            "---- mAP 0.70295 ----\n",
            "Precision: 0.8345195729537367, Recall: 0.7516025641025641\n",
            "---- Saving checkpoint to: 'checkpoints/yolov3_ckpt_31.pth' ----\n"
          ],
          "name": "stdout"
        },
        {
          "output_type": "stream",
          "text": [
            "\rTraining Epoch 32:   0%|          | 0/180 [00:00<?, ?it/s]"
          ],
          "name": "stderr"
        },
        {
          "output_type": "stream",
          "text": [
            "\n",
            "---Evaluation---\n",
            "Training Loss 0.6246019005775452\n",
            "Validation loss: 0.5102471113204956\n",
            "\n",
            "Epoch: 32\n",
            "---- Training Model ----\n"
          ],
          "name": "stdout"
        },
        {
          "output_type": "stream",
          "text": [
            "Training Epoch 32: 100%|██████████| 180/180 [02:00<00:00,  1.50it/s]"
          ],
          "name": "stderr"
        },
        {
          "output_type": "stream",
          "text": [
            "\n",
            "---- Validating Model ----\n"
          ],
          "name": "stdout"
        },
        {
          "output_type": "stream",
          "text": [
            "\n",
            "Validating: 100%|██████████| 20/20 [00:04<00:00,  4.05it/s]\n",
            "Computing AP: 100%|██████████| 1/1 [00:00<00:00, 269.02it/s]\n"
          ],
          "name": "stderr"
        },
        {
          "output_type": "stream",
          "text": [
            "---- mAP 0.69485 ----\n",
            "Precision: 0.8169014084507042, Recall: 0.7435897435897436\n",
            "---- Saving checkpoint to: 'checkpoints/yolov3_ckpt_32.pth' ----\n"
          ],
          "name": "stdout"
        },
        {
          "output_type": "stream",
          "text": [
            "\rTraining Epoch 33:   0%|          | 0/180 [00:00<?, ?it/s]"
          ],
          "name": "stderr"
        },
        {
          "output_type": "stream",
          "text": [
            "\n",
            "---Evaluation---\n",
            "Training Loss 0.5970525145530701\n",
            "Validation loss: 0.5124857425689697\n",
            "\n",
            "Epoch: 33\n",
            "---- Training Model ----\n"
          ],
          "name": "stdout"
        },
        {
          "output_type": "stream",
          "text": [
            "Training Epoch 33: 100%|██████████| 180/180 [02:09<00:00,  1.39it/s]"
          ],
          "name": "stderr"
        },
        {
          "output_type": "stream",
          "text": [
            "\n",
            "---- Validating Model ----\n"
          ],
          "name": "stdout"
        },
        {
          "output_type": "stream",
          "text": [
            "\n",
            "Validating: 100%|██████████| 20/20 [00:04<00:00,  4.11it/s]\n",
            "Computing AP: 100%|██████████| 1/1 [00:00<00:00, 499.74it/s]\n"
          ],
          "name": "stderr"
        },
        {
          "output_type": "stream",
          "text": [
            "---- mAP 0.70689 ----\n",
            "Precision: 0.8102564102564103, Recall: 0.7596153846153846\n",
            "---- Saving checkpoint to: 'checkpoints/yolov3_ckpt_33.pth' ----\n"
          ],
          "name": "stdout"
        },
        {
          "output_type": "stream",
          "text": [
            "\rTraining Epoch 34:   0%|          | 0/180 [00:00<?, ?it/s]"
          ],
          "name": "stderr"
        },
        {
          "output_type": "stream",
          "text": [
            "\n",
            "---Evaluation---\n",
            "Training Loss 0.640206515789032\n",
            "Validation loss: 0.5149993300437927\n",
            "\n",
            "Epoch: 34\n",
            "---- Training Model ----\n"
          ],
          "name": "stdout"
        },
        {
          "output_type": "stream",
          "text": [
            "Training Epoch 34: 100%|██████████| 180/180 [02:19<00:00,  1.29it/s]"
          ],
          "name": "stderr"
        },
        {
          "output_type": "stream",
          "text": [
            "\n",
            "---- Validating Model ----\n"
          ],
          "name": "stdout"
        },
        {
          "output_type": "stream",
          "text": [
            "\n",
            "Validating: 100%|██████████| 20/20 [00:04<00:00,  4.09it/s]\n",
            "Computing AP: 100%|██████████| 1/1 [00:00<00:00, 153.12it/s]\n"
          ],
          "name": "stderr"
        },
        {
          "output_type": "stream",
          "text": [
            "---- mAP 0.69223 ----\n",
            "Precision: 0.8309352517985612, Recall: 0.7403846153846154\n",
            "---- Saving checkpoint to: 'checkpoints/yolov3_ckpt_34.pth' ----\n"
          ],
          "name": "stdout"
        },
        {
          "output_type": "stream",
          "text": [
            "\rTraining Epoch 35:   0%|          | 0/180 [00:00<?, ?it/s]"
          ],
          "name": "stderr"
        },
        {
          "output_type": "stream",
          "text": [
            "\n",
            "---Evaluation---\n",
            "Training Loss 0.6312286257743835\n",
            "Validation loss: 0.5207535028457642\n",
            "\n",
            "Epoch: 35\n",
            "---- Training Model ----\n"
          ],
          "name": "stdout"
        },
        {
          "output_type": "stream",
          "text": [
            "Training Epoch 35: 100%|██████████| 180/180 [02:13<00:00,  1.35it/s]"
          ],
          "name": "stderr"
        },
        {
          "output_type": "stream",
          "text": [
            "\n",
            "---- Validating Model ----\n"
          ],
          "name": "stdout"
        },
        {
          "output_type": "stream",
          "text": [
            "\n",
            "Validating: 100%|██████████| 20/20 [00:04<00:00,  4.05it/s]\n",
            "Computing AP: 100%|██████████| 1/1 [00:00<00:00, 232.42it/s]\n"
          ],
          "name": "stderr"
        },
        {
          "output_type": "stream",
          "text": [
            "---- mAP 0.69921 ----\n",
            "Precision: 0.8303571428571429, Recall: 0.7451923076923077\n",
            "---- Saving checkpoint to: 'checkpoints/yolov3_ckpt_35.pth' ----\n"
          ],
          "name": "stdout"
        },
        {
          "output_type": "stream",
          "text": [
            "\rTraining Epoch 36:   0%|          | 0/180 [00:00<?, ?it/s]"
          ],
          "name": "stderr"
        },
        {
          "output_type": "stream",
          "text": [
            "\n",
            "---Evaluation---\n",
            "Training Loss 0.7073906660079956\n",
            "Validation loss: 0.5237533450126648\n",
            "\n",
            "Epoch: 36\n",
            "---- Training Model ----\n"
          ],
          "name": "stdout"
        },
        {
          "output_type": "stream",
          "text": [
            "Training Epoch 36: 100%|██████████| 180/180 [02:23<00:00,  1.26it/s]"
          ],
          "name": "stderr"
        },
        {
          "output_type": "stream",
          "text": [
            "\n",
            "---- Validating Model ----\n"
          ],
          "name": "stdout"
        },
        {
          "output_type": "stream",
          "text": [
            "\n",
            "Validating: 100%|██████████| 20/20 [00:04<00:00,  4.00it/s]\n",
            "Computing AP: 100%|██████████| 1/1 [00:00<00:00, 256.50it/s]\n"
          ],
          "name": "stderr"
        },
        {
          "output_type": "stream",
          "text": [
            "---- mAP 0.69169 ----\n",
            "Precision: 0.8360655737704918, Recall: 0.7355769230769231\n",
            "---- Saving checkpoint to: 'checkpoints/yolov3_ckpt_36.pth' ----\n"
          ],
          "name": "stdout"
        },
        {
          "output_type": "stream",
          "text": [
            "\rTraining Epoch 37:   0%|          | 0/180 [00:00<?, ?it/s]"
          ],
          "name": "stderr"
        },
        {
          "output_type": "stream",
          "text": [
            "\n",
            "---Evaluation---\n",
            "Training Loss 0.5315116047859192\n",
            "Validation loss: 0.5111587643623352\n",
            "\n",
            "Epoch: 37\n",
            "---- Training Model ----\n"
          ],
          "name": "stdout"
        },
        {
          "output_type": "stream",
          "text": [
            "Training Epoch 37: 100%|██████████| 180/180 [02:19<00:00,  1.29it/s]"
          ],
          "name": "stderr"
        },
        {
          "output_type": "stream",
          "text": [
            "\n",
            "---- Validating Model ----\n"
          ],
          "name": "stdout"
        },
        {
          "output_type": "stream",
          "text": [
            "\n",
            "Validating: 100%|██████████| 20/20 [00:04<00:00,  4.14it/s]\n",
            "Computing AP: 100%|██████████| 1/1 [00:00<00:00, 183.09it/s]\n"
          ],
          "name": "stderr"
        },
        {
          "output_type": "stream",
          "text": [
            "---- mAP 0.65404 ----\n",
            "Precision: 0.8371647509578544, Recall: 0.7003205128205128\n",
            "---- Saving checkpoint to: 'checkpoints/yolov3_ckpt_37.pth' ----\n"
          ],
          "name": "stdout"
        },
        {
          "output_type": "stream",
          "text": [
            "\rTraining Epoch 38:   0%|          | 0/180 [00:00<?, ?it/s]"
          ],
          "name": "stderr"
        },
        {
          "output_type": "stream",
          "text": [
            "\n",
            "---Evaluation---\n",
            "Training Loss 0.6996821761131287\n",
            "Validation loss: 0.5109633207321167\n",
            "\n",
            "Epoch: 38\n",
            "---- Training Model ----\n"
          ],
          "name": "stdout"
        },
        {
          "output_type": "stream",
          "text": [
            "Training Epoch 38: 100%|██████████| 180/180 [02:08<00:00,  1.40it/s]"
          ],
          "name": "stderr"
        },
        {
          "output_type": "stream",
          "text": [
            "\n",
            "---- Validating Model ----\n"
          ],
          "name": "stdout"
        },
        {
          "output_type": "stream",
          "text": [
            "\n",
            "Validating: 100%|██████████| 20/20 [00:04<00:00,  4.09it/s]\n",
            "Computing AP: 100%|██████████| 1/1 [00:00<00:00, 274.82it/s]\n"
          ],
          "name": "stderr"
        },
        {
          "output_type": "stream",
          "text": [
            "---- mAP 0.70790 ----\n",
            "Precision: 0.8085470085470086, Recall: 0.7580128205128205\n",
            "---- Saving checkpoint to: 'checkpoints/yolov3_ckpt_38.pth' ----\n"
          ],
          "name": "stdout"
        },
        {
          "output_type": "stream",
          "text": [
            "\rTraining Epoch 39:   0%|          | 0/180 [00:00<?, ?it/s]"
          ],
          "name": "stderr"
        },
        {
          "output_type": "stream",
          "text": [
            "\n",
            "---Evaluation---\n",
            "Training Loss 0.6121569871902466\n",
            "Validation loss: 0.5256457924842834\n",
            "\n",
            "Epoch: 39\n",
            "---- Training Model ----\n"
          ],
          "name": "stdout"
        },
        {
          "output_type": "stream",
          "text": [
            "Training Epoch 39: 100%|██████████| 180/180 [02:09<00:00,  1.39it/s]"
          ],
          "name": "stderr"
        },
        {
          "output_type": "stream",
          "text": [
            "\n",
            "---- Validating Model ----\n"
          ],
          "name": "stdout"
        },
        {
          "output_type": "stream",
          "text": [
            "\n",
            "Validating: 100%|██████████| 20/20 [00:04<00:00,  4.11it/s]\n",
            "Computing AP: 100%|██████████| 1/1 [00:00<00:00, 233.32it/s]\n"
          ],
          "name": "stderr"
        },
        {
          "output_type": "stream",
          "text": [
            "---- mAP 0.73022 ----\n",
            "Precision: 0.7925445705024311, Recall: 0.7836538461538461\n",
            "---- Saving checkpoint to: 'checkpoints/yolov3_ckpt_39.pth' ----\n"
          ],
          "name": "stdout"
        },
        {
          "output_type": "stream",
          "text": [
            "\rTraining Epoch 40:   0%|          | 0/180 [00:00<?, ?it/s]"
          ],
          "name": "stderr"
        },
        {
          "output_type": "stream",
          "text": [
            "\n",
            "---Evaluation---\n",
            "Training Loss 0.632174015045166\n",
            "Validation loss: 0.5142489075660706\n",
            "\n",
            "Epoch: 40\n",
            "---- Training Model ----\n"
          ],
          "name": "stdout"
        },
        {
          "output_type": "stream",
          "text": [
            "Training Epoch 40: 100%|██████████| 180/180 [02:13<00:00,  1.35it/s]"
          ],
          "name": "stderr"
        },
        {
          "output_type": "stream",
          "text": [
            "\n",
            "---- Validating Model ----\n"
          ],
          "name": "stdout"
        },
        {
          "output_type": "stream",
          "text": [
            "\n",
            "Validating: 100%|██████████| 20/20 [00:04<00:00,  4.16it/s]\n",
            "Computing AP: 100%|██████████| 1/1 [00:00<00:00, 293.06it/s]\n"
          ],
          "name": "stderr"
        },
        {
          "output_type": "stream",
          "text": [
            "---- mAP 0.70491 ----\n",
            "Precision: 0.8219895287958116, Recall: 0.7548076923076923\n",
            "---- Saving checkpoint to: 'checkpoints/yolov3_ckpt_40.pth' ----\n"
          ],
          "name": "stdout"
        },
        {
          "output_type": "stream",
          "text": [
            "\rTraining Epoch 41:   0%|          | 0/180 [00:00<?, ?it/s]"
          ],
          "name": "stderr"
        },
        {
          "output_type": "stream",
          "text": [
            "\n",
            "---Evaluation---\n",
            "Training Loss 0.6316038966178894\n",
            "Validation loss: 0.5186127424240112\n",
            "\n",
            "Epoch: 41\n",
            "---- Training Model ----\n"
          ],
          "name": "stdout"
        },
        {
          "output_type": "stream",
          "text": [
            "Training Epoch 41: 100%|██████████| 180/180 [02:05<00:00,  1.44it/s]"
          ],
          "name": "stderr"
        },
        {
          "output_type": "stream",
          "text": [
            "\n",
            "---- Validating Model ----\n"
          ],
          "name": "stdout"
        },
        {
          "output_type": "stream",
          "text": [
            "\n",
            "Validating: 100%|██████████| 20/20 [00:04<00:00,  4.11it/s]\n",
            "Computing AP: 100%|██████████| 1/1 [00:00<00:00, 194.15it/s]\n"
          ],
          "name": "stderr"
        },
        {
          "output_type": "stream",
          "text": [
            "---- mAP 0.71595 ----\n",
            "Precision: 0.8101694915254237, Recall: 0.7660256410256411\n",
            "---- Saving checkpoint to: 'checkpoints/yolov3_ckpt_41.pth' ----\n"
          ],
          "name": "stdout"
        },
        {
          "output_type": "stream",
          "text": [
            "\rTraining Epoch 42:   0%|          | 0/180 [00:00<?, ?it/s]"
          ],
          "name": "stderr"
        },
        {
          "output_type": "stream",
          "text": [
            "\n",
            "---Evaluation---\n",
            "Training Loss 0.6450580358505249\n",
            "Validation loss: 0.5149548053741455\n",
            "\n",
            "Epoch: 42\n",
            "---- Training Model ----\n"
          ],
          "name": "stdout"
        },
        {
          "output_type": "stream",
          "text": [
            "Training Epoch 42: 100%|██████████| 180/180 [02:12<00:00,  1.36it/s]"
          ],
          "name": "stderr"
        },
        {
          "output_type": "stream",
          "text": [
            "\n",
            "---- Validating Model ----\n"
          ],
          "name": "stdout"
        },
        {
          "output_type": "stream",
          "text": [
            "\n",
            "Validating: 100%|██████████| 20/20 [00:04<00:00,  4.09it/s]\n",
            "Computing AP: 100%|██████████| 1/1 [00:00<00:00, 371.05it/s]\n"
          ],
          "name": "stderr"
        },
        {
          "output_type": "stream",
          "text": [
            "---- mAP 0.68923 ----\n",
            "Precision: 0.827027027027027, Recall: 0.7355769230769231\n",
            "---- Saving checkpoint to: 'checkpoints/yolov3_ckpt_42.pth' ----\n"
          ],
          "name": "stdout"
        },
        {
          "output_type": "stream",
          "text": [
            "\rTraining Epoch 43:   0%|          | 0/180 [00:00<?, ?it/s]"
          ],
          "name": "stderr"
        },
        {
          "output_type": "stream",
          "text": [
            "\n",
            "---Evaluation---\n",
            "Training Loss 0.5891611576080322\n",
            "Validation loss: 0.5193164944648743\n",
            "\n",
            "Epoch: 43\n",
            "---- Training Model ----\n"
          ],
          "name": "stdout"
        },
        {
          "output_type": "stream",
          "text": [
            "Training Epoch 43: 100%|██████████| 180/180 [02:08<00:00,  1.40it/s]"
          ],
          "name": "stderr"
        },
        {
          "output_type": "stream",
          "text": [
            "\n",
            "---- Validating Model ----\n"
          ],
          "name": "stdout"
        },
        {
          "output_type": "stream",
          "text": [
            "\n",
            "Validating: 100%|██████████| 20/20 [00:04<00:00,  4.05it/s]\n",
            "Computing AP: 100%|██████████| 1/1 [00:00<00:00, 240.93it/s]\n"
          ],
          "name": "stderr"
        },
        {
          "output_type": "stream",
          "text": [
            "---- mAP 0.71132 ----\n",
            "Precision: 0.8067226890756303, Recall: 0.7692307692307693\n",
            "---- Saving checkpoint to: 'checkpoints/yolov3_ckpt_43.pth' ----\n"
          ],
          "name": "stdout"
        },
        {
          "output_type": "stream",
          "text": [
            "\rTraining Epoch 44:   0%|          | 0/180 [00:00<?, ?it/s]"
          ],
          "name": "stderr"
        },
        {
          "output_type": "stream",
          "text": [
            "\n",
            "---Evaluation---\n",
            "Training Loss 0.6213350296020508\n",
            "Validation loss: 0.5194500088691711\n",
            "\n",
            "Epoch: 44\n",
            "---- Training Model ----\n"
          ],
          "name": "stdout"
        },
        {
          "output_type": "stream",
          "text": [
            "Training Epoch 44: 100%|██████████| 180/180 [02:11<00:00,  1.37it/s]"
          ],
          "name": "stderr"
        },
        {
          "output_type": "stream",
          "text": [
            "\n",
            "---- Validating Model ----\n"
          ],
          "name": "stdout"
        },
        {
          "output_type": "stream",
          "text": [
            "\n",
            "Validating: 100%|██████████| 20/20 [00:04<00:00,  4.04it/s]\n",
            "Computing AP: 100%|██████████| 1/1 [00:00<00:00, 138.18it/s]\n"
          ],
          "name": "stderr"
        },
        {
          "output_type": "stream",
          "text": [
            "---- mAP 0.72592 ----\n",
            "Precision: 0.7976973684210527, Recall: 0.7772435897435898\n",
            "---- Saving checkpoint to: 'checkpoints/yolov3_ckpt_44.pth' ----\n"
          ],
          "name": "stdout"
        },
        {
          "output_type": "stream",
          "text": [
            "\rTraining Epoch 45:   0%|          | 0/180 [00:00<?, ?it/s]"
          ],
          "name": "stderr"
        },
        {
          "output_type": "stream",
          "text": [
            "\n",
            "---Evaluation---\n",
            "Training Loss 0.6087815165519714\n",
            "Validation loss: 0.5062640309333801\n",
            "\n",
            "Epoch: 45\n",
            "---- Training Model ----\n"
          ],
          "name": "stdout"
        },
        {
          "output_type": "stream",
          "text": [
            "Training Epoch 45: 100%|██████████| 180/180 [02:19<00:00,  1.29it/s]"
          ],
          "name": "stderr"
        },
        {
          "output_type": "stream",
          "text": [
            "\n",
            "---- Validating Model ----\n"
          ],
          "name": "stdout"
        },
        {
          "output_type": "stream",
          "text": [
            "\n",
            "Validating: 100%|██████████| 20/20 [00:05<00:00,  3.93it/s]\n",
            "Computing AP: 100%|██████████| 1/1 [00:00<00:00, 286.79it/s]\n"
          ],
          "name": "stderr"
        },
        {
          "output_type": "stream",
          "text": [
            "---- mAP 0.70773 ----\n",
            "Precision: 0.8245614035087719, Recall: 0.7532051282051282\n",
            "---- Saving checkpoint to: 'checkpoints/yolov3_ckpt_45.pth' ----\n"
          ],
          "name": "stdout"
        },
        {
          "output_type": "stream",
          "text": [
            "\rTraining Epoch 46:   0%|          | 0/180 [00:00<?, ?it/s]"
          ],
          "name": "stderr"
        },
        {
          "output_type": "stream",
          "text": [
            "\n",
            "---Evaluation---\n",
            "Training Loss 0.5480185747146606\n",
            "Validation loss: 0.5063958168029785\n",
            "\n",
            "Epoch: 46\n",
            "---- Training Model ----\n"
          ],
          "name": "stdout"
        },
        {
          "output_type": "stream",
          "text": [
            "Training Epoch 46: 100%|██████████| 180/180 [02:16<00:00,  1.32it/s]"
          ],
          "name": "stderr"
        },
        {
          "output_type": "stream",
          "text": [
            "\n",
            "---- Validating Model ----\n"
          ],
          "name": "stdout"
        },
        {
          "output_type": "stream",
          "text": [
            "\n",
            "Validating: 100%|██████████| 20/20 [00:04<00:00,  4.08it/s]\n",
            "Computing AP: 100%|██████████| 1/1 [00:00<00:00, 255.42it/s]\n"
          ],
          "name": "stderr"
        },
        {
          "output_type": "stream",
          "text": [
            "---- mAP 0.67854 ----\n",
            "Precision: 0.8132854578096947, Recall: 0.7259615384615384\n",
            "---- Saving checkpoint to: 'checkpoints/yolov3_ckpt_46.pth' ----\n"
          ],
          "name": "stdout"
        },
        {
          "output_type": "stream",
          "text": [
            "\rTraining Epoch 47:   0%|          | 0/180 [00:00<?, ?it/s]"
          ],
          "name": "stderr"
        },
        {
          "output_type": "stream",
          "text": [
            "\n",
            "---Evaluation---\n",
            "Training Loss 0.6016433835029602\n",
            "Validation loss: 0.504883348941803\n",
            "\n",
            "Epoch: 47\n",
            "---- Training Model ----\n"
          ],
          "name": "stdout"
        },
        {
          "output_type": "stream",
          "text": [
            "Training Epoch 47: 100%|██████████| 180/180 [02:01<00:00,  1.48it/s]"
          ],
          "name": "stderr"
        },
        {
          "output_type": "stream",
          "text": [
            "\n",
            "---- Validating Model ----\n"
          ],
          "name": "stdout"
        },
        {
          "output_type": "stream",
          "text": [
            "\n",
            "Validating: 100%|██████████| 20/20 [00:05<00:00,  3.99it/s]\n",
            "Computing AP: 100%|██████████| 1/1 [00:00<00:00, 229.67it/s]\n"
          ],
          "name": "stderr"
        },
        {
          "output_type": "stream",
          "text": [
            "---- mAP 0.69906 ----\n",
            "Precision: 0.7969543147208121, Recall: 0.7548076923076923\n",
            "---- Saving checkpoint to: 'checkpoints/yolov3_ckpt_47.pth' ----\n"
          ],
          "name": "stdout"
        },
        {
          "output_type": "stream",
          "text": [
            "\rTraining Epoch 48:   0%|          | 0/180 [00:00<?, ?it/s]"
          ],
          "name": "stderr"
        },
        {
          "output_type": "stream",
          "text": [
            "\n",
            "---Evaluation---\n",
            "Training Loss 0.5620502829551697\n",
            "Validation loss: 0.5130414366722107\n",
            "\n",
            "Epoch: 48\n",
            "---- Training Model ----\n"
          ],
          "name": "stdout"
        },
        {
          "output_type": "stream",
          "text": [
            "Training Epoch 48: 100%|██████████| 180/180 [02:15<00:00,  1.33it/s]"
          ],
          "name": "stderr"
        },
        {
          "output_type": "stream",
          "text": [
            "\n",
            "---- Validating Model ----\n"
          ],
          "name": "stdout"
        },
        {
          "output_type": "stream",
          "text": [
            "\n",
            "Validating: 100%|██████████| 20/20 [00:04<00:00,  4.10it/s]\n",
            "Computing AP: 100%|██████████| 1/1 [00:00<00:00, 242.18it/s]\n"
          ],
          "name": "stderr"
        },
        {
          "output_type": "stream",
          "text": [
            "---- mAP 0.69134 ----\n",
            "Precision: 0.8193202146690519, Recall: 0.7339743589743589\n",
            "---- Saving checkpoint to: 'checkpoints/yolov3_ckpt_48.pth' ----\n"
          ],
          "name": "stdout"
        },
        {
          "output_type": "stream",
          "text": [
            "\rTraining Epoch 49:   0%|          | 0/180 [00:00<?, ?it/s]"
          ],
          "name": "stderr"
        },
        {
          "output_type": "stream",
          "text": [
            "\n",
            "---Evaluation---\n",
            "Training Loss 0.5961825251579285\n",
            "Validation loss: 0.5260945558547974\n",
            "\n",
            "Epoch: 49\n",
            "---- Training Model ----\n"
          ],
          "name": "stdout"
        },
        {
          "output_type": "stream",
          "text": [
            "Training Epoch 49: 100%|██████████| 180/180 [02:06<00:00,  1.42it/s]"
          ],
          "name": "stderr"
        },
        {
          "output_type": "stream",
          "text": [
            "\n",
            "---- Validating Model ----\n"
          ],
          "name": "stdout"
        },
        {
          "output_type": "stream",
          "text": [
            "\n",
            "Validating: 100%|██████████| 20/20 [00:05<00:00,  3.95it/s]\n",
            "Computing AP: 100%|██████████| 1/1 [00:00<00:00, 170.60it/s]\n"
          ],
          "name": "stderr"
        },
        {
          "output_type": "stream",
          "text": [
            "---- mAP 0.70184 ----\n",
            "Precision: 0.7983050847457627, Recall: 0.7548076923076923\n",
            "---- Saving checkpoint to: 'checkpoints/yolov3_ckpt_49.pth' ----\n",
            "\n",
            "---Evaluation---\n",
            "Training Loss 0.633545994758606\n",
            "Validation loss: 0.5120260119438171\n"
          ],
          "name": "stdout"
        }
      ]
    },
    {
      "cell_type": "code",
      "metadata": {
        "id": "sT41OBUK5CdT"
      },
      "source": [
        "# Copy weights to google drive\n",
        "!cp checkpoints/yolov3_ckpt_49.pth /content/drive/MyDrive/CDA"
      ],
      "execution_count": 5,
      "outputs": []
    },
    {
      "cell_type": "markdown",
      "metadata": {
        "id": "h5BRYSsNfsBo"
      },
      "source": [
        "## Analysis and Plotting"
      ]
    },
    {
      "cell_type": "code",
      "metadata": {
        "id": "WwNGkTdeYBYB"
      },
      "source": [
        "plot_stats('/content/drive/MyDrive/CDA/stats_50.txt')"
      ],
      "execution_count": null,
      "outputs": []
    },
    {
      "cell_type": "code",
      "metadata": {
        "colab": {
          "base_uri": "https://localhost:8080/",
          "height": 932
        },
        "id": "5B9lId38xny0",
        "outputId": "74c7c825-e4b8-439a-b4ea-4600a15d0ad8"
      },
      "source": [
        "plot_stats('/content/drive/MyDrive/CDA/stats_100_pt.txt')"
      ],
      "execution_count": 6,
      "outputs": [
        {
          "output_type": "display_data",
          "data": {
            "image/png": "[encoded data removed]",
            "text/plain": [
              "<Figure size 1152x1152 with 4 Axes>"
            ]
          },
          "metadata": {
            "tags": [],
            "needs_background": "light"
          }
        }
      ]
    },
    {
      "cell_type": "code",
      "metadata": {
        "id": "dzcjCeqUXwzw"
      },
      "source": [
        "# 50 epochs not pre-trained\n",
        "set1 = PRcurve('/content/drive/MyDrive/CDA/ckpt_50.pth')\n",
        "set1.save_stats('/content/drive/MyDrive/CDA/PRstats_set1')\n",
        "set1.plot()"
      ],
      "execution_count": null,
      "outputs": []
    },
    {
      "cell_type": "code",
      "metadata": {
        "id": "4V-xddfpLRi1"
      },
      "source": [
        "# 50 epochs pre-trained\n",
        "set2 = PRcurve('/content/drive/MyDrive/CDA/ckpt_50_pt.pth')\n",
        "set2.save_stats('/content/drive/MyDrive/CDA/PRstats_set2')\n",
        "set2.plot()"
      ],
      "execution_count": null,
      "outputs": []
    },
    {
      "cell_type": "code",
      "metadata": {
        "colab": {
          "base_uri": "https://localhost:8080/",
          "height": 1000
        },
        "id": "A7BYq0um5kMN",
        "outputId": "a8fa0b1e-c7b7-488f-c6e4-dacbcf10f50d"
      },
      "source": [
        "# 100 epochs pre-trained, learning rate step after 50 epochs\n",
        "set3 = PRcurve('/content/drive/MyDrive/CDA/ckpt_100_pt.pth')\n",
        "set3.save_stats('/content/drive/MyDrive/CDA/PRstats_set3')\n",
        "set3.plot()"
      ],
      "execution_count": 13,
      "outputs": [
        {
          "output_type": "stream",
          "text": [
            "\n",
            "1/10: Confidence Threshold = 0.050\n"
          ],
          "name": "stdout"
        },
        {
          "output_type": "stream",
          "text": [
            "Validating: 100%|██████████| 10/10 [00:05<00:00,  1.93it/s]\n",
            "Computing AP: 100%|██████████| 1/1 [00:00<00:00, 195.98it/s]\n"
          ],
          "name": "stderr"
        },
        {
          "output_type": "stream",
          "text": [
            "---- mAP 0.76564 ----\n",
            "Precision = 0.653, Recall = 0.840\n",
            "\n",
            "2/10: Confidence Threshold = 0.100\n"
          ],
          "name": "stdout"
        },
        {
          "output_type": "stream",
          "text": [
            "Validating: 100%|██████████| 10/10 [00:04<00:00,  2.01it/s]\n",
            "Computing AP: 100%|██████████| 1/1 [00:00<00:00, 498.85it/s]\n"
          ],
          "name": "stderr"
        },
        {
          "output_type": "stream",
          "text": [
            "---- mAP 0.70184 ----\n",
            "Precision = 0.798, Recall = 0.755\n",
            "\n",
            "3/10: Confidence Threshold = 0.150\n"
          ],
          "name": "stdout"
        },
        {
          "output_type": "stream",
          "text": [
            "Validating: 100%|██████████| 10/10 [00:04<00:00,  2.00it/s]\n",
            "Computing AP: 100%|██████████| 1/1 [00:00<00:00, 693.73it/s]\n"
          ],
          "name": "stderr"
        },
        {
          "output_type": "stream",
          "text": [
            "---- mAP 0.58973 ----\n",
            "Precision = 0.870, Recall = 0.620\n",
            "\n",
            "4/10: Confidence Threshold = 0.200\n"
          ],
          "name": "stdout"
        },
        {
          "output_type": "stream",
          "text": [
            "Validating: 100%|██████████| 10/10 [00:04<00:00,  2.04it/s]\n",
            "Computing AP: 100%|██████████| 1/1 [00:00<00:00, 594.94it/s]\n"
          ],
          "name": "stderr"
        },
        {
          "output_type": "stream",
          "text": [
            "---- mAP 0.46298 ----\n",
            "Precision = 0.929, Recall = 0.481\n",
            "\n",
            "5/10: Confidence Threshold = 0.250\n"
          ],
          "name": "stdout"
        },
        {
          "output_type": "stream",
          "text": [
            "Validating: 100%|██████████| 10/10 [00:04<00:00,  2.04it/s]\n",
            "Computing AP: 100%|██████████| 1/1 [00:00<00:00, 566.64it/s]\n"
          ],
          "name": "stderr"
        },
        {
          "output_type": "stream",
          "text": [
            "---- mAP 0.31701 ----\n",
            "Precision = 0.953, Recall = 0.327\n",
            "\n",
            "6/10: Confidence Threshold = 0.300\n"
          ],
          "name": "stdout"
        },
        {
          "output_type": "stream",
          "text": [
            "Validating: 100%|██████████| 10/10 [00:04<00:00,  2.11it/s]\n",
            "Computing AP: 100%|██████████| 1/1 [00:00<00:00, 891.65it/s]\n"
          ],
          "name": "stderr"
        },
        {
          "output_type": "stream",
          "text": [
            "---- mAP 0.19677 ----\n",
            "Precision = 0.962, Recall = 0.202\n",
            "\n",
            "7/10: Confidence Threshold = 0.350\n"
          ],
          "name": "stdout"
        },
        {
          "output_type": "stream",
          "text": [
            "Validating: 100%|██████████| 10/10 [00:04<00:00,  2.11it/s]\n",
            "Computing AP: 100%|██████████| 1/1 [00:00<00:00, 1194.62it/s]\n"
          ],
          "name": "stderr"
        },
        {
          "output_type": "stream",
          "text": [
            "---- mAP 0.08656 ----\n",
            "Precision = 0.965, Recall = 0.088\n",
            "\n",
            "8/10: Confidence Threshold = 0.400\n"
          ],
          "name": "stdout"
        },
        {
          "output_type": "stream",
          "text": [
            "Validating: 100%|██████████| 10/10 [00:04<00:00,  2.13it/s]\n",
            "Computing AP: 100%|██████████| 1/1 [00:00<00:00, 1718.27it/s]\n"
          ],
          "name": "stderr"
        },
        {
          "output_type": "stream",
          "text": [
            "---- mAP 0.02564 ----\n",
            "Precision = 1.000, Recall = 0.026\n",
            "\n",
            "9/10: Confidence Threshold = 0.450\n"
          ],
          "name": "stdout"
        },
        {
          "output_type": "stream",
          "text": [
            "Validating: 100%|██████████| 10/10 [00:04<00:00,  2.10it/s]\n",
            "Computing AP: 100%|██████████| 1/1 [00:00<00:00, 2896.62it/s]\n"
          ],
          "name": "stderr"
        },
        {
          "output_type": "stream",
          "text": [
            "---- mAP 0.00000 ----\n",
            "Precision = 0.000, Recall = 0.000\n",
            "\n",
            "10/10: Confidence Threshold = 0.500\n"
          ],
          "name": "stdout"
        },
        {
          "output_type": "stream",
          "text": [
            "Validating: 100%|██████████| 10/10 [00:04<00:00,  2.16it/s]\n",
            "Computing AP: 100%|██████████| 1/1 [00:00<00:00, 1678.39it/s]\n"
          ],
          "name": "stderr"
        },
        {
          "output_type": "stream",
          "text": [
            "---- mAP 0.00000 ----\n",
            "Precision = 0.000, Recall = 0.000\n"
          ],
          "name": "stdout"
        },
        {
          "output_type": "display_data",
          "data": {
            "image/png": "[encoded data removed]",
            "text/plain": [
              "<Figure size 576x576 with 1 Axes>"
            ]
          },
          "metadata": {
            "tags": [],
            "needs_background": "light"
          }
        }
      ]
    },
    {
      "cell_type": "markdown",
      "metadata": {
        "id": "flxXrSmcfxW8"
      },
      "source": [
        "## Detections"
      ]
    },
    {
      "cell_type": "code",
      "metadata": {
        "id": "Niejd91izL5I",
        "colab": {
          "base_uri": "https://localhost:8080/",
          "height": 1000
        },
        "outputId": "7831e59f-2366-479b-a30f-74ff6505ae4a"
      },
      "source": [
        "# Perform detections on a directory\n",
        "\n",
        "directory = '/content/YOLOv3-CDA/data/samples/'    # Sample Directory\n",
        "#directory = '/content/YOLOv3-CDA/data/HiRISE/'      # Tiles from HiRISE\n",
        "\n",
        "with open(\"/content/YOLOv3-CDA/data/sample_paths.txt\", \"w\") as samples:\n",
        "    n = 0\n",
        "    for root, dirs, files in os.walk(directory):\n",
        "        for file in files:\n",
        "            samples.write(directory+file+\"\\n\")\n",
        "            n += 1\n",
        "\n",
        "detect_directory('yolov3.cfg', '/content/drive/MyDrive/CDA/ckpt_100_pt.pth', directory, ['crater'], 'output', batch_size=1, n_cpu=2, conf_thres=0.2)"
      ],
      "execution_count": 15,
      "outputs": [
        {
          "output_type": "stream",
          "text": [
            "Detecting: 100%|██████████| 30/30 [00:01<00:00, 25.47it/s]\n"
          ],
          "name": "stderr"
        },
        {
          "output_type": "stream",
          "text": [
            "Image /content/YOLOv3-CDA/data/samples/aeolis_40_1.png:\n",
            "Image /content/YOLOv3-CDA/data/samples/aeolis_42_5.png:\n",
            "\t+ Label: crater | Confidence: 0.3481\n",
            "\t+ Label: crater | Confidence: 0.2861\n",
            "Image /content/YOLOv3-CDA/data/samples/aeolis_43_5.png:\n",
            "\t+ Label: crater | Confidence: 0.4202\n",
            "\t+ Label: crater | Confidence: 0.2931\n",
            "Image /content/YOLOv3-CDA/data/samples/aeolis_54_5.png:\n",
            "\t+ Label: crater | Confidence: 0.2702\n",
            "Image /content/YOLOv3-CDA/data/samples/amazonis_10_2.png:\n",
            "\t+ Label: crater | Confidence: 0.3715\n",
            "Image /content/YOLOv3-CDA/data/samples/amazonis_10_26.png:\n",
            "Image /content/YOLOv3-CDA/data/samples/amazonis_10_8.png:\n",
            "\t+ Label: crater | Confidence: 0.2684\n",
            "\t+ Label: crater | Confidence: 0.2299\n",
            "Image /content/YOLOv3-CDA/data/samples/amazonis_25_1.png:\n",
            "Image /content/YOLOv3-CDA/data/samples/amazonis_7_15.png:\n",
            "\t+ Label: crater | Confidence: 0.3164\n",
            "Image /content/YOLOv3-CDA/data/samples/amazonis_8_14.png:\n",
            "\t+ Label: crater | Confidence: 0.2799\n",
            "Image /content/YOLOv3-CDA/data/samples/tile_0_0.jpg:\n",
            "\t+ Label: crater | Confidence: 0.2035\n",
            "Image /content/YOLOv3-CDA/data/samples/tile_0_1.jpg:\n",
            "\t+ Label: crater | Confidence: 0.3972\n",
            "Image /content/YOLOv3-CDA/data/samples/tile_0_2.jpg:\n",
            "\t+ Label: crater | Confidence: 0.2792\n",
            "Image /content/YOLOv3-CDA/data/samples/tile_0_3.jpg:\n",
            "\t+ Label: crater | Confidence: 0.2810\n",
            "Image /content/YOLOv3-CDA/data/samples/tile_0_4.jpg:\n",
            "Image /content/YOLOv3-CDA/data/samples/tile_1_0.jpg:\n",
            "Image /content/YOLOv3-CDA/data/samples/tile_1_1.jpg:\n",
            "Image /content/YOLOv3-CDA/data/samples/tile_1_2.jpg:\n",
            "Image /content/YOLOv3-CDA/data/samples/tile_1_3.jpg:\n",
            "\t+ Label: crater | Confidence: 0.2914\n",
            "\t+ Label: crater | Confidence: 0.2098\n",
            "Image /content/YOLOv3-CDA/data/samples/tile_1_4.jpg:\n"
          ],
          "name": "stdout"
        },
        {
          "output_type": "stream",
          "text": [
            "/content/YOLOv3-CDA/pytorchyolo/detect.py:231: RuntimeWarning: More than 20 figures have been opened. Figures created through the pyplot interface (`matplotlib.pyplot.figure`) are retained until explicitly closed and may consume too much memory. (To control this warning, see the rcParam `figure.max_open_warning`).\n",
            "  fig, ax = plt.subplots(1)\n",
            "/content/YOLOv3-CDA/pytorchyolo/detect.py:230: RuntimeWarning: More than 20 figures have been opened. Figures created through the pyplot interface (`matplotlib.pyplot.figure`) are retained until explicitly closed and may consume too much memory. (To control this warning, see the rcParam `figure.max_open_warning`).\n",
            "  plt.figure()\n"
          ],
          "name": "stderr"
        },
        {
          "output_type": "stream",
          "text": [
            "Image /content/YOLOv3-CDA/data/samples/tile_2_0.jpg:\n",
            "\t+ Label: crater | Confidence: 0.3214\n",
            "Image /content/YOLOv3-CDA/data/samples/tile_2_1.jpg:\n",
            "\t+ Label: crater | Confidence: 0.2963\n",
            "\t+ Label: crater | Confidence: 0.2420\n",
            "\t+ Label: crater | Confidence: 0.2388\n",
            "Image /content/YOLOv3-CDA/data/samples/tile_2_2.jpg:\n",
            "\t+ Label: crater | Confidence: 0.2329\n",
            "Image /content/YOLOv3-CDA/data/samples/tile_2_3.jpg:\n",
            "\t+ Label: crater | Confidence: 0.3528\n",
            "\t+ Label: crater | Confidence: 0.3023\n",
            "Image /content/YOLOv3-CDA/data/samples/tile_2_4.jpg:\n",
            "\t+ Label: crater | Confidence: 0.3973\n",
            "\t+ Label: crater | Confidence: 0.3804\n",
            "\t+ Label: crater | Confidence: 0.2555\n",
            "Image /content/YOLOv3-CDA/data/samples/tile_3_0.jpg:\n",
            "Image /content/YOLOv3-CDA/data/samples/tile_3_1.jpg:\n",
            "\t+ Label: crater | Confidence: 0.3132\n",
            "Image /content/YOLOv3-CDA/data/samples/tile_3_2.jpg:\n",
            "\t+ Label: crater | Confidence: 0.2111\n",
            "Image /content/YOLOv3-CDA/data/samples/tile_3_3.jpg:\n",
            "\t+ Label: crater | Confidence: 0.2504\n",
            "\t+ Label: crater | Confidence: 0.2011\n",
            "Image /content/YOLOv3-CDA/data/samples/tile_3_4.jpg:\n",
            "\t+ Label: crater | Confidence: 0.3753\n"
          ],
          "name": "stdout"
        },
        {
          "output_type": "display_data",
          "data": {
            "text/plain": [
              "<Figure size 432x288 with 0 Axes>"
            ]
          },
          "metadata": {
            "tags": []
          }
        },
        {
          "output_type": "display_data",
          "data": {
            "text/plain": [
              "<Figure size 432x288 with 0 Axes>"
            ]
          },
          "metadata": {
            "tags": []
          }
        },
        {
          "output_type": "display_data",
          "data": {
            "text/plain": [
              "<Figure size 432x288 with 0 Axes>"
            ]
          },
          "metadata": {
            "tags": []
          }
        },
        {
          "output_type": "display_data",
          "data": {
            "text/plain": [
              "<Figure size 432x288 with 0 Axes>"
            ]
          },
          "metadata": {
            "tags": []
          }
        },
        {
          "output_type": "display_data",
          "data": {
            "text/plain": [
              "<Figure size 432x288 with 0 Axes>"
            ]
          },
          "metadata": {
            "tags": []
          }
        },
        {
          "output_type": "display_data",
          "data": {
            "text/plain": [
              "<Figure size 432x288 with 0 Axes>"
            ]
          },
          "metadata": {
            "tags": []
          }
        },
        {
          "output_type": "display_data",
          "data": {
            "text/plain": [
              "<Figure size 432x288 with 0 Axes>"
            ]
          },
          "metadata": {
            "tags": []
          }
        },
        {
          "output_type": "display_data",
          "data": {
            "text/plain": [
              "<Figure size 432x288 with 0 Axes>"
            ]
          },
          "metadata": {
            "tags": []
          }
        },
        {
          "output_type": "display_data",
          "data": {
            "text/plain": [
              "<Figure size 432x288 with 0 Axes>"
            ]
          },
          "metadata": {
            "tags": []
          }
        },
        {
          "output_type": "display_data",
          "data": {
            "text/plain": [
              "<Figure size 432x288 with 0 Axes>"
            ]
          },
          "metadata": {
            "tags": []
          }
        },
        {
          "output_type": "display_data",
          "data": {
            "text/plain": [
              "<Figure size 432x288 with 0 Axes>"
            ]
          },
          "metadata": {
            "tags": []
          }
        },
        {
          "output_type": "display_data",
          "data": {
            "text/plain": [
              "<Figure size 432x288 with 0 Axes>"
            ]
          },
          "metadata": {
            "tags": []
          }
        },
        {
          "output_type": "display_data",
          "data": {
            "text/plain": [
              "<Figure size 432x288 with 0 Axes>"
            ]
          },
          "metadata": {
            "tags": []
          }
        },
        {
          "output_type": "display_data",
          "data": {
            "text/plain": [
              "<Figure size 432x288 with 0 Axes>"
            ]
          },
          "metadata": {
            "tags": []
          }
        },
        {
          "output_type": "display_data",
          "data": {
            "text/plain": [
              "<Figure size 432x288 with 0 Axes>"
            ]
          },
          "metadata": {
            "tags": []
          }
        },
        {
          "output_type": "display_data",
          "data": {
            "text/plain": [
              "<Figure size 432x288 with 0 Axes>"
            ]
          },
          "metadata": {
            "tags": []
          }
        },
        {
          "output_type": "display_data",
          "data": {
            "text/plain": [
              "<Figure size 432x288 with 0 Axes>"
            ]
          },
          "metadata": {
            "tags": []
          }
        },
        {
          "output_type": "display_data",
          "data": {
            "text/plain": [
              "<Figure size 432x288 with 0 Axes>"
            ]
          },
          "metadata": {
            "tags": []
          }
        },
        {
          "output_type": "display_data",
          "data": {
            "text/plain": [
              "<Figure size 432x288 with 0 Axes>"
            ]
          },
          "metadata": {
            "tags": []
          }
        },
        {
          "output_type": "display_data",
          "data": {
            "text/plain": [
              "<Figure size 432x288 with 0 Axes>"
            ]
          },
          "metadata": {
            "tags": []
          }
        },
        {
          "output_type": "display_data",
          "data": {
            "text/plain": [
              "<Figure size 432x288 with 0 Axes>"
            ]
          },
          "metadata": {
            "tags": []
          }
        },
        {
          "output_type": "display_data",
          "data": {
            "text/plain": [
              "<Figure size 432x288 with 0 Axes>"
            ]
          },
          "metadata": {
            "tags": []
          }
        },
        {
          "output_type": "display_data",
          "data": {
            "text/plain": [
              "<Figure size 432x288 with 0 Axes>"
            ]
          },
          "metadata": {
            "tags": []
          }
        },
        {
          "output_type": "display_data",
          "data": {
            "text/plain": [
              "<Figure size 432x288 with 0 Axes>"
            ]
          },
          "metadata": {
            "tags": []
          }
        },
        {
          "output_type": "display_data",
          "data": {
            "text/plain": [
              "<Figure size 432x288 with 0 Axes>"
            ]
          },
          "metadata": {
            "tags": []
          }
        },
        {
          "output_type": "display_data",
          "data": {
            "text/plain": [
              "<Figure size 432x288 with 0 Axes>"
            ]
          },
          "metadata": {
            "tags": []
          }
        },
        {
          "output_type": "display_data",
          "data": {
            "text/plain": [
              "<Figure size 432x288 with 0 Axes>"
            ]
          },
          "metadata": {
            "tags": []
          }
        },
        {
          "output_type": "display_data",
          "data": {
            "text/plain": [
              "<Figure size 432x288 with 0 Axes>"
            ]
          },
          "metadata": {
            "tags": []
          }
        },
        {
          "output_type": "display_data",
          "data": {
            "text/plain": [
              "<Figure size 432x288 with 0 Axes>"
            ]
          },
          "metadata": {
            "tags": []
          }
        },
        {
          "output_type": "display_data",
          "data": {
            "text/plain": [
              "<Figure size 432x288 with 0 Axes>"
            ]
          },
          "metadata": {
            "tags": []
          }
        }
      ]
    }
  ]
}