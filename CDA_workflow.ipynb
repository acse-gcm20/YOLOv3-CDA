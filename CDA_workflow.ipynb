{
  "nbformat": 4,
  "nbformat_minor": 0,
  "metadata": {
    "accelerator": "GPU",
    "colab": {
      "name": "CDA_workflow.ipynb",
      "provenance": [],
      "collapsed_sections": []
    },
    "kernelspec": {
      "display_name": "Python 3",
      "name": "python3"
    },
    "language_info": {
      "name": "python"
    }
  },
  "cells": [
    {
      "cell_type": "markdown",
      "metadata": {
        "id": "dBcFRGmAhOLz"
      },
      "source": [
        "# YOLOv3 Crater Detection Algorithm Workflow\n",
        "---\n",
        "### Giles Matthews"
      ]
    },
    {
      "cell_type": "code",
      "metadata": {
        "id": "YpuJ-XUYcbuy"
      },
      "source": [
        "# GPU information\n",
        "!nvidia-smi"
      ],
      "execution_count": null,
      "outputs": []
    },
    {
      "cell_type": "markdown",
      "metadata": {
        "id": "zf-XdP7WhcgS"
      },
      "source": [
        "## Setup\n",
        "\n",
        "Clone the GitHub repo and install the requirements.txt file.\n",
        "\n",
        "Having done this you are usually prompted to restart the runtime - do this using the prompt provided or by following:\n",
        "\n",
        "    taskbar > Runtime > Restart runtime > Yes\n",
        "\n",
        "Or use ```Ctrl + M .```\n",
        "\n",
        "Re-import the necessary modules every runtime by running the appropriate cell below.\n",
        "\n",
        "To access the datasets, please ensure this google drive folder is mounted:\n",
        "\n",
        "https://drive.google.com/drive/folders/1Qh7VHt_dTZc8v0tYdSZlXo3cwTmxnYCI?usp=sharing"
      ]
    },
    {
      "cell_type": "code",
      "metadata": {
        "id": "zwNl1DT7IPbx"
      },
      "source": [
        "print(\"---  Cloning repository  ---\\n\")\n",
        "! git clone https://github.com/acse-gcm20/YOLOv3-CDA\n",
        "print(\"\\n---  Installing dependencies  ---\\n\")\n",
        "! pip install -r /content/YOLOv3-CDA/requirements.txt\n",
        "print(\"\\nNow restart the Runtime before proceeding\")"
      ],
      "execution_count": null,
      "outputs": []
    },
    {
      "cell_type": "code",
      "metadata": {
        "colab": {
          "base_uri": "https://localhost:8080/"
        },
        "id": "Rx1gbeTAFZ-_",
        "outputId": "cf915577-c3f6-45e7-d733-2e3708546b9c"
      },
      "source": [
        "# Import modules\n",
        "# Run this cell every runtime\n",
        "%cd /content/YOLOv3-CDA\n",
        "\n",
        "import os\n",
        "import torch\n",
        "import matplotlib.pyplot as plt\n",
        "import matplotlib.patches as patches\n",
        "import numpy as np\n",
        "from sklearn.metrics import auc\n",
        "from PIL import Image\n",
        "import random\n",
        "from tqdm import tqdm\n",
        "\n",
        "from pytorchyolo.train import run\n",
        "from pytorchyolo.test import test\n",
        "from pytorchyolo.detect import detect_directory\n",
        "\n",
        "from src.utils import *\n",
        "\n",
        "plt.rcParams.update({'font.size': 11})"
      ],
      "execution_count": null,
      "outputs": [
        {
          "output_type": "stream",
          "text": [
            "/content/YOLOv3-CDA\n"
          ],
          "name": "stdout"
        }
      ]
    },
    {
      "cell_type": "code",
      "metadata": {
        "colab": {
          "base_uri": "https://localhost:8080/"
        },
        "id": "ts2skk658qvI",
        "outputId": "b81ed67a-7153-42ed-fb9e-ceaaae56b616"
      },
      "source": [
        "! git pull"
      ],
      "execution_count": null,
      "outputs": [
        {
          "output_type": "stream",
          "text": [
            "remote: Enumerating objects: 7, done.\u001b[K\n",
            "remote: Counting objects:  14% (1/7)\u001b[K\rremote: Counting objects:  28% (2/7)\u001b[K\rremote: Counting objects:  42% (3/7)\u001b[K\rremote: Counting objects:  57% (4/7)\u001b[K\rremote: Counting objects:  71% (5/7)\u001b[K\rremote: Counting objects:  85% (6/7)\u001b[K\rremote: Counting objects: 100% (7/7)\u001b[K\rremote: Counting objects: 100% (7/7), done.\u001b[K\n",
            "remote: Compressing objects: 100% (1/1)\u001b[K\rremote: Compressing objects: 100% (1/1), done.\u001b[K\n",
            "remote: Total 4 (delta 3), reused 4 (delta 3), pack-reused 0\u001b[K\n",
            "Unpacking objects:  25% (1/4)   \rUnpacking objects:  50% (2/4)   \rUnpacking objects:  75% (3/4)   \rUnpacking objects: 100% (4/4)   \rUnpacking objects: 100% (4/4), done.\n",
            "From https://github.com/acse-gcm20/YOLOv3-CDA\n",
            "   b30e82ce..07f41c30  master     -> origin/master\n",
            "Updating b30e82ce..07f41c30\n",
            "Fast-forward\n",
            " src/utils.py | 4 \u001b[32m++\u001b[m\u001b[31m--\u001b[m\n",
            " 1 file changed, 2 insertions(+), 2 deletions(-)\n"
          ],
          "name": "stdout"
        }
      ]
    },
    {
      "cell_type": "markdown",
      "metadata": {
        "id": "W4XYvysVgB1j"
      },
      "source": [
        "## Data Organisation\n",
        "\n",
        "Datasets are stored in zip files in the Google Drive. To access these, unzip the files into the Colab runtime environment."
      ]
    },
    {
      "cell_type": "code",
      "metadata": {
        "id": "gfVCESnYcUUq"
      },
      "source": [
        "# Extract Benedix data from google drive\n",
        "%%capture\n",
        "! unzip /content/drive/MyDrive/CDA/Benedix.zip -d data/Benedix"
      ],
      "execution_count": null,
      "outputs": []
    },
    {
      "cell_type": "code",
      "metadata": {
        "id": "EXxNMzymQJUj"
      },
      "source": [
        "# Extract Robbins data from google drive\n",
        "%%capture\n",
        "! unzip /content/drive/MyDrive/CDA/processed_Robbins.zip -d data/Robbins"
      ],
      "execution_count": null,
      "outputs": []
    },
    {
      "cell_type": "code",
      "metadata": {
        "colab": {
          "base_uri": "https://localhost:8080/"
        },
        "id": "KpX2XXyKsT4m",
        "outputId": "3fc69e03-e85e-4de8-96a5-880dff62d93c"
      },
      "source": [
        "# Perform augmentation on Robbins data\n",
        "# Takes ~7 mins\n",
        "! python data/Robbins/crater_group_dataset/aug.py --dataset 'data/Robbins/crater_group_dataset' --id\n",
        "\n",
        "imgs = os.listdir('data/Robbins/crater_group_dataset/images')\n",
        "lbls = os.listdir('data/Robbins/crater_group_dataset/labels')\n",
        "print(f'{len(imgs)} images, {len(lbls)} labels')"
      ],
      "execution_count": null,
      "outputs": [
        {
          "output_type": "stream",
          "text": [
            "100% 3040/3040 [05:44<00:00,  8.82it/s]\n",
            "12160 images, 12160 labels\n"
          ],
          "name": "stdout"
        }
      ]
    },
    {
      "cell_type": "markdown",
      "metadata": {
        "id": "pwtywXm1flVe"
      },
      "source": [
        "## Training\n",
        "\n",
        "Training, validation and testing path files for the Benedix, Robbins and Combined datasets are available in the 'data' directory.\n",
        "\n",
        "Please edit the model configuration file (CDA.data) in the 'config' directory to choose which dataset to use. The default is to use the combined dataset.\n",
        "\n",
        "Pretrained weights files are available in the 'weights' directory of the google drive."
      ]
    },
    {
      "cell_type": "code",
      "metadata": {
        "id": "wGPOU08wh0sz"
      },
      "source": [
        "# Weights pretrained on COCO dataset\n",
        "coco = '/content/drive/MyDrive/CDA/weights/coco.weights'\n",
        "\n",
        "# Run training sequence\n",
        "run('models/CDA.cfg', 50, 'config/CDA.data', pretrained_weights=coco)"
      ],
      "execution_count": null,
      "outputs": []
    },
    {
      "cell_type": "code",
      "metadata": {
        "id": "sT41OBUK5CdT"
      },
      "source": [
        "# Copy weights file to google drive\n",
        "!cp checkpoints/yolov3_ckpt_50.pth /content/drive/MyDrive/CDA/weights/yolov3_ckpt_50.pth"
      ],
      "execution_count": null,
      "outputs": []
    },
    {
      "cell_type": "code",
      "metadata": {
        "id": "FxW9EYNreCNm"
      },
      "source": [
        "# Copy stats file to google drive\n",
        "!cp stats.txt /content/drive/MyDrive/CDA/stats/stats.txt"
      ],
      "execution_count": null,
      "outputs": []
    },
    {
      "cell_type": "markdown",
      "metadata": {
        "id": "h5BRYSsNfsBo"
      },
      "source": [
        "## Analysis and Plotting"
      ]
    },
    {
      "cell_type": "code",
      "metadata": {
        "id": "ay9WjPcVdKpc"
      },
      "source": [
        "# Plot the statistics generated during training.\n",
        "plot_stats('stats.txt')"
      ],
      "execution_count": null,
      "outputs": []
    },
    {
      "cell_type": "code",
      "metadata": {
        "id": "dzcjCeqUXwzw"
      },
      "source": [
        "# Plot a Precision-Recall curve to investigate performance across a range of confidence thresholds\n",
        "set1 = PRcurve('models/CDA.cfg', 'checkpoints/yolov3_ckpt_50.pth', 'data/combined_valid.txt')\n",
        "set1.save_stats('PRstats.txt')\n",
        "set1.plot()"
      ],
      "execution_count": null,
      "outputs": []
    },
    {
      "cell_type": "markdown",
      "metadata": {
        "id": "flxXrSmcfxW8"
      },
      "source": [
        "## Detections\n",
        "\n",
        "Use a model and weights file to perfrom inference on a directory of images."
      ]
    },
    {
      "cell_type": "code",
      "metadata": {
        "id": "Niejd91izL5I",
        "colab": {
          "base_uri": "https://localhost:8080/"
        },
        "outputId": "4b57dad5-99b3-48c2-cfe9-9538aa3e3fbf"
      },
      "source": [
        "# Move sample images from Benedix dataset to samples folder\n",
        "list_file_2_dir('data/samples/samples.txt', 'data/samples/')"
      ],
      "execution_count": null,
      "outputs": [
        {
          "output_type": "stream",
          "text": [
            "10 images\n",
            "10 labels\n"
          ],
          "name": "stdout"
        }
      ]
    },
    {
      "cell_type": "code",
      "metadata": {
        "id": "DQi2oPuFB8kT"
      },
      "source": [
        "directory = '/content/YOLOv3-CDA/data/samples/images'\n",
        "weights = 'checkpoints/yolov3_ckpt_50.pth'\n",
        "\n",
        "detect_directory('models/CDA.cfg', weights, directory, ['crater'], 'output', batch_size=1, n_cpu=2, conf_thres=0.2)"
      ],
      "execution_count": null,
      "outputs": []
    },
    {
      "cell_type": "code",
      "metadata": {
        "id": "fXTa9MCi36fQ"
      },
      "source": [
        "# Plot a comparison of a random sample of the ground-truth set with the detected labels.\n",
        "comparison_plot('data/samples/images', 'data/samples/labels', 'output/labels', 4)"
      ],
      "execution_count": null,
      "outputs": []
    },
    {
      "cell_type": "markdown",
      "metadata": {
        "id": "Ko5ZtuNEjEzV"
      },
      "source": [
        "## Testing"
      ]
    },
    {
      "cell_type": "code",
      "metadata": {
        "id": "U-u4msDvoKQM"
      },
      "source": [
        "# Testing weights file on test set\n",
        "test('models/CDA.cfg', 'checkpoints/yolov3_ckpt_1.pth', '/content/YOLOv3-CDA/config/CDA.data', '/content/YOLOv3-CDA/data/combined_test.txt')"
      ],
      "execution_count": null,
      "outputs": []
    }
  ]
}