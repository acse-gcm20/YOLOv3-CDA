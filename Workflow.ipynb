{
  "nbformat": 4,
  "nbformat_minor": 0,
  "metadata": {
    "accelerator": "GPU",
    "colab": {
      "name": "pytorchyolo.ipynb",
      "provenance": [],
      "collapsed_sections": []
    },
    "kernelspec": {
      "display_name": "Python 3",
      "name": "python3"
    },
    "language_info": {
      "name": "python"
    }
  },
  "cells": [
    {
      "cell_type": "markdown",
      "metadata": {
        "id": "dBcFRGmAhOLz"
      },
      "source": [
        "# YOLOv3 Crater Detection Algorithm Workflow\n",
        "---\n",
        "### Giles Matthews"
      ]
    },
    {
      "cell_type": "markdown",
      "metadata": {
        "id": "zf-XdP7WhcgS"
      },
      "source": [
        "## Setup"
      ]
    },
    {
      "cell_type": "code",
      "metadata": {
        "id": "zwNl1DT7IPbx"
      },
      "source": [
        "print(\"---  Cloning repository  ---\\n\")\n",
        "! git clone https://github.com/acse-gcm20/YOLOv3-CDA\n",
        "print(\"\\n---  Installing dependencies  ---\\n\")\n",
        "! pip install -r /content/YOLOv3-CDA/requirements.txt\n",
        "print(\"\\nNow restart the Runtime before proceeding\")"
      ],
      "execution_count": null,
      "outputs": []
    },
    {
      "cell_type": "code",
      "metadata": {
        "colab": {
          "base_uri": "https://localhost:8080/"
        },
        "id": "Rx1gbeTAFZ-_",
        "outputId": "552c146d-c6fe-45c7-a710-6bd3e3c60b2c"
      },
      "source": [
        "%cd /content/YOLOv3-CDA\n",
        "\n",
        "import os\n",
        "import torch\n",
        "import matplotlib.pyplot as plt\n",
        "import numpy as np\n",
        "from google.colab import files\n",
        "from sklearn.metrics import auc\n",
        "\n",
        "from pytorchyolo.train import run\n",
        "from pytorchyolo.test import evaluate_model_file\n",
        "from pytorchyolo.detect import detect_directory"
      ],
      "execution_count": null,
      "outputs": [
        {
          "output_type": "stream",
          "text": [
            "/content/YOLOv3-CDA\n"
          ],
          "name": "stdout"
        }
      ]
    },
    {
      "cell_type": "code",
      "metadata": {
        "colab": {
          "base_uri": "https://localhost:8080/"
        },
        "id": "IWgeFZtcBeFq",
        "outputId": "e5e489a0-2ad2-44d3-95a8-f7aca1b30c11"
      },
      "source": [
        "# Download weights pretrained on COCO\n",
        "! wget -c \"https://pjreddie.com/media/files/yolov3.weights\" --header \"Referer: pjreddie.com\""
      ],
      "execution_count": null,
      "outputs": [
        {
          "output_type": "stream",
          "text": [
            "--2021-07-12 18:10:22--  https://pjreddie.com/media/files/yolov3.weights\n",
            "Resolving pjreddie.com (pjreddie.com)... 128.208.4.108\n",
            "Connecting to pjreddie.com (pjreddie.com)|128.208.4.108|:443... connected.\n",
            "HTTP request sent, awaiting response... 200 OK\n",
            "Length: 248007048 (237M) [application/octet-stream]\n",
            "Saving to: ‘yolov3.weights’\n",
            "\n",
            "yolov3.weights      100%[===================>] 236.52M  23.3MB/s    in 11s     \n",
            "\n",
            "2021-07-12 18:10:34 (21.6 MB/s) - ‘yolov3.weights’ saved [248007048/248007048]\n",
            "\n"
          ],
          "name": "stdout"
        }
      ]
    },
    {
      "cell_type": "markdown",
      "metadata": {
        "id": "W4XYvysVgB1j"
      },
      "source": [
        "## Data Organisation"
      ]
    },
    {
      "cell_type": "code",
      "metadata": {
        "colab": {
          "base_uri": "https://localhost:8080/"
        },
        "id": "4OAV_lJCCAvu",
        "outputId": "35223661-dafc-4502-eb10-1ec45156273a"
      },
      "source": [
        "# Organise THEMIS data intro training, validation and test sets\n",
        "imageFolder = \"/content/YOLOv3-CDA/data/images/\"\n",
        "labelFolder = \"/content/YOLOv3-CDA/data/labels/\"\n",
        "\n",
        "pathsFile = \"/content/YOLOv3-CDA/data/all.txt\"\n",
        "trainFile = \"/content/YOLOv3-CDA/data/train.txt\"\n",
        "valFile = \"/content/YOLOv3-CDA/data/valid.txt\"\n",
        "testFile = \"/content/YOLOv3-CDA/data/test.txt\"\n",
        "\n",
        "# Walk through image folder and write paths to all.txt, also count number of files\n",
        "with open(pathsFile, \"w\") as all:\n",
        "    n = 0\n",
        "    for root, dirs, files in os.walk(imageFolder):\n",
        "        for file in files:\n",
        "            all.write(imageFolder+file+\"\\n\")\n",
        "            n += 1\n",
        "\n",
        "# 90% of data into training set\n",
        "trainSize = int(n * 0.9)\n",
        "# 10% of training set into validation set\n",
        "valSize = int(trainSize * 0.1)\n",
        "trainSize -= valSize\n",
        "# 10% of data into test set\n",
        "testSize = n - (trainSize + valSize)\n",
        "\n",
        "# Ensure dataset sizes are correct\n",
        "try:\n",
        "    assert n == trainSize + valSize + testSize\n",
        "    print(\"Total:\", n, \"\\nTraining Size:\", trainSize, \"\\nValidation Size:\", valSize, \"\\nTest Size:\", testSize)\n",
        "except:\n",
        "    print(\"Invalid Split\")\n",
        "\n",
        "# Get random indices lists according to dataset sizes\n",
        "train_idx, val_idx, test_idx = torch.utils.data.random_split(range(n), [trainSize, valSize, testSize], generator=torch.Generator().manual_seed(42))"
      ],
      "execution_count": null,
      "outputs": [
        {
          "output_type": "stream",
          "text": [
            "Total: 3556 \n",
            "Training Size: 2880 \n",
            "Validation Size: 320 \n",
            "Test Size: 356\n"
          ],
          "name": "stdout"
        }
      ]
    },
    {
      "cell_type": "code",
      "metadata": {
        "id": "8vBkVCW2XnBD"
      },
      "source": [
        "# Utility function to write lists to a text file\n",
        "def list_to_file(list_array, filename):\n",
        "    dims = len(np.shape(list_array))\n",
        "    \n",
        "    if dims == 1:\n",
        "        rows = len(list_array)\n",
        "        cols = 1\n",
        "    else:\n",
        "        rows = len(list_array[0])\n",
        "        cols = len(list_array)\n",
        "\n",
        "    with open(filename, 'w') as f:\n",
        "        for row in range(rows):\n",
        "            vals = [list_array[col][row] for col in range(cols)]\n",
        "            f.write((\"{} \"*cols+'\\n').format(*vals))"
      ],
      "execution_count": null,
      "outputs": []
    },
    {
      "cell_type": "code",
      "metadata": {
        "colab": {
          "base_uri": "https://localhost:8080/"
        },
        "id": "jpcSqFexDZBx",
        "outputId": "54bed471-7fca-445c-f27c-94208e181905"
      },
      "source": [
        "# Organise image path files\n",
        "\n",
        "# Get list of all image paths\n",
        "with open(pathsFile, \"r\") as paths:\n",
        "    pathsList = paths.readlines()\n",
        "\n",
        "# Store train/val/test paths as lists\n",
        "trainList = [pathsList[i].rstrip('\\n') for i in train_idx]\n",
        "valList = [pathsList[i].rstrip('\\n') for i in val_idx]\n",
        "testList = [pathsList[i].rstrip('\\n') for i in test_idx]\n",
        "\n",
        "# Write path lists to files\n",
        "list_to_file([trainList], trainFile)\n",
        "list_to_file([valList], valFile)\n",
        "list_to_file([testList], testFile)\n",
        "\n",
        "print(\"Training paths:\\t\\t\", trainFile, \"\\nValidation paths:\\t\", valFile, \"\\nTest paths:\\t\\t\", testFile)"
      ],
      "execution_count": null,
      "outputs": [
        {
          "output_type": "stream",
          "text": [
            "Training paths:\t\t /content/YOLOv3-CDA/data/train.txt \n",
            "Validation paths:\t /content/YOLOv3-CDA/data/valid.txt \n",
            "Test paths:\t\t /content/YOLOv3-CDA/data/test.txt\n"
          ],
          "name": "stdout"
        }
      ]
    },
    {
      "cell_type": "code",
      "metadata": {
        "colab": {
          "base_uri": "https://localhost:8080/"
        },
        "id": "oWoCNzgA0WhG",
        "outputId": "02f2b618-edcd-4e98-bac2-159b6f2a5441"
      },
      "source": [
        "# Pull any edits\n",
        "! git pull https://github.com/acse-gcm20/YOLOv3-CDA\n",
        "print(\"\\nNow restart the Runtime and re-import modules before proceeding\")"
      ],
      "execution_count": 1,
      "outputs": [
        {
          "output_type": "stream",
          "text": [
            "fatal: not a git repository (or any of the parent directories): .git\n",
            "\n",
            "Now restart the Runtime before proceeding\n"
          ],
          "name": "stdout"
        }
      ]
    },
    {
      "cell_type": "markdown",
      "metadata": {
        "id": "pwtywXm1flVe"
      },
      "source": [
        "## Training"
      ]
    },
    {
      "cell_type": "code",
      "metadata": {
        "colab": {
          "base_uri": "https://localhost:8080/"
        },
        "id": "wGPOU08wh0sz",
        "outputId": "e46eaae7-3e96-408d-b3fa-0ffcbe3a6565"
      },
      "source": [
        "# Run training sequence\n",
        "run(epochs=50, pretrained_weights='yolov3.weights')"
      ],
      "execution_count": null,
      "outputs": [
        {
          "output_type": "stream",
          "text": [
            "Training\n",
            "\n",
            "Epochs: 50, Seed: 42\n"
          ],
          "name": "stdout"
        },
        {
          "output_type": "stream",
          "text": [
            "\rTraining Epoch 0:   0%|          | 0/180 [00:00<?, ?it/s]"
          ],
          "name": "stderr"
        },
        {
          "output_type": "stream",
          "text": [
            "\n",
            "Epoch: 0\n",
            "---- Training Model ----\n"
          ],
          "name": "stdout"
        },
        {
          "output_type": "stream",
          "text": [
            "Training Epoch 0: 100%|██████████| 180/180 [02:09<00:00,  1.39it/s]"
          ],
          "name": "stderr"
        },
        {
          "output_type": "stream",
          "text": [
            "\n",
            "---- Validating Model ----\n"
          ],
          "name": "stdout"
        },
        {
          "output_type": "stream",
          "text": [
            "\n",
            "Validating:   0%|          | 0/20 [00:00<?, ?it/s]"
          ],
          "name": "stderr"
        },
        {
          "output_type": "stream",
          "text": [
            "WARNING: NMS time limit 2.0s exceeded\n"
          ],
          "name": "stdout"
        },
        {
          "output_type": "stream",
          "text": [
            "\rValidating:   5%|▌         | 1/20 [00:03<01:04,  3.38s/it]"
          ],
          "name": "stderr"
        },
        {
          "output_type": "stream",
          "text": [
            "WARNING: NMS time limit 2.0s exceeded\n"
          ],
          "name": "stdout"
        },
        {
          "output_type": "stream",
          "text": [
            "\rValidating:  10%|█         | 2/20 [00:06<00:56,  3.11s/it]"
          ],
          "name": "stderr"
        },
        {
          "output_type": "stream",
          "text": [
            "WARNING: NMS time limit 2.0s exceeded\n"
          ],
          "name": "stdout"
        },
        {
          "output_type": "stream",
          "text": [
            "\rValidating:  15%|█▌        | 3/20 [00:09<00:51,  3.05s/it]"
          ],
          "name": "stderr"
        },
        {
          "output_type": "stream",
          "text": [
            "WARNING: NMS time limit 2.0s exceeded\n"
          ],
          "name": "stdout"
        },
        {
          "output_type": "stream",
          "text": [
            "\rValidating:  20%|██        | 4/20 [00:12<00:49,  3.07s/it]"
          ],
          "name": "stderr"
        },
        {
          "output_type": "stream",
          "text": [
            "WARNING: NMS time limit 2.0s exceeded\n"
          ],
          "name": "stdout"
        },
        {
          "output_type": "stream",
          "text": [
            "\rValidating:  25%|██▌       | 5/20 [00:15<00:45,  3.05s/it]"
          ],
          "name": "stderr"
        },
        {
          "output_type": "stream",
          "text": [
            "WARNING: NMS time limit 2.0s exceeded\n"
          ],
          "name": "stdout"
        },
        {
          "output_type": "stream",
          "text": [
            "\rValidating:  30%|███       | 6/20 [00:18<00:42,  3.00s/it]"
          ],
          "name": "stderr"
        },
        {
          "output_type": "stream",
          "text": [
            "WARNING: NMS time limit 2.0s exceeded\n"
          ],
          "name": "stdout"
        },
        {
          "output_type": "stream",
          "text": [
            "\rValidating:  35%|███▌      | 7/20 [00:21<00:38,  2.99s/it]"
          ],
          "name": "stderr"
        },
        {
          "output_type": "stream",
          "text": [
            "WARNING: NMS time limit 2.0s exceeded\n"
          ],
          "name": "stdout"
        },
        {
          "output_type": "stream",
          "text": [
            "\rValidating:  40%|████      | 8/20 [00:24<00:35,  2.97s/it]"
          ],
          "name": "stderr"
        },
        {
          "output_type": "stream",
          "text": [
            "WARNING: NMS time limit 2.0s exceeded\n"
          ],
          "name": "stdout"
        },
        {
          "output_type": "stream",
          "text": [
            "\rValidating:  45%|████▌     | 9/20 [00:27<00:33,  3.01s/it]"
          ],
          "name": "stderr"
        },
        {
          "output_type": "stream",
          "text": [
            "WARNING: NMS time limit 2.0s exceeded\n"
          ],
          "name": "stdout"
        },
        {
          "output_type": "stream",
          "text": [
            "\rValidating:  50%|█████     | 10/20 [00:30<00:29,  2.98s/it]"
          ],
          "name": "stderr"
        },
        {
          "output_type": "stream",
          "text": [
            "WARNING: NMS time limit 2.0s exceeded\n"
          ],
          "name": "stdout"
        },
        {
          "output_type": "stream",
          "text": [
            "\rValidating:  55%|█████▌    | 11/20 [00:33<00:26,  2.96s/it]"
          ],
          "name": "stderr"
        },
        {
          "output_type": "stream",
          "text": [
            "WARNING: NMS time limit 2.0s exceeded\n"
          ],
          "name": "stdout"
        },
        {
          "output_type": "stream",
          "text": [
            "\rValidating:  60%|██████    | 12/20 [00:36<00:23,  2.95s/it]"
          ],
          "name": "stderr"
        },
        {
          "output_type": "stream",
          "text": [
            "WARNING: NMS time limit 2.0s exceeded\n"
          ],
          "name": "stdout"
        },
        {
          "output_type": "stream",
          "text": [
            "\rValidating:  65%|██████▌   | 13/20 [00:39<00:20,  2.99s/it]"
          ],
          "name": "stderr"
        },
        {
          "output_type": "stream",
          "text": [
            "WARNING: NMS time limit 2.0s exceeded\n"
          ],
          "name": "stdout"
        },
        {
          "output_type": "stream",
          "text": [
            "\rValidating:  70%|███████   | 14/20 [00:42<00:17,  2.98s/it]"
          ],
          "name": "stderr"
        },
        {
          "output_type": "stream",
          "text": [
            "WARNING: NMS time limit 2.0s exceeded\n"
          ],
          "name": "stdout"
        },
        {
          "output_type": "stream",
          "text": [
            "\rValidating:  75%|███████▌  | 15/20 [00:45<00:14,  2.98s/it]"
          ],
          "name": "stderr"
        },
        {
          "output_type": "stream",
          "text": [
            "WARNING: NMS time limit 2.0s exceeded\n"
          ],
          "name": "stdout"
        },
        {
          "output_type": "stream",
          "text": [
            "\rValidating:  80%|████████  | 16/20 [00:48<00:11,  2.98s/it]"
          ],
          "name": "stderr"
        },
        {
          "output_type": "stream",
          "text": [
            "WARNING: NMS time limit 2.0s exceeded\n"
          ],
          "name": "stdout"
        },
        {
          "output_type": "stream",
          "text": [
            "\rValidating:  85%|████████▌ | 17/20 [00:50<00:08,  2.96s/it]"
          ],
          "name": "stderr"
        },
        {
          "output_type": "stream",
          "text": [
            "WARNING: NMS time limit 2.0s exceeded\n"
          ],
          "name": "stdout"
        },
        {
          "output_type": "stream",
          "text": [
            "\rValidating:  90%|█████████ | 18/20 [00:53<00:05,  2.96s/it]"
          ],
          "name": "stderr"
        },
        {
          "output_type": "stream",
          "text": [
            "WARNING: NMS time limit 2.0s exceeded\n"
          ],
          "name": "stdout"
        },
        {
          "output_type": "stream",
          "text": [
            "\rValidating:  95%|█████████▌| 19/20 [00:57<00:03,  3.01s/it]"
          ],
          "name": "stderr"
        },
        {
          "output_type": "stream",
          "text": [
            "WARNING: NMS time limit 2.0s exceeded\n"
          ],
          "name": "stdout"
        },
        {
          "output_type": "stream",
          "text": [
            "Validating: 100%|██████████| 20/20 [01:00<00:00,  3.01s/it]\n",
            "Computing AP: 100%|██████████| 1/1 [00:00<00:00,  4.22it/s]\n"
          ],
          "name": "stderr"
        },
        {
          "output_type": "stream",
          "text": [
            "---- mAP 0.00000 ----\n",
            "Precision: 0.0, Recall: 0.0\n",
            "---- Saving checkpoint to: 'checkpoints/yolov3_ckpt_0.pth' ----\n"
          ],
          "name": "stdout"
        },
        {
          "output_type": "stream",
          "text": [
            "\rTraining Epoch 1:   0%|          | 0/180 [00:00<?, ?it/s]"
          ],
          "name": "stderr"
        },
        {
          "output_type": "stream",
          "text": [
            "\n",
            "---Evaluation---\n",
            "Training Loss 2.483173370361328\n",
            "Validation loss: 2.295316219329834\n",
            "\n",
            "Epoch: 1\n",
            "---- Training Model ----\n"
          ],
          "name": "stdout"
        },
        {
          "output_type": "stream",
          "text": [
            "Training Epoch 1: 100%|██████████| 180/180 [02:25<00:00,  1.24it/s]"
          ],
          "name": "stderr"
        },
        {
          "output_type": "stream",
          "text": [
            "\n",
            "---- Validating Model ----\n"
          ],
          "name": "stdout"
        },
        {
          "output_type": "stream",
          "text": [
            "\n",
            "Validating: 100%|██████████| 20/20 [00:14<00:00,  1.39it/s]\n",
            "Computing AP: 100%|██████████| 1/1 [00:00<00:00,  6.97it/s]\n"
          ],
          "name": "stderr"
        },
        {
          "output_type": "stream",
          "text": [
            "---- mAP 0.02175 ----\n",
            "Precision: 0.00041610525481493223, Recall: 0.03608247422680412\n",
            "---- Saving checkpoint to: 'checkpoints/yolov3_ckpt_1.pth' ----\n"
          ],
          "name": "stdout"
        },
        {
          "output_type": "stream",
          "text": [
            "\rTraining Epoch 2:   0%|          | 0/180 [00:00<?, ?it/s]"
          ],
          "name": "stderr"
        },
        {
          "output_type": "stream",
          "text": [
            "\n",
            "---Evaluation---\n",
            "Training Loss 1.1542582511901855\n",
            "Validation loss: 1.1412551403045654\n",
            "\n",
            "Epoch: 2\n",
            "---- Training Model ----\n"
          ],
          "name": "stdout"
        },
        {
          "output_type": "stream",
          "text": [
            "Training Epoch 2: 100%|██████████| 180/180 [02:18<00:00,  1.30it/s]"
          ],
          "name": "stderr"
        },
        {
          "output_type": "stream",
          "text": [
            "\n",
            "---- Validating Model ----\n"
          ],
          "name": "stdout"
        },
        {
          "output_type": "stream",
          "text": [
            "\n",
            "Validating: 100%|██████████| 20/20 [00:04<00:00,  4.35it/s]\n",
            "Computing AP: 100%|██████████| 1/1 [00:00<00:00, 1525.76it/s]\n"
          ],
          "name": "stderr"
        },
        {
          "output_type": "stream",
          "text": [
            "---- mAP 0.08182 ----\n",
            "Precision: 0.9433962264150944, Recall: 0.0859106529209622\n",
            "---- Saving checkpoint to: 'checkpoints/yolov3_ckpt_2.pth' ----\n"
          ],
          "name": "stdout"
        },
        {
          "output_type": "stream",
          "text": [
            "\rTraining Epoch 3:   0%|          | 0/180 [00:00<?, ?it/s]"
          ],
          "name": "stderr"
        },
        {
          "output_type": "stream",
          "text": [
            "\n",
            "---Evaluation---\n",
            "Training Loss 0.9575474262237549\n",
            "Validation loss: 0.9235414862632751\n",
            "\n",
            "Epoch: 3\n",
            "---- Training Model ----\n"
          ],
          "name": "stdout"
        },
        {
          "output_type": "stream",
          "text": [
            "Training Epoch 3: 100%|██████████| 180/180 [02:12<00:00,  1.36it/s]"
          ],
          "name": "stderr"
        },
        {
          "output_type": "stream",
          "text": [
            "\n",
            "---- Validating Model ----\n"
          ],
          "name": "stdout"
        },
        {
          "output_type": "stream",
          "text": [
            "\n",
            "Validating: 100%|██████████| 20/20 [00:04<00:00,  4.35it/s]\n",
            "Computing AP: 100%|██████████| 1/1 [00:00<00:00, 1745.44it/s]\n"
          ],
          "name": "stderr"
        },
        {
          "output_type": "stream",
          "text": [
            "---- mAP 0.09589 ----\n",
            "Precision: 0.9824561403508771, Recall: 0.09621993127147767\n",
            "---- Saving checkpoint to: 'checkpoints/yolov3_ckpt_3.pth' ----\n"
          ],
          "name": "stdout"
        },
        {
          "output_type": "stream",
          "text": [
            "\rTraining Epoch 4:   0%|          | 0/180 [00:00<?, ?it/s]"
          ],
          "name": "stderr"
        },
        {
          "output_type": "stream",
          "text": [
            "\n",
            "---Evaluation---\n",
            "Training Loss 0.9301165342330933\n",
            "Validation loss: 0.9885183572769165\n",
            "\n",
            "Epoch: 4\n",
            "---- Training Model ----\n"
          ],
          "name": "stdout"
        },
        {
          "output_type": "stream",
          "text": [
            "Training Epoch 4: 100%|██████████| 180/180 [02:11<00:00,  1.37it/s]"
          ],
          "name": "stderr"
        },
        {
          "output_type": "stream",
          "text": [
            "\n",
            "---- Validating Model ----\n"
          ],
          "name": "stdout"
        },
        {
          "output_type": "stream",
          "text": [
            "\n",
            "Validating: 100%|██████████| 20/20 [00:04<00:00,  4.34it/s]\n",
            "Computing AP: 100%|██████████| 1/1 [00:00<00:00, 699.28it/s]\n"
          ],
          "name": "stderr"
        },
        {
          "output_type": "stream",
          "text": [
            "---- mAP 0.15281 ----\n",
            "Precision: 0.9108910891089109, Recall: 0.15807560137457044\n",
            "---- Saving checkpoint to: 'checkpoints/yolov3_ckpt_4.pth' ----\n"
          ],
          "name": "stdout"
        },
        {
          "output_type": "stream",
          "text": [
            "\rTraining Epoch 5:   0%|          | 0/180 [00:00<?, ?it/s]"
          ],
          "name": "stderr"
        },
        {
          "output_type": "stream",
          "text": [
            "\n",
            "---Evaluation---\n",
            "Training Loss 1.0261183977127075\n",
            "Validation loss: 0.836451530456543\n",
            "\n",
            "Epoch: 5\n",
            "---- Training Model ----\n"
          ],
          "name": "stdout"
        },
        {
          "output_type": "stream",
          "text": [
            "Training Epoch 5: 100%|██████████| 180/180 [02:10<00:00,  1.38it/s]"
          ],
          "name": "stderr"
        },
        {
          "output_type": "stream",
          "text": [
            "\n",
            "---- Validating Model ----\n"
          ],
          "name": "stdout"
        },
        {
          "output_type": "stream",
          "text": [
            "\n",
            "Validating: 100%|██████████| 20/20 [00:04<00:00,  4.36it/s]\n",
            "Computing AP: 100%|██████████| 1/1 [00:00<00:00, 888.06it/s]\n"
          ],
          "name": "stderr"
        },
        {
          "output_type": "stream",
          "text": [
            "---- mAP 0.19970 ----\n",
            "Precision: 0.917910447761194, Recall: 0.211340206185567\n",
            "---- Saving checkpoint to: 'checkpoints/yolov3_ckpt_5.pth' ----\n"
          ],
          "name": "stdout"
        },
        {
          "output_type": "stream",
          "text": [
            "\rTraining Epoch 6:   0%|          | 0/180 [00:00<?, ?it/s]"
          ],
          "name": "stderr"
        },
        {
          "output_type": "stream",
          "text": [
            "\n",
            "---Evaluation---\n",
            "Training Loss 0.7781306505203247\n",
            "Validation loss: 0.9822301268577576\n",
            "\n",
            "Epoch: 6\n",
            "---- Training Model ----\n"
          ],
          "name": "stdout"
        },
        {
          "output_type": "stream",
          "text": [
            "Training Epoch 6: 100%|██████████| 180/180 [02:19<00:00,  1.29it/s]"
          ],
          "name": "stderr"
        },
        {
          "output_type": "stream",
          "text": [
            "\n",
            "---- Validating Model ----\n"
          ],
          "name": "stdout"
        },
        {
          "output_type": "stream",
          "text": [
            "\n",
            "Validating: 100%|██████████| 20/20 [00:04<00:00,  4.18it/s]\n",
            "Computing AP: 100%|██████████| 1/1 [00:00<00:00, 1080.17it/s]\n"
          ],
          "name": "stderr"
        },
        {
          "output_type": "stream",
          "text": [
            "---- mAP 0.21176 ----\n",
            "Precision: 0.8198757763975155, Recall: 0.2268041237113402\n",
            "---- Saving checkpoint to: 'checkpoints/yolov3_ckpt_6.pth' ----\n"
          ],
          "name": "stdout"
        },
        {
          "output_type": "stream",
          "text": [
            "\rTraining Epoch 7:   0%|          | 0/180 [00:00<?, ?it/s]"
          ],
          "name": "stderr"
        },
        {
          "output_type": "stream",
          "text": [
            "\n",
            "---Evaluation---\n",
            "Training Loss 0.8752464056015015\n",
            "Validation loss: 0.8288002610206604\n",
            "\n",
            "Epoch: 7\n",
            "---- Training Model ----\n"
          ],
          "name": "stdout"
        },
        {
          "output_type": "stream",
          "text": [
            "Training Epoch 7: 100%|██████████| 180/180 [02:02<00:00,  1.47it/s]"
          ],
          "name": "stderr"
        },
        {
          "output_type": "stream",
          "text": [
            "\n",
            "---- Validating Model ----\n"
          ],
          "name": "stdout"
        },
        {
          "output_type": "stream",
          "text": [
            "\n",
            "Validating: 100%|██████████| 20/20 [00:04<00:00,  4.15it/s]\n",
            "Computing AP: 100%|██████████| 1/1 [00:00<00:00, 371.87it/s]\n"
          ],
          "name": "stderr"
        },
        {
          "output_type": "stream",
          "text": [
            "---- mAP 0.49100 ----\n",
            "Precision: 0.8422535211267606, Recall: 0.5137457044673539\n",
            "---- Saving checkpoint to: 'checkpoints/yolov3_ckpt_7.pth' ----\n"
          ],
          "name": "stdout"
        },
        {
          "output_type": "stream",
          "text": [
            "\rTraining Epoch 8:   0%|          | 0/180 [00:00<?, ?it/s]"
          ],
          "name": "stderr"
        },
        {
          "output_type": "stream",
          "text": [
            "\n",
            "---Evaluation---\n",
            "Training Loss 0.6738219857215881\n",
            "Validation loss: 0.8278104066848755\n",
            "\n",
            "Epoch: 8\n",
            "---- Training Model ----\n"
          ],
          "name": "stdout"
        },
        {
          "output_type": "stream",
          "text": [
            "Training Epoch 8: 100%|██████████| 180/180 [02:20<00:00,  1.28it/s]"
          ],
          "name": "stderr"
        },
        {
          "output_type": "stream",
          "text": [
            "\n",
            "---- Validating Model ----\n"
          ],
          "name": "stdout"
        },
        {
          "output_type": "stream",
          "text": [
            "\n",
            "Validating: 100%|██████████| 20/20 [00:04<00:00,  4.15it/s]\n",
            "Computing AP: 100%|██████████| 1/1 [00:00<00:00, 411.45it/s]\n"
          ],
          "name": "stderr"
        },
        {
          "output_type": "stream",
          "text": [
            "---- mAP 0.38837 ----\n",
            "Precision: 0.7667731629392971, Recall: 0.41237113402061853\n",
            "---- Saving checkpoint to: 'checkpoints/yolov3_ckpt_8.pth' ----\n"
          ],
          "name": "stdout"
        },
        {
          "output_type": "stream",
          "text": [
            "\rTraining Epoch 9:   0%|          | 0/180 [00:00<?, ?it/s]"
          ],
          "name": "stderr"
        },
        {
          "output_type": "stream",
          "text": [
            "\n",
            "---Evaluation---\n",
            "Training Loss 0.8262634873390198\n",
            "Validation loss: 0.7901386618614197\n",
            "\n",
            "Epoch: 9\n",
            "---- Training Model ----\n"
          ],
          "name": "stdout"
        },
        {
          "output_type": "stream",
          "text": [
            "Training Epoch 9: 100%|██████████| 180/180 [02:13<00:00,  1.35it/s]"
          ],
          "name": "stderr"
        },
        {
          "output_type": "stream",
          "text": [
            "\n",
            "---- Validating Model ----\n"
          ],
          "name": "stdout"
        },
        {
          "output_type": "stream",
          "text": [
            "\n",
            "Validating: 100%|██████████| 20/20 [00:04<00:00,  4.12it/s]\n",
            "Computing AP: 100%|██████████| 1/1 [00:00<00:00, 827.28it/s]\n"
          ],
          "name": "stderr"
        },
        {
          "output_type": "stream",
          "text": [
            "---- mAP 0.48468 ----\n",
            "Precision: 0.8389830508474576, Recall: 0.5103092783505154\n",
            "---- Saving checkpoint to: 'checkpoints/yolov3_ckpt_9.pth' ----\n"
          ],
          "name": "stdout"
        },
        {
          "output_type": "stream",
          "text": [
            "\rTraining Epoch 10:   0%|          | 0/180 [00:00<?, ?it/s]"
          ],
          "name": "stderr"
        },
        {
          "output_type": "stream",
          "text": [
            "\n",
            "---Evaluation---\n",
            "Training Loss 0.6927167177200317\n",
            "Validation loss: 0.7727478742599487\n",
            "\n",
            "Epoch: 10\n",
            "---- Training Model ----\n"
          ],
          "name": "stdout"
        },
        {
          "output_type": "stream",
          "text": [
            "Training Epoch 10: 100%|██████████| 180/180 [02:11<00:00,  1.37it/s]"
          ],
          "name": "stderr"
        },
        {
          "output_type": "stream",
          "text": [
            "\n",
            "---- Validating Model ----\n"
          ],
          "name": "stdout"
        },
        {
          "output_type": "stream",
          "text": [
            "\n",
            "Validating: 100%|██████████| 20/20 [00:04<00:00,  4.21it/s]\n",
            "Computing AP: 100%|██████████| 1/1 [00:00<00:00, 547.92it/s]\n"
          ],
          "name": "stderr"
        },
        {
          "output_type": "stream",
          "text": [
            "---- mAP 0.40748 ----\n",
            "Precision: 0.9132075471698113, Recall: 0.41580756013745707\n",
            "---- Saving checkpoint to: 'checkpoints/yolov3_ckpt_10.pth' ----\n"
          ],
          "name": "stdout"
        },
        {
          "output_type": "stream",
          "text": [
            "\rTraining Epoch 11:   0%|          | 0/180 [00:00<?, ?it/s]"
          ],
          "name": "stderr"
        },
        {
          "output_type": "stream",
          "text": [
            "\n",
            "---Evaluation---\n",
            "Training Loss 0.6987429261207581\n",
            "Validation loss: 0.7884773015975952\n",
            "\n",
            "Epoch: 11\n",
            "---- Training Model ----\n"
          ],
          "name": "stdout"
        },
        {
          "output_type": "stream",
          "text": [
            "Training Epoch 11: 100%|██████████| 180/180 [02:12<00:00,  1.35it/s]"
          ],
          "name": "stderr"
        },
        {
          "output_type": "stream",
          "text": [
            "\n",
            "---- Validating Model ----\n"
          ],
          "name": "stdout"
        },
        {
          "output_type": "stream",
          "text": [
            "\n",
            "Validating: 100%|██████████| 20/20 [00:04<00:00,  4.15it/s]\n",
            "Computing AP: 100%|██████████| 1/1 [00:00<00:00, 456.70it/s]\n"
          ],
          "name": "stderr"
        },
        {
          "output_type": "stream",
          "text": [
            "---- mAP 0.41127 ----\n",
            "Precision: 0.8316498316498316, Recall: 0.42439862542955326\n",
            "---- Saving checkpoint to: 'checkpoints/yolov3_ckpt_11.pth' ----\n"
          ],
          "name": "stdout"
        },
        {
          "output_type": "stream",
          "text": [
            "\rTraining Epoch 12:   0%|          | 0/180 [00:00<?, ?it/s]"
          ],
          "name": "stderr"
        },
        {
          "output_type": "stream",
          "text": [
            "\n",
            "---Evaluation---\n",
            "Training Loss 0.8684250712394714\n",
            "Validation loss: 0.6984564661979675\n",
            "\n",
            "Epoch: 12\n",
            "---- Training Model ----\n"
          ],
          "name": "stdout"
        },
        {
          "output_type": "stream",
          "text": [
            "Training Epoch 12: 100%|██████████| 180/180 [02:12<00:00,  1.36it/s]"
          ],
          "name": "stderr"
        },
        {
          "output_type": "stream",
          "text": [
            "\n",
            "---- Validating Model ----\n"
          ],
          "name": "stdout"
        },
        {
          "output_type": "stream",
          "text": [
            "\n",
            "Validating: 100%|██████████| 20/20 [00:04<00:00,  4.14it/s]\n",
            "Computing AP: 100%|██████████| 1/1 [00:00<00:00, 756.82it/s]\n"
          ],
          "name": "stderr"
        },
        {
          "output_type": "stream",
          "text": [
            "---- mAP 0.37692 ----\n",
            "Precision: 0.8172413793103448, Recall: 0.4072164948453608\n",
            "---- Saving checkpoint to: 'checkpoints/yolov3_ckpt_12.pth' ----\n"
          ],
          "name": "stdout"
        },
        {
          "output_type": "stream",
          "text": [
            "\rTraining Epoch 13:   0%|          | 0/180 [00:00<?, ?it/s]"
          ],
          "name": "stderr"
        },
        {
          "output_type": "stream",
          "text": [
            "\n",
            "---Evaluation---\n",
            "Training Loss 0.8001185655593872\n",
            "Validation loss: 0.7323952913284302\n",
            "\n",
            "Epoch: 13\n",
            "---- Training Model ----\n"
          ],
          "name": "stdout"
        },
        {
          "output_type": "stream",
          "text": [
            "Training Epoch 13: 100%|██████████| 180/180 [02:03<00:00,  1.46it/s]"
          ],
          "name": "stderr"
        },
        {
          "output_type": "stream",
          "text": [
            "\n",
            "---- Validating Model ----\n"
          ],
          "name": "stdout"
        },
        {
          "output_type": "stream",
          "text": [
            "\n",
            "Validating: 100%|██████████| 20/20 [00:04<00:00,  4.22it/s]\n",
            "Computing AP: 100%|██████████| 1/1 [00:00<00:00, 354.19it/s]\n"
          ],
          "name": "stderr"
        },
        {
          "output_type": "stream",
          "text": [
            "---- mAP 0.54387 ----\n",
            "Precision: 0.7887323943661971, Recall: 0.5773195876288659\n",
            "---- Saving checkpoint to: 'checkpoints/yolov3_ckpt_13.pth' ----\n"
          ],
          "name": "stdout"
        },
        {
          "output_type": "stream",
          "text": [
            "\rTraining Epoch 14:   0%|          | 0/180 [00:00<?, ?it/s]"
          ],
          "name": "stderr"
        },
        {
          "output_type": "stream",
          "text": [
            "\n",
            "---Evaluation---\n",
            "Training Loss 0.9192613363265991\n",
            "Validation loss: 0.7952556610107422\n",
            "\n",
            "Epoch: 14\n",
            "---- Training Model ----\n"
          ],
          "name": "stdout"
        },
        {
          "output_type": "stream",
          "text": [
            "Training Epoch 14: 100%|██████████| 180/180 [02:19<00:00,  1.29it/s]"
          ],
          "name": "stderr"
        },
        {
          "output_type": "stream",
          "text": [
            "\n",
            "---- Validating Model ----\n"
          ],
          "name": "stdout"
        },
        {
          "output_type": "stream",
          "text": [
            "\n",
            "Validating: 100%|██████████| 20/20 [00:04<00:00,  4.10it/s]\n",
            "Computing AP: 100%|██████████| 1/1 [00:00<00:00, 769.60it/s]\n"
          ],
          "name": "stderr"
        },
        {
          "output_type": "stream",
          "text": [
            "---- mAP 0.35530 ----\n",
            "Precision: 0.7615894039735099, Recall: 0.3951890034364261\n",
            "---- Saving checkpoint to: 'checkpoints/yolov3_ckpt_14.pth' ----\n"
          ],
          "name": "stdout"
        },
        {
          "output_type": "stream",
          "text": [
            "\rTraining Epoch 15:   0%|          | 0/180 [00:00<?, ?it/s]"
          ],
          "name": "stderr"
        },
        {
          "output_type": "stream",
          "text": [
            "\n",
            "---Evaluation---\n",
            "Training Loss 0.7962879538536072\n",
            "Validation loss: 0.9930193424224854\n",
            "\n",
            "Epoch: 15\n",
            "---- Training Model ----\n"
          ],
          "name": "stdout"
        },
        {
          "output_type": "stream",
          "text": [
            "Training Epoch 15: 100%|██████████| 180/180 [02:15<00:00,  1.33it/s]"
          ],
          "name": "stderr"
        },
        {
          "output_type": "stream",
          "text": [
            "\n",
            "---- Validating Model ----\n"
          ],
          "name": "stdout"
        },
        {
          "output_type": "stream",
          "text": [
            "\n",
            "Validating: 100%|██████████| 20/20 [00:04<00:00,  4.19it/s]\n",
            "Computing AP: 100%|██████████| 1/1 [00:00<00:00, 818.24it/s]\n"
          ],
          "name": "stderr"
        },
        {
          "output_type": "stream",
          "text": [
            "---- mAP 0.50421 ----\n",
            "Precision: 0.8850574712643678, Recall: 0.5292096219931272\n",
            "---- Saving checkpoint to: 'checkpoints/yolov3_ckpt_15.pth' ----\n"
          ],
          "name": "stdout"
        },
        {
          "output_type": "stream",
          "text": [
            "\rTraining Epoch 16:   0%|          | 0/180 [00:00<?, ?it/s]"
          ],
          "name": "stderr"
        },
        {
          "output_type": "stream",
          "text": [
            "\n",
            "---Evaluation---\n",
            "Training Loss 0.7577370405197144\n",
            "Validation loss: 0.7495046257972717\n",
            "\n",
            "Epoch: 16\n",
            "---- Training Model ----\n"
          ],
          "name": "stdout"
        },
        {
          "output_type": "stream",
          "text": [
            "Training Epoch 16: 100%|██████████| 180/180 [02:03<00:00,  1.45it/s]"
          ],
          "name": "stderr"
        },
        {
          "output_type": "stream",
          "text": [
            "\n",
            "---- Validating Model ----\n"
          ],
          "name": "stdout"
        },
        {
          "output_type": "stream",
          "text": [
            "\n",
            "Validating: 100%|██████████| 20/20 [00:04<00:00,  4.20it/s]\n",
            "Computing AP: 100%|██████████| 1/1 [00:00<00:00, 287.03it/s]\n"
          ],
          "name": "stderr"
        },
        {
          "output_type": "stream",
          "text": [
            "---- mAP 0.58657 ----\n",
            "Precision: 0.8344988344988346, Recall: 0.6151202749140894\n",
            "---- Saving checkpoint to: 'checkpoints/yolov3_ckpt_16.pth' ----\n"
          ],
          "name": "stdout"
        },
        {
          "output_type": "stream",
          "text": [
            "\rTraining Epoch 17:   0%|          | 0/180 [00:00<?, ?it/s]"
          ],
          "name": "stderr"
        },
        {
          "output_type": "stream",
          "text": [
            "\n",
            "---Evaluation---\n",
            "Training Loss 0.6925153136253357\n",
            "Validation loss: 0.7531397938728333\n",
            "\n",
            "Epoch: 17\n",
            "---- Training Model ----\n"
          ],
          "name": "stdout"
        },
        {
          "output_type": "stream",
          "text": [
            "Training Epoch 17: 100%|██████████| 180/180 [02:16<00:00,  1.32it/s]"
          ],
          "name": "stderr"
        },
        {
          "output_type": "stream",
          "text": [
            "\n",
            "---- Validating Model ----\n"
          ],
          "name": "stdout"
        },
        {
          "output_type": "stream",
          "text": [
            "\n",
            "Validating: 100%|██████████| 20/20 [00:04<00:00,  4.09it/s]\n",
            "Computing AP: 100%|██████████| 1/1 [00:00<00:00, 260.16it/s]\n"
          ],
          "name": "stderr"
        },
        {
          "output_type": "stream",
          "text": [
            "---- mAP 0.55761 ----\n",
            "Precision: 0.6566901408450704, Recall: 0.6408934707903781\n",
            "---- Saving checkpoint to: 'checkpoints/yolov3_ckpt_17.pth' ----\n"
          ],
          "name": "stdout"
        },
        {
          "output_type": "stream",
          "text": [
            "\rTraining Epoch 18:   0%|          | 0/180 [00:00<?, ?it/s]"
          ],
          "name": "stderr"
        },
        {
          "output_type": "stream",
          "text": [
            "\n",
            "---Evaluation---\n",
            "Training Loss 0.7430136203765869\n",
            "Validation loss: 0.8254593014717102\n",
            "\n",
            "Epoch: 18\n",
            "---- Training Model ----\n"
          ],
          "name": "stdout"
        },
        {
          "output_type": "stream",
          "text": [
            "Training Epoch 18: 100%|██████████| 180/180 [02:14<00:00,  1.34it/s]"
          ],
          "name": "stderr"
        },
        {
          "output_type": "stream",
          "text": [
            "\n",
            "---- Validating Model ----\n"
          ],
          "name": "stdout"
        },
        {
          "output_type": "stream",
          "text": [
            "\n",
            "Validating: 100%|██████████| 20/20 [00:04<00:00,  4.11it/s]\n",
            "Computing AP: 100%|██████████| 1/1 [00:00<00:00, 523.11it/s]\n"
          ],
          "name": "stderr"
        },
        {
          "output_type": "stream",
          "text": [
            "---- mAP 0.48526 ----\n",
            "Precision: 0.8059299191374663, Recall: 0.5137457044673539\n",
            "---- Saving checkpoint to: 'checkpoints/yolov3_ckpt_18.pth' ----\n"
          ],
          "name": "stdout"
        },
        {
          "output_type": "stream",
          "text": [
            "\rTraining Epoch 19:   0%|          | 0/180 [00:00<?, ?it/s]"
          ],
          "name": "stderr"
        },
        {
          "output_type": "stream",
          "text": [
            "\n",
            "---Evaluation---\n",
            "Training Loss 0.8972902894020081\n",
            "Validation loss: 0.8048763871192932\n",
            "\n",
            "Epoch: 19\n",
            "---- Training Model ----\n"
          ],
          "name": "stdout"
        },
        {
          "output_type": "stream",
          "text": [
            "Training Epoch 19: 100%|██████████| 180/180 [02:06<00:00,  1.43it/s]"
          ],
          "name": "stderr"
        },
        {
          "output_type": "stream",
          "text": [
            "\n",
            "---- Validating Model ----\n"
          ],
          "name": "stdout"
        },
        {
          "output_type": "stream",
          "text": [
            "\n",
            "Validating: 100%|██████████| 20/20 [00:04<00:00,  4.10it/s]\n",
            "Computing AP: 100%|██████████| 1/1 [00:00<00:00, 602.37it/s]\n"
          ],
          "name": "stderr"
        },
        {
          "output_type": "stream",
          "text": [
            "---- mAP 0.53101 ----\n",
            "Precision: 0.7008032128514057, Recall: 0.5996563573883161\n",
            "---- Saving checkpoint to: 'checkpoints/yolov3_ckpt_19.pth' ----\n"
          ],
          "name": "stdout"
        },
        {
          "output_type": "stream",
          "text": [
            "\rTraining Epoch 20:   0%|          | 0/180 [00:00<?, ?it/s]"
          ],
          "name": "stderr"
        },
        {
          "output_type": "stream",
          "text": [
            "\n",
            "---Evaluation---\n",
            "Training Loss 0.7692984938621521\n",
            "Validation loss: 0.7625929713249207\n",
            "\n",
            "Epoch: 20\n",
            "---- Training Model ----\n"
          ],
          "name": "stdout"
        },
        {
          "output_type": "stream",
          "text": [
            "Training Epoch 20: 100%|██████████| 180/180 [02:06<00:00,  1.42it/s]"
          ],
          "name": "stderr"
        },
        {
          "output_type": "stream",
          "text": [
            "\n",
            "---- Validating Model ----\n"
          ],
          "name": "stdout"
        },
        {
          "output_type": "stream",
          "text": [
            "\n",
            "Validating: 100%|██████████| 20/20 [00:04<00:00,  4.12it/s]\n",
            "Computing AP: 100%|██████████| 1/1 [00:00<00:00, 336.14it/s]\n"
          ],
          "name": "stderr"
        },
        {
          "output_type": "stream",
          "text": [
            "---- mAP 0.35174 ----\n",
            "Precision: 0.673469387755102, Recall: 0.5103092783505154\n",
            "---- Saving checkpoint to: 'checkpoints/yolov3_ckpt_20.pth' ----\n"
          ],
          "name": "stdout"
        },
        {
          "output_type": "stream",
          "text": [
            "\rTraining Epoch 21:   0%|          | 0/180 [00:00<?, ?it/s]"
          ],
          "name": "stderr"
        },
        {
          "output_type": "stream",
          "text": [
            "\n",
            "---Evaluation---\n",
            "Training Loss 0.794196605682373\n",
            "Validation loss: 0.8139166831970215\n",
            "\n",
            "Epoch: 21\n",
            "---- Training Model ----\n"
          ],
          "name": "stdout"
        },
        {
          "output_type": "stream",
          "text": [
            "Training Epoch 21: 100%|██████████| 180/180 [02:12<00:00,  1.35it/s]"
          ],
          "name": "stderr"
        },
        {
          "output_type": "stream",
          "text": [
            "\n",
            "---- Validating Model ----\n"
          ],
          "name": "stdout"
        },
        {
          "output_type": "stream",
          "text": [
            "\n",
            "Validating: 100%|██████████| 20/20 [00:04<00:00,  4.19it/s]\n",
            "Computing AP: 100%|██████████| 1/1 [00:00<00:00, 729.70it/s]\n"
          ],
          "name": "stderr"
        },
        {
          "output_type": "stream",
          "text": [
            "---- mAP 0.54637 ----\n",
            "Precision: 0.8867924528301887, Recall: 0.5652920962199313\n",
            "---- Saving checkpoint to: 'checkpoints/yolov3_ckpt_21.pth' ----\n"
          ],
          "name": "stdout"
        },
        {
          "output_type": "stream",
          "text": [
            "\rTraining Epoch 22:   0%|          | 0/180 [00:00<?, ?it/s]"
          ],
          "name": "stderr"
        },
        {
          "output_type": "stream",
          "text": [
            "\n",
            "---Evaluation---\n",
            "Training Loss 0.7332287430763245\n",
            "Validation loss: 0.7808135747909546\n",
            "\n",
            "Epoch: 22\n",
            "---- Training Model ----\n"
          ],
          "name": "stdout"
        },
        {
          "output_type": "stream",
          "text": [
            "Training Epoch 22: 100%|██████████| 180/180 [02:20<00:00,  1.28it/s]"
          ],
          "name": "stderr"
        },
        {
          "output_type": "stream",
          "text": [
            "\n",
            "---- Validating Model ----\n"
          ],
          "name": "stdout"
        },
        {
          "output_type": "stream",
          "text": [
            "\n",
            "Validating: 100%|██████████| 20/20 [00:04<00:00,  4.08it/s]\n",
            "Computing AP: 100%|██████████| 1/1 [00:00<00:00, 175.46it/s]\n"
          ],
          "name": "stderr"
        },
        {
          "output_type": "stream",
          "text": [
            "---- mAP 0.62125 ----\n",
            "Precision: 0.8764568764568764, Recall: 0.6460481099656358\n",
            "---- Saving checkpoint to: 'checkpoints/yolov3_ckpt_22.pth' ----\n"
          ],
          "name": "stdout"
        },
        {
          "output_type": "stream",
          "text": [
            "\rTraining Epoch 23:   0%|          | 0/180 [00:00<?, ?it/s]"
          ],
          "name": "stderr"
        },
        {
          "output_type": "stream",
          "text": [
            "\n",
            "---Evaluation---\n",
            "Training Loss 0.7043552994728088\n",
            "Validation loss: 0.7745556235313416\n",
            "\n",
            "Epoch: 23\n",
            "---- Training Model ----\n"
          ],
          "name": "stdout"
        },
        {
          "output_type": "stream",
          "text": [
            "Training Epoch 23: 100%|██████████| 180/180 [02:15<00:00,  1.33it/s]"
          ],
          "name": "stderr"
        },
        {
          "output_type": "stream",
          "text": [
            "\n",
            "---- Validating Model ----\n"
          ],
          "name": "stdout"
        },
        {
          "output_type": "stream",
          "text": [
            "\n",
            "Validating: 100%|██████████| 20/20 [00:04<00:00,  4.13it/s]\n",
            "Computing AP: 100%|██████████| 1/1 [00:00<00:00, 787.51it/s]\n"
          ],
          "name": "stderr"
        },
        {
          "output_type": "stream",
          "text": [
            "---- mAP 0.41344 ----\n",
            "Precision: 0.9018181818181819, Recall: 0.4261168384879725\n",
            "---- Saving checkpoint to: 'checkpoints/yolov3_ckpt_23.pth' ----\n"
          ],
          "name": "stdout"
        },
        {
          "output_type": "stream",
          "text": [
            "\rTraining Epoch 24:   0%|          | 0/180 [00:00<?, ?it/s]"
          ],
          "name": "stderr"
        },
        {
          "output_type": "stream",
          "text": [
            "\n",
            "---Evaluation---\n",
            "Training Loss 0.6899071335792542\n",
            "Validation loss: 0.7095062136650085\n",
            "\n",
            "Epoch: 24\n",
            "---- Training Model ----\n"
          ],
          "name": "stdout"
        },
        {
          "output_type": "stream",
          "text": [
            "Training Epoch 24: 100%|██████████| 180/180 [02:17<00:00,  1.31it/s]"
          ],
          "name": "stderr"
        },
        {
          "output_type": "stream",
          "text": [
            "\n",
            "---- Validating Model ----\n"
          ],
          "name": "stdout"
        },
        {
          "output_type": "stream",
          "text": [
            "\n",
            "Validating: 100%|██████████| 20/20 [00:04<00:00,  4.15it/s]\n",
            "Computing AP: 100%|██████████| 1/1 [00:00<00:00, 376.64it/s]\n"
          ],
          "name": "stderr"
        },
        {
          "output_type": "stream",
          "text": [
            "---- mAP 0.47042 ----\n",
            "Precision: 0.7862595419847328, Recall: 0.5309278350515464\n",
            "---- Saving checkpoint to: 'checkpoints/yolov3_ckpt_24.pth' ----\n"
          ],
          "name": "stdout"
        },
        {
          "output_type": "stream",
          "text": [
            "\rTraining Epoch 25:   0%|          | 0/180 [00:00<?, ?it/s]"
          ],
          "name": "stderr"
        },
        {
          "output_type": "stream",
          "text": [
            "\n",
            "---Evaluation---\n",
            "Training Loss 0.8255582451820374\n",
            "Validation loss: 0.7978997230529785\n",
            "\n",
            "Epoch: 25\n",
            "---- Training Model ----\n"
          ],
          "name": "stdout"
        },
        {
          "output_type": "stream",
          "text": [
            "Training Epoch 25: 100%|██████████| 180/180 [02:14<00:00,  1.34it/s]"
          ],
          "name": "stderr"
        },
        {
          "output_type": "stream",
          "text": [
            "\n",
            "---- Validating Model ----\n"
          ],
          "name": "stdout"
        },
        {
          "output_type": "stream",
          "text": [
            "\n",
            "Validating: 100%|██████████| 20/20 [00:04<00:00,  4.20it/s]\n",
            "Computing AP: 100%|██████████| 1/1 [00:00<00:00, 461.57it/s]\n"
          ],
          "name": "stderr"
        },
        {
          "output_type": "stream",
          "text": [
            "---- mAP 0.50446 ----\n",
            "Precision: 0.856338028169014, Recall: 0.5223367697594502\n",
            "---- Saving checkpoint to: 'checkpoints/yolov3_ckpt_25.pth' ----\n"
          ],
          "name": "stdout"
        },
        {
          "output_type": "stream",
          "text": [
            "\rTraining Epoch 26:   0%|          | 0/180 [00:00<?, ?it/s]"
          ],
          "name": "stderr"
        },
        {
          "output_type": "stream",
          "text": [
            "\n",
            "---Evaluation---\n",
            "Training Loss 0.7359926700592041\n",
            "Validation loss: 0.760116696357727\n",
            "\n",
            "Epoch: 26\n",
            "---- Training Model ----\n"
          ],
          "name": "stdout"
        },
        {
          "output_type": "stream",
          "text": [
            "Training Epoch 26: 100%|██████████| 180/180 [02:23<00:00,  1.26it/s]"
          ],
          "name": "stderr"
        },
        {
          "output_type": "stream",
          "text": [
            "\n",
            "---- Validating Model ----\n"
          ],
          "name": "stdout"
        },
        {
          "output_type": "stream",
          "text": [
            "\n",
            "Validating: 100%|██████████| 20/20 [00:04<00:00,  4.06it/s]\n",
            "Computing AP: 100%|██████████| 1/1 [00:00<00:00, 154.89it/s]\n"
          ],
          "name": "stderr"
        },
        {
          "output_type": "stream",
          "text": [
            "---- mAP 0.57319 ----\n",
            "Precision: 0.8173302107728337, Recall: 0.5996563573883161\n",
            "---- Saving checkpoint to: 'checkpoints/yolov3_ckpt_26.pth' ----\n"
          ],
          "name": "stdout"
        },
        {
          "output_type": "stream",
          "text": [
            "\rTraining Epoch 27:   0%|          | 0/180 [00:00<?, ?it/s]"
          ],
          "name": "stderr"
        },
        {
          "output_type": "stream",
          "text": [
            "\n",
            "---Evaluation---\n",
            "Training Loss 0.6869925856590271\n",
            "Validation loss: 0.6910099983215332\n",
            "\n",
            "Epoch: 27\n",
            "---- Training Model ----\n"
          ],
          "name": "stdout"
        },
        {
          "output_type": "stream",
          "text": [
            "Training Epoch 27: 100%|██████████| 180/180 [02:05<00:00,  1.43it/s]"
          ],
          "name": "stderr"
        },
        {
          "output_type": "stream",
          "text": [
            "\n",
            "---- Validating Model ----\n"
          ],
          "name": "stdout"
        },
        {
          "output_type": "stream",
          "text": [
            "\n",
            "Validating: 100%|██████████| 20/20 [00:04<00:00,  4.07it/s]\n",
            "Computing AP: 100%|██████████| 1/1 [00:00<00:00, 475.44it/s]\n"
          ],
          "name": "stderr"
        },
        {
          "output_type": "stream",
          "text": [
            "---- mAP 0.60697 ----\n",
            "Precision: 0.7838383838383839, Recall: 0.6666666666666666\n",
            "---- Saving checkpoint to: 'checkpoints/yolov3_ckpt_27.pth' ----\n"
          ],
          "name": "stdout"
        },
        {
          "output_type": "stream",
          "text": [
            "\rTraining Epoch 28:   0%|          | 0/180 [00:00<?, ?it/s]"
          ],
          "name": "stderr"
        },
        {
          "output_type": "stream",
          "text": [
            "\n",
            "---Evaluation---\n",
            "Training Loss 0.8199029564857483\n",
            "Validation loss: 0.7923507690429688\n",
            "\n",
            "Epoch: 28\n",
            "---- Training Model ----\n"
          ],
          "name": "stdout"
        },
        {
          "output_type": "stream",
          "text": [
            "Training Epoch 28: 100%|██████████| 180/180 [02:17<00:00,  1.31it/s]"
          ],
          "name": "stderr"
        },
        {
          "output_type": "stream",
          "text": [
            "\n",
            "---- Validating Model ----\n"
          ],
          "name": "stdout"
        },
        {
          "output_type": "stream",
          "text": [
            "\n",
            "Validating: 100%|██████████| 20/20 [00:04<00:00,  4.11it/s]\n",
            "Computing AP: 100%|██████████| 1/1 [00:00<00:00, 353.74it/s]\n"
          ],
          "name": "stderr"
        },
        {
          "output_type": "stream",
          "text": [
            "---- mAP 0.51765 ----\n",
            "Precision: 0.8914285714285715, Recall: 0.5360824742268041\n",
            "---- Saving checkpoint to: 'checkpoints/yolov3_ckpt_28.pth' ----\n"
          ],
          "name": "stdout"
        },
        {
          "output_type": "stream",
          "text": [
            "\rTraining Epoch 29:   0%|          | 0/180 [00:00<?, ?it/s]"
          ],
          "name": "stderr"
        },
        {
          "output_type": "stream",
          "text": [
            "\n",
            "---Evaluation---\n",
            "Training Loss 0.8856486678123474\n",
            "Validation loss: 0.7926634550094604\n",
            "\n",
            "Epoch: 29\n",
            "---- Training Model ----\n"
          ],
          "name": "stdout"
        },
        {
          "output_type": "stream",
          "text": [
            "Training Epoch 29: 100%|██████████| 180/180 [02:15<00:00,  1.33it/s]"
          ],
          "name": "stderr"
        },
        {
          "output_type": "stream",
          "text": [
            "\n",
            "---- Validating Model ----\n"
          ],
          "name": "stdout"
        },
        {
          "output_type": "stream",
          "text": [
            "\n",
            "Validating: 100%|██████████| 20/20 [00:04<00:00,  4.20it/s]\n",
            "Computing AP: 100%|██████████| 1/1 [00:00<00:00, 735.84it/s]\n"
          ],
          "name": "stderr"
        },
        {
          "output_type": "stream",
          "text": [
            "---- mAP 0.53184 ----\n",
            "Precision: 0.8743169398907104, Recall: 0.5498281786941581\n",
            "---- Saving checkpoint to: 'checkpoints/yolov3_ckpt_29.pth' ----\n"
          ],
          "name": "stdout"
        },
        {
          "output_type": "stream",
          "text": [
            "\rTraining Epoch 30:   0%|          | 0/180 [00:00<?, ?it/s]"
          ],
          "name": "stderr"
        },
        {
          "output_type": "stream",
          "text": [
            "\n",
            "---Evaluation---\n",
            "Training Loss 0.5767505168914795\n",
            "Validation loss: 0.746959924697876\n",
            "\n",
            "Epoch: 30\n",
            "---- Training Model ----\n"
          ],
          "name": "stdout"
        },
        {
          "output_type": "stream",
          "text": [
            "Training Epoch 30: 100%|██████████| 180/180 [02:05<00:00,  1.44it/s]"
          ],
          "name": "stderr"
        },
        {
          "output_type": "stream",
          "text": [
            "\n",
            "---- Validating Model ----\n"
          ],
          "name": "stdout"
        },
        {
          "output_type": "stream",
          "text": [
            "\n",
            "Validating: 100%|██████████| 20/20 [00:04<00:00,  4.08it/s]\n",
            "Computing AP: 100%|██████████| 1/1 [00:00<00:00, 300.90it/s]\n"
          ],
          "name": "stderr"
        },
        {
          "output_type": "stream",
          "text": [
            "---- mAP 0.63457 ----\n",
            "Precision: 0.7926829268292683, Recall: 0.6701030927835051\n",
            "---- Saving checkpoint to: 'checkpoints/yolov3_ckpt_30.pth' ----\n"
          ],
          "name": "stdout"
        },
        {
          "output_type": "stream",
          "text": [
            "\rTraining Epoch 31:   0%|          | 0/180 [00:00<?, ?it/s]"
          ],
          "name": "stderr"
        },
        {
          "output_type": "stream",
          "text": [
            "\n",
            "---Evaluation---\n",
            "Training Loss 0.6994184255599976\n",
            "Validation loss: 0.7444122433662415\n",
            "\n",
            "Epoch: 31\n",
            "---- Training Model ----\n"
          ],
          "name": "stdout"
        },
        {
          "output_type": "stream",
          "text": [
            "Training Epoch 31: 100%|██████████| 180/180 [02:21<00:00,  1.27it/s]"
          ],
          "name": "stderr"
        },
        {
          "output_type": "stream",
          "text": [
            "\n",
            "---- Validating Model ----\n"
          ],
          "name": "stdout"
        },
        {
          "output_type": "stream",
          "text": [
            "\n",
            "Validating: 100%|██████████| 20/20 [00:04<00:00,  4.19it/s]\n",
            "Computing AP: 100%|██████████| 1/1 [00:00<00:00, 620.83it/s]\n"
          ],
          "name": "stderr"
        },
        {
          "output_type": "stream",
          "text": [
            "---- mAP 0.60570 ----\n",
            "Precision: 0.8618266978922716, Recall: 0.6323024054982818\n",
            "---- Saving checkpoint to: 'checkpoints/yolov3_ckpt_31.pth' ----\n"
          ],
          "name": "stdout"
        },
        {
          "output_type": "stream",
          "text": [
            "\rTraining Epoch 32:   0%|          | 0/180 [00:00<?, ?it/s]"
          ],
          "name": "stderr"
        },
        {
          "output_type": "stream",
          "text": [
            "\n",
            "---Evaluation---\n",
            "Training Loss 0.646628201007843\n",
            "Validation loss: 0.76628577709198\n",
            "\n",
            "Epoch: 32\n",
            "---- Training Model ----\n"
          ],
          "name": "stdout"
        },
        {
          "output_type": "stream",
          "text": [
            "Training Epoch 32: 100%|██████████| 180/180 [02:01<00:00,  1.49it/s]"
          ],
          "name": "stderr"
        },
        {
          "output_type": "stream",
          "text": [
            "\n",
            "---- Validating Model ----\n"
          ],
          "name": "stdout"
        },
        {
          "output_type": "stream",
          "text": [
            "\n",
            "Validating: 100%|██████████| 20/20 [00:04<00:00,  4.17it/s]\n",
            "Computing AP: 100%|██████████| 1/1 [00:00<00:00, 434.87it/s]\n"
          ],
          "name": "stderr"
        },
        {
          "output_type": "stream",
          "text": [
            "---- mAP 0.42578 ----\n",
            "Precision: 0.8354430379746836, Recall: 0.4536082474226804\n",
            "---- Saving checkpoint to: 'checkpoints/yolov3_ckpt_32.pth' ----\n"
          ],
          "name": "stdout"
        },
        {
          "output_type": "stream",
          "text": [
            "\rTraining Epoch 33:   0%|          | 0/180 [00:00<?, ?it/s]"
          ],
          "name": "stderr"
        },
        {
          "output_type": "stream",
          "text": [
            "\n",
            "---Evaluation---\n",
            "Training Loss 0.683931827545166\n",
            "Validation loss: 0.8075333833694458\n",
            "\n",
            "Epoch: 33\n",
            "---- Training Model ----\n"
          ],
          "name": "stdout"
        },
        {
          "output_type": "stream",
          "text": [
            "Training Epoch 33: 100%|██████████| 180/180 [02:10<00:00,  1.38it/s]"
          ],
          "name": "stderr"
        },
        {
          "output_type": "stream",
          "text": [
            "\n",
            "---- Validating Model ----\n"
          ],
          "name": "stdout"
        },
        {
          "output_type": "stream",
          "text": [
            "\n",
            "Validating: 100%|██████████| 20/20 [00:04<00:00,  4.04it/s]\n",
            "Computing AP: 100%|██████████| 1/1 [00:00<00:00, 300.45it/s]\n"
          ],
          "name": "stderr"
        },
        {
          "output_type": "stream",
          "text": [
            "---- mAP 0.73425 ----\n",
            "Precision: 0.8549618320610687, Recall: 0.7697594501718213\n",
            "---- Saving checkpoint to: 'checkpoints/yolov3_ckpt_33.pth' ----\n"
          ],
          "name": "stdout"
        },
        {
          "output_type": "stream",
          "text": [
            "\rTraining Epoch 34:   0%|          | 0/180 [00:00<?, ?it/s]"
          ],
          "name": "stderr"
        },
        {
          "output_type": "stream",
          "text": [
            "\n",
            "---Evaluation---\n",
            "Training Loss 0.8737384080886841\n",
            "Validation loss: 0.7409732937812805\n",
            "\n",
            "Epoch: 34\n",
            "---- Training Model ----\n"
          ],
          "name": "stdout"
        },
        {
          "output_type": "stream",
          "text": [
            "Training Epoch 34: 100%|██████████| 180/180 [02:19<00:00,  1.29it/s]"
          ],
          "name": "stderr"
        },
        {
          "output_type": "stream",
          "text": [
            "\n",
            "---- Validating Model ----\n"
          ],
          "name": "stdout"
        },
        {
          "output_type": "stream",
          "text": [
            "\n",
            "Validating: 100%|██████████| 20/20 [00:04<00:00,  4.05it/s]\n",
            "Computing AP: 100%|██████████| 1/1 [00:00<00:00, 244.55it/s]\n"
          ],
          "name": "stderr"
        },
        {
          "output_type": "stream",
          "text": [
            "---- mAP 0.67475 ----\n",
            "Precision: 0.805019305019305, Recall: 0.7164948453608248\n",
            "---- Saving checkpoint to: 'checkpoints/yolov3_ckpt_34.pth' ----\n"
          ],
          "name": "stdout"
        },
        {
          "output_type": "stream",
          "text": [
            "\rTraining Epoch 35:   0%|          | 0/180 [00:00<?, ?it/s]"
          ],
          "name": "stderr"
        },
        {
          "output_type": "stream",
          "text": [
            "\n",
            "---Evaluation---\n",
            "Training Loss 0.7085673809051514\n",
            "Validation loss: 0.7990975975990295\n",
            "\n",
            "Epoch: 35\n",
            "---- Training Model ----\n"
          ],
          "name": "stdout"
        },
        {
          "output_type": "stream",
          "text": [
            "Training Epoch 35: 100%|██████████| 180/180 [02:13<00:00,  1.35it/s]"
          ],
          "name": "stderr"
        },
        {
          "output_type": "stream",
          "text": [
            "\n",
            "---- Validating Model ----\n"
          ],
          "name": "stdout"
        },
        {
          "output_type": "stream",
          "text": [
            "\n",
            "Validating: 100%|██████████| 20/20 [00:04<00:00,  4.09it/s]\n",
            "Computing AP: 100%|██████████| 1/1 [00:00<00:00, 297.79it/s]\n"
          ],
          "name": "stderr"
        },
        {
          "output_type": "stream",
          "text": [
            "---- mAP 0.68924 ----\n",
            "Precision: 0.8773784355179705, Recall: 0.7130584192439863\n",
            "---- Saving checkpoint to: 'checkpoints/yolov3_ckpt_35.pth' ----\n"
          ],
          "name": "stdout"
        },
        {
          "output_type": "stream",
          "text": [
            "\rTraining Epoch 36:   0%|          | 0/180 [00:00<?, ?it/s]"
          ],
          "name": "stderr"
        },
        {
          "output_type": "stream",
          "text": [
            "\n",
            "---Evaluation---\n",
            "Training Loss 0.655464231967926\n",
            "Validation loss: 0.8119441270828247\n",
            "\n",
            "Epoch: 36\n",
            "---- Training Model ----\n"
          ],
          "name": "stdout"
        },
        {
          "output_type": "stream",
          "text": [
            "Training Epoch 36: 100%|██████████| 180/180 [02:23<00:00,  1.26it/s]"
          ],
          "name": "stderr"
        },
        {
          "output_type": "stream",
          "text": [
            "\n",
            "---- Validating Model ----\n"
          ],
          "name": "stdout"
        },
        {
          "output_type": "stream",
          "text": [
            "\n",
            "Validating: 100%|██████████| 20/20 [00:04<00:00,  4.14it/s]\n",
            "Computing AP: 100%|██████████| 1/1 [00:00<00:00, 455.16it/s]\n"
          ],
          "name": "stderr"
        },
        {
          "output_type": "stream",
          "text": [
            "---- mAP 0.57864 ----\n",
            "Precision: 0.8436018957345972, Recall: 0.6116838487972509\n",
            "---- Saving checkpoint to: 'checkpoints/yolov3_ckpt_36.pth' ----\n"
          ],
          "name": "stdout"
        },
        {
          "output_type": "stream",
          "text": [
            "\rTraining Epoch 37:   0%|          | 0/180 [00:00<?, ?it/s]"
          ],
          "name": "stderr"
        },
        {
          "output_type": "stream",
          "text": [
            "\n",
            "---Evaluation---\n",
            "Training Loss 0.7509738206863403\n",
            "Validation loss: 0.9430239200592041\n",
            "\n",
            "Epoch: 37\n",
            "---- Training Model ----\n"
          ],
          "name": "stdout"
        },
        {
          "output_type": "stream",
          "text": [
            "Training Epoch 37: 100%|██████████| 180/180 [02:19<00:00,  1.29it/s]"
          ],
          "name": "stderr"
        },
        {
          "output_type": "stream",
          "text": [
            "\n",
            "---- Validating Model ----\n"
          ],
          "name": "stdout"
        },
        {
          "output_type": "stream",
          "text": [
            "\n",
            "Validating: 100%|██████████| 20/20 [00:04<00:00,  4.09it/s]\n",
            "Computing AP: 100%|██████████| 1/1 [00:00<00:00, 573.78it/s]\n"
          ],
          "name": "stderr"
        },
        {
          "output_type": "stream",
          "text": [
            "---- mAP 0.65825 ----\n",
            "Precision: 0.8611713665943601, Recall: 0.6821305841924399\n",
            "---- Saving checkpoint to: 'checkpoints/yolov3_ckpt_37.pth' ----\n"
          ],
          "name": "stdout"
        },
        {
          "output_type": "stream",
          "text": [
            "\rTraining Epoch 38:   0%|          | 0/180 [00:00<?, ?it/s]"
          ],
          "name": "stderr"
        },
        {
          "output_type": "stream",
          "text": [
            "\n",
            "---Evaluation---\n",
            "Training Loss 0.7941316366195679\n",
            "Validation loss: 0.7475430369377136\n",
            "\n",
            "Epoch: 38\n",
            "---- Training Model ----\n"
          ],
          "name": "stdout"
        },
        {
          "output_type": "stream",
          "text": [
            "Training Epoch 38: 100%|██████████| 180/180 [02:09<00:00,  1.39it/s]"
          ],
          "name": "stderr"
        },
        {
          "output_type": "stream",
          "text": [
            "\n",
            "---- Validating Model ----\n"
          ],
          "name": "stdout"
        },
        {
          "output_type": "stream",
          "text": [
            "\n",
            "Validating: 100%|██████████| 20/20 [00:04<00:00,  4.09it/s]\n",
            "Computing AP: 100%|██████████| 1/1 [00:00<00:00, 301.84it/s]\n"
          ],
          "name": "stderr"
        },
        {
          "output_type": "stream",
          "text": [
            "---- mAP 0.55006 ----\n",
            "Precision: 0.8138424821002387, Recall: 0.5859106529209622\n",
            "---- Saving checkpoint to: 'checkpoints/yolov3_ckpt_38.pth' ----\n"
          ],
          "name": "stdout"
        },
        {
          "output_type": "stream",
          "text": [
            "\rTraining Epoch 39:   0%|          | 0/180 [00:00<?, ?it/s]"
          ],
          "name": "stderr"
        },
        {
          "output_type": "stream",
          "text": [
            "\n",
            "---Evaluation---\n",
            "Training Loss 0.782333254814148\n",
            "Validation loss: 0.7346295118331909\n",
            "\n",
            "Epoch: 39\n",
            "---- Training Model ----\n"
          ],
          "name": "stdout"
        },
        {
          "output_type": "stream",
          "text": [
            "Training Epoch 39: 100%|██████████| 180/180 [02:10<00:00,  1.38it/s]"
          ],
          "name": "stderr"
        },
        {
          "output_type": "stream",
          "text": [
            "\n",
            "---- Validating Model ----\n"
          ],
          "name": "stdout"
        },
        {
          "output_type": "stream",
          "text": [
            "\n",
            "Validating: 100%|██████████| 20/20 [00:04<00:00,  4.10it/s]\n",
            "Computing AP: 100%|██████████| 1/1 [00:00<00:00, 277.81it/s]\n"
          ],
          "name": "stderr"
        },
        {
          "output_type": "stream",
          "text": [
            "---- mAP 0.64761 ----\n",
            "Precision: 0.7723880597014925, Recall: 0.711340206185567\n",
            "---- Saving checkpoint to: 'checkpoints/yolov3_ckpt_39.pth' ----\n"
          ],
          "name": "stdout"
        },
        {
          "output_type": "stream",
          "text": [
            "\rTraining Epoch 40:   0%|          | 0/180 [00:00<?, ?it/s]"
          ],
          "name": "stderr"
        },
        {
          "output_type": "stream",
          "text": [
            "\n",
            "---Evaluation---\n",
            "Training Loss 0.8169596195220947\n",
            "Validation loss: 0.7502521276473999\n",
            "\n",
            "Epoch: 40\n",
            "---- Training Model ----\n"
          ],
          "name": "stdout"
        },
        {
          "output_type": "stream",
          "text": [
            "Training Epoch 40: 100%|██████████| 180/180 [02:14<00:00,  1.34it/s]"
          ],
          "name": "stderr"
        },
        {
          "output_type": "stream",
          "text": [
            "\n",
            "---- Validating Model ----\n"
          ],
          "name": "stdout"
        },
        {
          "output_type": "stream",
          "text": [
            "\n",
            "Validating: 100%|██████████| 20/20 [00:04<00:00,  4.06it/s]\n",
            "Computing AP: 100%|██████████| 1/1 [00:00<00:00, 230.56it/s]\n"
          ],
          "name": "stderr"
        },
        {
          "output_type": "stream",
          "text": [
            "---- mAP 0.69410 ----\n",
            "Precision: 0.6886503067484663, Recall: 0.7714776632302406\n",
            "---- Saving checkpoint to: 'checkpoints/yolov3_ckpt_40.pth' ----\n"
          ],
          "name": "stdout"
        },
        {
          "output_type": "stream",
          "text": [
            "\rTraining Epoch 41:   0%|          | 0/180 [00:00<?, ?it/s]"
          ],
          "name": "stderr"
        },
        {
          "output_type": "stream",
          "text": [
            "\n",
            "---Evaluation---\n",
            "Training Loss 0.800014317035675\n",
            "Validation loss: 0.736683189868927\n",
            "\n",
            "Epoch: 41\n",
            "---- Training Model ----\n"
          ],
          "name": "stdout"
        },
        {
          "output_type": "stream",
          "text": [
            "Training Epoch 41: 100%|██████████| 180/180 [02:05<00:00,  1.43it/s]"
          ],
          "name": "stderr"
        },
        {
          "output_type": "stream",
          "text": [
            "\n",
            "---- Validating Model ----\n"
          ],
          "name": "stdout"
        },
        {
          "output_type": "stream",
          "text": [
            "\n",
            "Validating: 100%|██████████| 20/20 [00:04<00:00,  4.07it/s]\n",
            "Computing AP: 100%|██████████| 1/1 [00:00<00:00, 544.22it/s]\n"
          ],
          "name": "stderr"
        },
        {
          "output_type": "stream",
          "text": [
            "---- mAP 0.66827 ----\n",
            "Precision: 0.8696581196581197, Recall: 0.6993127147766323\n",
            "---- Saving checkpoint to: 'checkpoints/yolov3_ckpt_41.pth' ----\n"
          ],
          "name": "stdout"
        },
        {
          "output_type": "stream",
          "text": [
            "\rTraining Epoch 42:   0%|          | 0/180 [00:00<?, ?it/s]"
          ],
          "name": "stderr"
        },
        {
          "output_type": "stream",
          "text": [
            "\n",
            "---Evaluation---\n",
            "Training Loss 0.7028411030769348\n",
            "Validation loss: 0.7434852719306946\n",
            "\n",
            "Epoch: 42\n",
            "---- Training Model ----\n"
          ],
          "name": "stdout"
        },
        {
          "output_type": "stream",
          "text": [
            "Training Epoch 42: 100%|██████████| 180/180 [02:12<00:00,  1.35it/s]"
          ],
          "name": "stderr"
        },
        {
          "output_type": "stream",
          "text": [
            "\n",
            "---- Validating Model ----\n"
          ],
          "name": "stdout"
        },
        {
          "output_type": "stream",
          "text": [
            "\n",
            "Validating: 100%|██████████| 20/20 [00:04<00:00,  4.05it/s]\n",
            "Computing AP: 100%|██████████| 1/1 [00:00<00:00, 375.06it/s]\n"
          ],
          "name": "stderr"
        },
        {
          "output_type": "stream",
          "text": [
            "---- mAP 0.63461 ----\n",
            "Precision: 0.7613636363636364, Recall: 0.6907216494845361\n",
            "---- Saving checkpoint to: 'checkpoints/yolov3_ckpt_42.pth' ----\n"
          ],
          "name": "stdout"
        },
        {
          "output_type": "stream",
          "text": [
            "\rTraining Epoch 43:   0%|          | 0/180 [00:00<?, ?it/s]"
          ],
          "name": "stderr"
        },
        {
          "output_type": "stream",
          "text": [
            "\n",
            "---Evaluation---\n",
            "Training Loss 1.0023462772369385\n",
            "Validation loss: 0.8079617023468018\n",
            "\n",
            "Epoch: 43\n",
            "---- Training Model ----\n"
          ],
          "name": "stdout"
        },
        {
          "output_type": "stream",
          "text": [
            "Training Epoch 43: 100%|██████████| 180/180 [02:08<00:00,  1.40it/s]"
          ],
          "name": "stderr"
        },
        {
          "output_type": "stream",
          "text": [
            "\n",
            "---- Validating Model ----\n"
          ],
          "name": "stdout"
        },
        {
          "output_type": "stream",
          "text": [
            "\n",
            "Validating: 100%|██████████| 20/20 [00:04<00:00,  4.02it/s]\n",
            "Computing AP: 100%|██████████| 1/1 [00:00<00:00, 506.13it/s]\n"
          ],
          "name": "stderr"
        },
        {
          "output_type": "stream",
          "text": [
            "---- mAP 0.67016 ----\n",
            "Precision: 0.8058823529411765, Recall: 0.7061855670103093\n",
            "---- Saving checkpoint to: 'checkpoints/yolov3_ckpt_43.pth' ----\n"
          ],
          "name": "stdout"
        },
        {
          "output_type": "stream",
          "text": [
            "\rTraining Epoch 44:   0%|          | 0/180 [00:00<?, ?it/s]"
          ],
          "name": "stderr"
        },
        {
          "output_type": "stream",
          "text": [
            "\n",
            "---Evaluation---\n",
            "Training Loss 0.6680743098258972\n",
            "Validation loss: 0.7580993175506592\n",
            "\n",
            "Epoch: 44\n",
            "---- Training Model ----\n"
          ],
          "name": "stdout"
        },
        {
          "output_type": "stream",
          "text": [
            "Training Epoch 44: 100%|██████████| 180/180 [02:11<00:00,  1.37it/s]"
          ],
          "name": "stderr"
        },
        {
          "output_type": "stream",
          "text": [
            "\n",
            "---- Validating Model ----\n"
          ],
          "name": "stdout"
        },
        {
          "output_type": "stream",
          "text": [
            "\n",
            "Validating: 100%|██████████| 20/20 [00:04<00:00,  4.05it/s]\n",
            "Computing AP: 100%|██████████| 1/1 [00:00<00:00, 271.16it/s]\n"
          ],
          "name": "stderr"
        },
        {
          "output_type": "stream",
          "text": [
            "---- mAP 0.76767 ----\n",
            "Precision: 0.8109965635738832, Recall: 0.8109965635738832\n",
            "---- Saving checkpoint to: 'checkpoints/yolov3_ckpt_44.pth' ----\n"
          ],
          "name": "stdout"
        },
        {
          "output_type": "stream",
          "text": [
            "\rTraining Epoch 45:   0%|          | 0/180 [00:00<?, ?it/s]"
          ],
          "name": "stderr"
        },
        {
          "output_type": "stream",
          "text": [
            "\n",
            "---Evaluation---\n",
            "Training Loss 0.6932424902915955\n",
            "Validation loss: 0.7247505784034729\n",
            "\n",
            "Epoch: 45\n",
            "---- Training Model ----\n"
          ],
          "name": "stdout"
        },
        {
          "output_type": "stream",
          "text": [
            "Training Epoch 45: 100%|██████████| 180/180 [02:19<00:00,  1.29it/s]"
          ],
          "name": "stderr"
        },
        {
          "output_type": "stream",
          "text": [
            "\n",
            "---- Validating Model ----\n"
          ],
          "name": "stdout"
        },
        {
          "output_type": "stream",
          "text": [
            "\n",
            "Validating: 100%|██████████| 20/20 [00:04<00:00,  4.16it/s]\n",
            "Computing AP: 100%|██████████| 1/1 [00:00<00:00, 552.83it/s]\n"
          ],
          "name": "stderr"
        },
        {
          "output_type": "stream",
          "text": [
            "---- mAP 0.61001 ----\n",
            "Precision: 0.8185745140388769, Recall: 0.6512027491408935\n",
            "---- Saving checkpoint to: 'checkpoints/yolov3_ckpt_45.pth' ----\n"
          ],
          "name": "stdout"
        },
        {
          "output_type": "stream",
          "text": [
            "\rTraining Epoch 46:   0%|          | 0/180 [00:00<?, ?it/s]"
          ],
          "name": "stderr"
        },
        {
          "output_type": "stream",
          "text": [
            "\n",
            "---Evaluation---\n",
            "Training Loss 0.8104058504104614\n",
            "Validation loss: 0.7419933080673218\n",
            "\n",
            "Epoch: 46\n",
            "---- Training Model ----\n"
          ],
          "name": "stdout"
        },
        {
          "output_type": "stream",
          "text": [
            "Training Epoch 46: 100%|██████████| 180/180 [02:16<00:00,  1.32it/s]"
          ],
          "name": "stderr"
        },
        {
          "output_type": "stream",
          "text": [
            "\n",
            "---- Validating Model ----\n"
          ],
          "name": "stdout"
        },
        {
          "output_type": "stream",
          "text": [
            "\n",
            "Validating: 100%|██████████| 20/20 [00:04<00:00,  4.03it/s]\n",
            "Computing AP: 100%|██████████| 1/1 [00:00<00:00, 153.19it/s]\n"
          ],
          "name": "stderr"
        },
        {
          "output_type": "stream",
          "text": [
            "---- mAP 0.73277 ----\n",
            "Precision: 0.8287795992714025, Recall: 0.781786941580756\n",
            "---- Saving checkpoint to: 'checkpoints/yolov3_ckpt_46.pth' ----\n"
          ],
          "name": "stdout"
        },
        {
          "output_type": "stream",
          "text": [
            "\rTraining Epoch 47:   0%|          | 0/180 [00:00<?, ?it/s]"
          ],
          "name": "stderr"
        },
        {
          "output_type": "stream",
          "text": [
            "\n",
            "---Evaluation---\n",
            "Training Loss 0.8008289337158203\n",
            "Validation loss: 0.7623700499534607\n",
            "\n",
            "Epoch: 47\n",
            "---- Training Model ----\n"
          ],
          "name": "stdout"
        },
        {
          "output_type": "stream",
          "text": [
            "Training Epoch 47: 100%|██████████| 180/180 [02:02<00:00,  1.47it/s]"
          ],
          "name": "stderr"
        },
        {
          "output_type": "stream",
          "text": [
            "\n",
            "---- Validating Model ----\n"
          ],
          "name": "stdout"
        },
        {
          "output_type": "stream",
          "text": [
            "\n",
            "Validating: 100%|██████████| 20/20 [00:04<00:00,  4.05it/s]\n",
            "Computing AP: 100%|██████████| 1/1 [00:00<00:00, 123.97it/s]\n"
          ],
          "name": "stderr"
        },
        {
          "output_type": "stream",
          "text": [
            "---- mAP 0.73386 ----\n",
            "Precision: 0.7839721254355401, Recall: 0.7731958762886598\n",
            "---- Saving checkpoint to: 'checkpoints/yolov3_ckpt_47.pth' ----\n"
          ],
          "name": "stdout"
        },
        {
          "output_type": "stream",
          "text": [
            "\rTraining Epoch 48:   0%|          | 0/180 [00:00<?, ?it/s]"
          ],
          "name": "stderr"
        },
        {
          "output_type": "stream",
          "text": [
            "\n",
            "---Evaluation---\n",
            "Training Loss 0.6268535852432251\n",
            "Validation loss: 0.7592546939849854\n",
            "\n",
            "Epoch: 48\n",
            "---- Training Model ----\n"
          ],
          "name": "stdout"
        },
        {
          "output_type": "stream",
          "text": [
            "Training Epoch 48: 100%|██████████| 180/180 [02:15<00:00,  1.33it/s]"
          ],
          "name": "stderr"
        },
        {
          "output_type": "stream",
          "text": [
            "\n",
            "---- Validating Model ----\n"
          ],
          "name": "stdout"
        },
        {
          "output_type": "stream",
          "text": [
            "\n",
            "Validating: 100%|██████████| 20/20 [00:04<00:00,  4.17it/s]\n",
            "Computing AP: 100%|██████████| 1/1 [00:00<00:00, 376.81it/s]\n"
          ],
          "name": "stderr"
        },
        {
          "output_type": "stream",
          "text": [
            "---- mAP 0.59880 ----\n",
            "Precision: 0.8151447661469933, Recall: 0.6288659793814433\n",
            "---- Saving checkpoint to: 'checkpoints/yolov3_ckpt_48.pth' ----\n"
          ],
          "name": "stdout"
        },
        {
          "output_type": "stream",
          "text": [
            "\rTraining Epoch 49:   0%|          | 0/180 [00:00<?, ?it/s]"
          ],
          "name": "stderr"
        },
        {
          "output_type": "stream",
          "text": [
            "\n",
            "---Evaluation---\n",
            "Training Loss 0.6425876617431641\n",
            "Validation loss: 0.7725457549095154\n",
            "\n",
            "Epoch: 49\n",
            "---- Training Model ----\n"
          ],
          "name": "stdout"
        },
        {
          "output_type": "stream",
          "text": [
            "Training Epoch 49: 100%|██████████| 180/180 [02:07<00:00,  1.41it/s]"
          ],
          "name": "stderr"
        },
        {
          "output_type": "stream",
          "text": [
            "\n",
            "---- Validating Model ----\n"
          ],
          "name": "stdout"
        },
        {
          "output_type": "stream",
          "text": [
            "\n",
            "Validating: 100%|██████████| 20/20 [00:04<00:00,  4.06it/s]\n",
            "Computing AP: 100%|██████████| 1/1 [00:00<00:00, 272.45it/s]\n"
          ],
          "name": "stderr"
        },
        {
          "output_type": "stream",
          "text": [
            "---- mAP 0.74511 ----\n",
            "Precision: 0.7379095163806553, Recall: 0.8127147766323024\n",
            "---- Saving checkpoint to: 'checkpoints/yolov3_ckpt_49.pth' ----\n",
            "\n",
            "---Evaluation---\n",
            "Training Loss 0.7512170672416687\n",
            "Validation loss: 0.6778684258460999\n"
          ],
          "name": "stdout"
        }
      ]
    },
    {
      "cell_type": "code",
      "metadata": {
        "id": "NmGFvPHXDOHa"
      },
      "source": [
        "# Download file\n",
        "files.download('checkpoints/yolov3_ckpt_49.pth')"
      ],
      "execution_count": null,
      "outputs": []
    },
    {
      "cell_type": "code",
      "metadata": {
        "id": "oaxSauNcFmuJ"
      },
      "source": [
        "# Upload file\n",
        "files.upload()"
      ],
      "execution_count": null,
      "outputs": []
    },
    {
      "cell_type": "markdown",
      "metadata": {
        "id": "h5BRYSsNfsBo"
      },
      "source": [
        "## Analysis and Plotting"
      ]
    },
    {
      "cell_type": "code",
      "metadata": {
        "id": "XawVN5P9VxaX"
      },
      "source": [
        "# Plot statistics\n",
        "\n",
        "def plot_stats(stats_file):\n",
        "    training_losses = []\n",
        "    validation_losses = []\n",
        "    precision_vals = []\n",
        "    recall_vals = []\n",
        "\n",
        "    with open(stats_file) as f:\n",
        "        for line in f:\n",
        "            tl, vl, precision, recall = line.rstrip(\"\\n\").split()\n",
        "            training_losses.append(float(tl))\n",
        "            validation_losses.append(float(vl))\n",
        "            precision_vals.append(float(precision))\n",
        "            recall_vals.append(float(recall))\n",
        "\n",
        "    epochs = len(training_losses)\n",
        "\n",
        "    fig, axs = plt.subplots(2, 2, figsize=(16, 16))\n",
        "\n",
        "    axs[0,0].plot(range(1, epochs+1), training_losses, label=\"Training Loss\")\n",
        "    axs[0,0].plot(range(1, epochs+1), validation_losses, label=\"Validation Loss\")\n",
        "    axs[0,0].set_xlim(1, epochs)\n",
        "    axs[0,0].set_xlabel(\"Epoch\")\n",
        "    axs[0,0].set_ylabel(\"Loss\")\n",
        "    axs[0,0].legend()\n",
        "    axs[0,0].grid(True)\n",
        "\n",
        "    axs[0,1].scatter(recall_vals, precision_vals)\n",
        "    axs[0,1].set_xlim(-0.1, 1.1)\n",
        "    axs[0,1].set_ylim(-0.1, 1.1)\n",
        "    axs[0,1].set_xlabel(\"Recall\")\n",
        "    axs[0,1].set_ylabel(\"Precision\")\n",
        "    axs[0,1].grid(True)\n",
        "\n",
        "    axs[1,0].scatter(range(1, epochs+1), recall_vals)\n",
        "    axs[1,0].set_xlim(1, epochs)\n",
        "    axs[1,0].set_ylim(-0.1, 1.1)\n",
        "    axs[1,0].set_xlabel(\"Epoch\")\n",
        "    axs[1,0].set_ylabel(\"Recall\")\n",
        "    axs[1,0].grid(True)\n",
        "\n",
        "    axs[1,1].scatter(range(1, epochs+1), precision_vals)\n",
        "    axs[1,1].set_xlim(1, epochs)\n",
        "    axs[1,1].set_ylim(-0.1, 1.1)\n",
        "    axs[1,1].set_xlabel(\"Epoch\")\n",
        "    axs[1,1].set_ylabel(\"Precision\")\n",
        "    axs[1,1].grid(True)"
      ],
      "execution_count": null,
      "outputs": []
    },
    {
      "cell_type": "code",
      "metadata": {
        "id": "WwNGkTdeYBYB"
      },
      "source": [
        "plot_stats('stats.txt')"
      ],
      "execution_count": null,
      "outputs": []
    },
    {
      "cell_type": "code",
      "metadata": {
        "id": "hYBCs0I-W8MT"
      },
      "source": [
        "class PRcurve:\n",
        "    def __init__(self, weights_path, start=0.05, stop=0.5, n=10):\n",
        "        self.confs = np.linspace(start, stop, num=n)\n",
        "        self.precisions = []\n",
        "        self.recalls = []\n",
        "\n",
        "        for i, conf in enumerate(self.confs):\n",
        "            print(\"\\n%i/%i: Confidence Threshold = %.3f\" % (i+1, n, conf))\n",
        "            metrics = evaluate_model_file('yolov3.cfg', weights_path, 'data/valid.txt', ['crater'], batch_size=32, n_cpu=2, conf_thres=conf, verbose=False)\n",
        "            self.precisions.append(float(metrics[0]))\n",
        "            self.recalls.append(float(metrics[1]))\n",
        "            print(\"Precision = %.3f, Recall = %.3f\" % (metrics[0], metrics[1]))\n",
        "\n",
        "        list_to_file([self.precisions, self.recalls], \"PRstats.txt\")\n",
        "        self.auc_score = auc(self.recalls, self.precisions)\n",
        "\n",
        "    def plot(self):\n",
        "        fig, ax = plt.subplots(1, 1, figsize=(8, 8))\n",
        "\n",
        "        ax.plot(self.recalls, self.precisions)\n",
        "        ax.set_title(\"Precision-Recall Curve, AUC = %.2f\" % self.auc_score)\n",
        "        ax.set_xlim(0, 1)\n",
        "        ax.set_ylim(0, 1)\n",
        "        ax.set_xlabel(\"Recall\")\n",
        "        ax.set_ylabel(\"Precision\")\n",
        "        ax.grid(True)"
      ],
      "execution_count": null,
      "outputs": []
    },
    {
      "cell_type": "code",
      "metadata": {
        "id": "dzcjCeqUXwzw"
      },
      "source": [
        "# 50 epochs not pre-trained\n",
        "set1 = PRcurve('/content/drive/MyDrive/CDA/ckpt_50.pth')\n",
        "set1.plot()"
      ],
      "execution_count": null,
      "outputs": []
    },
    {
      "cell_type": "code",
      "metadata": {
        "id": "4V-xddfpLRi1"
      },
      "source": [
        "# 50 epochs pre-trained\n",
        "set2 = PRcurve('/content/drive/MyDrive/CDA/ckpt_50_pt.pth')\n",
        "set2.plot()"
      ],
      "execution_count": null,
      "outputs": []
    },
    {
      "cell_type": "markdown",
      "metadata": {
        "id": "flxXrSmcfxW8"
      },
      "source": [
        "## Detections"
      ]
    },
    {
      "cell_type": "code",
      "metadata": {
        "id": "Niejd91izL5I"
      },
      "source": [
        "# Perform detections on a directory\n",
        "\n",
        "#directory = '/content/YOLOv3-CDA/data/samples/'    # Sample Directory\n",
        "directory = '/content/YOLOv3-CDA/data/HiRISE/'      # Tiles from HiRISE\n",
        "\n",
        "with open(\"/content/YOLOv3-CDA/data/sample_paths.txt\", \"w\") as samples:\n",
        "    n = 0\n",
        "    for root, dirs, files in os.walk(directory):\n",
        "        for file in files:\n",
        "            samples.write(directory+file+\"\\n\")\n",
        "            n += 1\n",
        "\n",
        "detect_directory('yolov3.cfg', '/content/drive/MyDrive/CDA/ckpt_50_pt.pth', directory, ['crater'], 'output', batch_size=1, n_cpu=2, conf_thres=0.1)"
      ],
      "execution_count": null,
      "outputs": []
    }
  ]
}